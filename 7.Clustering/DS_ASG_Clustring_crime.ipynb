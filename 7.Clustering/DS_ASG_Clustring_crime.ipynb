{
 "cells": [
  {
   "cell_type": "code",
   "execution_count": 23,
   "id": "07eeb5ea",
   "metadata": {
    "ExecuteTime": {
     "end_time": "2022-02-10T05:58:14.088830Z",
     "start_time": "2022-02-10T05:58:14.072827Z"
    }
   },
   "outputs": [],
   "source": [
    "import pandas as pd \n",
    "import numpy as np\n",
    "import scipy.cluster.hierarchy as sch\n",
    "from sklearn.cluster import AgglomerativeClustering\n",
    "from sklearn.preprocessing import normalize "
   ]
  },
  {
   "cell_type": "code",
   "execution_count": 2,
   "id": "3ab041c2",
   "metadata": {
    "ExecuteTime": {
     "end_time": "2022-02-09T16:20:25.159733Z",
     "start_time": "2022-02-09T16:20:25.095717Z"
    }
   },
   "outputs": [
    {
     "data": {
      "text/html": [
       "<div>\n",
       "<style scoped>\n",
       "    .dataframe tbody tr th:only-of-type {\n",
       "        vertical-align: middle;\n",
       "    }\n",
       "\n",
       "    .dataframe tbody tr th {\n",
       "        vertical-align: top;\n",
       "    }\n",
       "\n",
       "    .dataframe thead th {\n",
       "        text-align: right;\n",
       "    }\n",
       "</style>\n",
       "<table border=\"1\" class=\"dataframe\">\n",
       "  <thead>\n",
       "    <tr style=\"text-align: right;\">\n",
       "      <th></th>\n",
       "      <th>Unnamed: 0</th>\n",
       "      <th>Murder</th>\n",
       "      <th>Assault</th>\n",
       "      <th>UrbanPop</th>\n",
       "      <th>Rape</th>\n",
       "    </tr>\n",
       "  </thead>\n",
       "  <tbody>\n",
       "    <tr>\n",
       "      <th>0</th>\n",
       "      <td>Alabama</td>\n",
       "      <td>13.2</td>\n",
       "      <td>236</td>\n",
       "      <td>58</td>\n",
       "      <td>21.2</td>\n",
       "    </tr>\n",
       "    <tr>\n",
       "      <th>1</th>\n",
       "      <td>Alaska</td>\n",
       "      <td>10.0</td>\n",
       "      <td>263</td>\n",
       "      <td>48</td>\n",
       "      <td>44.5</td>\n",
       "    </tr>\n",
       "    <tr>\n",
       "      <th>2</th>\n",
       "      <td>Arizona</td>\n",
       "      <td>8.1</td>\n",
       "      <td>294</td>\n",
       "      <td>80</td>\n",
       "      <td>31.0</td>\n",
       "    </tr>\n",
       "    <tr>\n",
       "      <th>3</th>\n",
       "      <td>Arkansas</td>\n",
       "      <td>8.8</td>\n",
       "      <td>190</td>\n",
       "      <td>50</td>\n",
       "      <td>19.5</td>\n",
       "    </tr>\n",
       "    <tr>\n",
       "      <th>4</th>\n",
       "      <td>California</td>\n",
       "      <td>9.0</td>\n",
       "      <td>276</td>\n",
       "      <td>91</td>\n",
       "      <td>40.6</td>\n",
       "    </tr>\n",
       "  </tbody>\n",
       "</table>\n",
       "</div>"
      ],
      "text/plain": [
       "   Unnamed: 0  Murder  Assault  UrbanPop  Rape\n",
       "0     Alabama    13.2      236        58  21.2\n",
       "1      Alaska    10.0      263        48  44.5\n",
       "2     Arizona     8.1      294        80  31.0\n",
       "3    Arkansas     8.8      190        50  19.5\n",
       "4  California     9.0      276        91  40.6"
      ]
     },
     "execution_count": 2,
     "metadata": {},
     "output_type": "execute_result"
    }
   ],
   "source": [
    "df=pd.read_csv(\"crime_data.csv\")\n",
    "df.head()"
   ]
  },
  {
   "cell_type": "code",
   "execution_count": 4,
   "id": "6faf0a6d",
   "metadata": {
    "ExecuteTime": {
     "end_time": "2022-02-09T16:20:31.148584Z",
     "start_time": "2022-02-09T16:20:31.132580Z"
    }
   },
   "outputs": [],
   "source": [
    "def min_max(val):\n",
    "    return (val-val.min())/(val.max()-val.min())"
   ]
  },
  {
   "cell_type": "code",
   "execution_count": 5,
   "id": "ca920fb0",
   "metadata": {
    "ExecuteTime": {
     "end_time": "2022-02-09T16:20:33.093341Z",
     "start_time": "2022-02-09T16:20:33.061342Z"
    }
   },
   "outputs": [
    {
     "data": {
      "text/html": [
       "<div>\n",
       "<style scoped>\n",
       "    .dataframe tbody tr th:only-of-type {\n",
       "        vertical-align: middle;\n",
       "    }\n",
       "\n",
       "    .dataframe tbody tr th {\n",
       "        vertical-align: top;\n",
       "    }\n",
       "\n",
       "    .dataframe thead th {\n",
       "        text-align: right;\n",
       "    }\n",
       "</style>\n",
       "<table border=\"1\" class=\"dataframe\">\n",
       "  <thead>\n",
       "    <tr style=\"text-align: right;\">\n",
       "      <th></th>\n",
       "      <th>Murder</th>\n",
       "      <th>Assault</th>\n",
       "      <th>UrbanPop</th>\n",
       "      <th>Rape</th>\n",
       "    </tr>\n",
       "  </thead>\n",
       "  <tbody>\n",
       "    <tr>\n",
       "      <th>0</th>\n",
       "      <td>0.746988</td>\n",
       "      <td>0.654110</td>\n",
       "      <td>0.440678</td>\n",
       "      <td>0.359173</td>\n",
       "    </tr>\n",
       "    <tr>\n",
       "      <th>1</th>\n",
       "      <td>0.554217</td>\n",
       "      <td>0.746575</td>\n",
       "      <td>0.271186</td>\n",
       "      <td>0.961240</td>\n",
       "    </tr>\n",
       "    <tr>\n",
       "      <th>2</th>\n",
       "      <td>0.439759</td>\n",
       "      <td>0.852740</td>\n",
       "      <td>0.813559</td>\n",
       "      <td>0.612403</td>\n",
       "    </tr>\n",
       "    <tr>\n",
       "      <th>3</th>\n",
       "      <td>0.481928</td>\n",
       "      <td>0.496575</td>\n",
       "      <td>0.305085</td>\n",
       "      <td>0.315245</td>\n",
       "    </tr>\n",
       "    <tr>\n",
       "      <th>4</th>\n",
       "      <td>0.493976</td>\n",
       "      <td>0.791096</td>\n",
       "      <td>1.000000</td>\n",
       "      <td>0.860465</td>\n",
       "    </tr>\n",
       "  </tbody>\n",
       "</table>\n",
       "</div>"
      ],
      "text/plain": [
       "     Murder   Assault  UrbanPop      Rape\n",
       "0  0.746988  0.654110  0.440678  0.359173\n",
       "1  0.554217  0.746575  0.271186  0.961240\n",
       "2  0.439759  0.852740  0.813559  0.612403\n",
       "3  0.481928  0.496575  0.305085  0.315245\n",
       "4  0.493976  0.791096  1.000000  0.860465"
      ]
     },
     "execution_count": 5,
     "metadata": {},
     "output_type": "execute_result"
    }
   ],
   "source": [
    "df_norm=min_max(df.iloc[:,1:])\n",
    "df_norm.head()"
   ]
  },
  {
   "cell_type": "code",
   "execution_count": 6,
   "id": "93585dd5",
   "metadata": {
    "ExecuteTime": {
     "end_time": "2022-02-09T16:20:35.933956Z",
     "start_time": "2022-02-09T16:20:34.495896Z"
    }
   },
   "outputs": [
    {
     "data": {
      "image/png": "[encoded data removed]",
      "text/plain": [
       "<Figure size 432x288 with 1 Axes>"
      ]
     },
     "metadata": {
      "needs_background": "light"
     },
     "output_type": "display_data"
    }
   ],
   "source": [
    "dendrogram=sch.dendrogram(sch.linkage(df_norm,method=\"complete\"))"
   ]
  },
  {
   "cell_type": "code",
   "execution_count": 7,
   "id": "f45c092a",
   "metadata": {
    "ExecuteTime": {
     "end_time": "2022-02-09T16:20:37.878558Z",
     "start_time": "2022-02-09T16:20:37.862558Z"
    }
   },
   "outputs": [
    {
     "data": {
      "text/plain": [
       "AgglomerativeClustering(linkage='complete', n_clusters=3)"
      ]
     },
     "execution_count": 7,
     "metadata": {},
     "output_type": "execute_result"
    }
   ],
   "source": [
    "hc=AgglomerativeClustering(n_clusters=3,affinity='euclidean',linkage='complete')\n",
    "hc"
   ]
  },
  {
   "cell_type": "code",
   "execution_count": 8,
   "id": "e0dd2afe",
   "metadata": {
    "ExecuteTime": {
     "end_time": "2022-02-09T16:20:39.728091Z",
     "start_time": "2022-02-09T16:20:39.704020Z"
    }
   },
   "outputs": [
    {
     "data": {
      "text/plain": [
       "array([0, 0, 0, 1, 0, 0, 1, 1, 0, 0, 1, 2, 0, 1, 2, 1, 1, 0, 2, 0, 1, 0,\n",
       "       1, 0, 0, 2, 2, 0, 2, 1, 0, 0, 0, 2, 1, 1, 1, 1, 1, 0, 2, 0, 0, 1,\n",
       "       2, 1, 1, 2, 1, 1], dtype=int64)"
      ]
     },
     "execution_count": 8,
     "metadata": {},
     "output_type": "execute_result"
    }
   ],
   "source": [
    "y_hc=hc.fit_predict(df_norm)\n",
    "y_hc"
   ]
  },
  {
   "cell_type": "code",
   "execution_count": 9,
   "id": "50d99923",
   "metadata": {
    "ExecuteTime": {
     "end_time": "2022-02-09T16:20:42.767878Z",
     "start_time": "2022-02-09T16:20:42.735881Z"
    }
   },
   "outputs": [
    {
     "data": {
      "text/html": [
       "<div>\n",
       "<style scoped>\n",
       "    .dataframe tbody tr th:only-of-type {\n",
       "        vertical-align: middle;\n",
       "    }\n",
       "\n",
       "    .dataframe tbody tr th {\n",
       "        vertical-align: top;\n",
       "    }\n",
       "\n",
       "    .dataframe thead th {\n",
       "        text-align: right;\n",
       "    }\n",
       "</style>\n",
       "<table border=\"1\" class=\"dataframe\">\n",
       "  <thead>\n",
       "    <tr style=\"text-align: right;\">\n",
       "      <th></th>\n",
       "      <th>Unnamed: 0</th>\n",
       "      <th>Murder</th>\n",
       "      <th>Assault</th>\n",
       "      <th>UrbanPop</th>\n",
       "      <th>Rape</th>\n",
       "      <th>clustered_id</th>\n",
       "    </tr>\n",
       "  </thead>\n",
       "  <tbody>\n",
       "    <tr>\n",
       "      <th>0</th>\n",
       "      <td>Alabama</td>\n",
       "      <td>13.2</td>\n",
       "      <td>236</td>\n",
       "      <td>58</td>\n",
       "      <td>21.2</td>\n",
       "      <td>0</td>\n",
       "    </tr>\n",
       "    <tr>\n",
       "      <th>1</th>\n",
       "      <td>Alaska</td>\n",
       "      <td>10.0</td>\n",
       "      <td>263</td>\n",
       "      <td>48</td>\n",
       "      <td>44.5</td>\n",
       "      <td>0</td>\n",
       "    </tr>\n",
       "    <tr>\n",
       "      <th>2</th>\n",
       "      <td>Arizona</td>\n",
       "      <td>8.1</td>\n",
       "      <td>294</td>\n",
       "      <td>80</td>\n",
       "      <td>31.0</td>\n",
       "      <td>0</td>\n",
       "    </tr>\n",
       "    <tr>\n",
       "      <th>3</th>\n",
       "      <td>Arkansas</td>\n",
       "      <td>8.8</td>\n",
       "      <td>190</td>\n",
       "      <td>50</td>\n",
       "      <td>19.5</td>\n",
       "      <td>1</td>\n",
       "    </tr>\n",
       "    <tr>\n",
       "      <th>4</th>\n",
       "      <td>California</td>\n",
       "      <td>9.0</td>\n",
       "      <td>276</td>\n",
       "      <td>91</td>\n",
       "      <td>40.6</td>\n",
       "      <td>0</td>\n",
       "    </tr>\n",
       "  </tbody>\n",
       "</table>\n",
       "</div>"
      ],
      "text/plain": [
       "   Unnamed: 0  Murder  Assault  UrbanPop  Rape  clustered_id\n",
       "0     Alabama    13.2      236        58  21.2             0\n",
       "1      Alaska    10.0      263        48  44.5             0\n",
       "2     Arizona     8.1      294        80  31.0             0\n",
       "3    Arkansas     8.8      190        50  19.5             1\n",
       "4  California     9.0      276        91  40.6             0"
      ]
     },
     "execution_count": 9,
     "metadata": {},
     "output_type": "execute_result"
    }
   ],
   "source": [
    "df['clustered_id']=y_hc\n",
    "df.head()"
   ]
  },
  {
   "cell_type": "code",
   "execution_count": 10,
   "id": "8b8d4770",
   "metadata": {
    "ExecuteTime": {
     "end_time": "2022-02-09T16:20:44.296171Z",
     "start_time": "2022-02-09T16:20:44.280172Z"
    }
   },
   "outputs": [
    {
     "data": {
      "text/plain": [
       "0    20\n",
       "1    20\n",
       "2    10\n",
       "Name: clustered_id, dtype: int64"
      ]
     },
     "execution_count": 10,
     "metadata": {},
     "output_type": "execute_result"
    }
   ],
   "source": [
    "df.clustered_id.value_counts()"
   ]
  },
  {
   "cell_type": "code",
   "execution_count": 11,
   "id": "f8920bab",
   "metadata": {
    "ExecuteTime": {
     "end_time": "2022-02-09T16:20:46.801165Z",
     "start_time": "2022-02-09T16:20:46.769167Z"
    },
    "scrolled": true
   },
   "outputs": [
    {
     "data": {
      "text/html": [
       "<div>\n",
       "<style scoped>\n",
       "    .dataframe tbody tr th:only-of-type {\n",
       "        vertical-align: middle;\n",
       "    }\n",
       "\n",
       "    .dataframe tbody tr th {\n",
       "        vertical-align: top;\n",
       "    }\n",
       "\n",
       "    .dataframe thead th {\n",
       "        text-align: right;\n",
       "    }\n",
       "</style>\n",
       "<table border=\"1\" class=\"dataframe\">\n",
       "  <thead>\n",
       "    <tr style=\"text-align: right;\">\n",
       "      <th></th>\n",
       "      <th>Murder</th>\n",
       "      <th>Assault</th>\n",
       "      <th>UrbanPop</th>\n",
       "      <th>Rape</th>\n",
       "    </tr>\n",
       "    <tr>\n",
       "      <th>clustered_id</th>\n",
       "      <th></th>\n",
       "      <th></th>\n",
       "      <th></th>\n",
       "      <th></th>\n",
       "    </tr>\n",
       "  </thead>\n",
       "  <tbody>\n",
       "    <tr>\n",
       "      <th>0</th>\n",
       "      <td>12.165</td>\n",
       "      <td>255.25</td>\n",
       "      <td>68.4</td>\n",
       "      <td>29.165</td>\n",
       "    </tr>\n",
       "    <tr>\n",
       "      <th>1</th>\n",
       "      <td>5.715</td>\n",
       "      <td>132.30</td>\n",
       "      <td>70.8</td>\n",
       "      <td>18.100</td>\n",
       "    </tr>\n",
       "    <tr>\n",
       "      <th>2</th>\n",
       "      <td>3.180</td>\n",
       "      <td>78.70</td>\n",
       "      <td>49.3</td>\n",
       "      <td>11.630</td>\n",
       "    </tr>\n",
       "  </tbody>\n",
       "</table>\n",
       "</div>"
      ],
      "text/plain": [
       "              Murder  Assault  UrbanPop    Rape\n",
       "clustered_id                                   \n",
       "0             12.165   255.25      68.4  29.165\n",
       "1              5.715   132.30      70.8  18.100\n",
       "2              3.180    78.70      49.3  11.630"
      ]
     },
     "execution_count": 11,
     "metadata": {},
     "output_type": "execute_result"
    }
   ],
   "source": [
    "df.groupby(\"clustered_id\").mean()"
   ]
  },
  {
   "cell_type": "markdown",
   "id": "641777f5",
   "metadata": {},
   "source": [
    "# k-means clustering"
   ]
  },
  {
   "cell_type": "code",
   "execution_count": 24,
   "id": "8ceacdf2",
   "metadata": {
    "ExecuteTime": {
     "end_time": "2022-02-10T05:59:45.766439Z",
     "start_time": "2022-02-10T05:59:45.758437Z"
    }
   },
   "outputs": [],
   "source": [
    "from sklearn.cluster import KMeans\n",
    "import matplotlib.pyplot as plt\n",
    "%matplotlib inline"
   ]
  },
  {
   "cell_type": "code",
   "execution_count": 25,
   "id": "15403055",
   "metadata": {
    "ExecuteTime": {
     "end_time": "2022-02-10T05:59:47.749829Z",
     "start_time": "2022-02-10T05:59:47.717834Z"
    }
   },
   "outputs": [
    {
     "data": {
      "text/plain": [
       "array([[ 1.25517927,  0.79078716, -0.52619514, -0.00345116,  1.5466429 ],\n",
       "       [ 0.51301858,  1.11805959, -1.22406668,  2.50942392, -1.39002083],\n",
       "       [ 0.07236067,  1.49381682,  1.00912225,  1.05346626, -1.39002083],\n",
       "       [ 0.23470832,  0.23321191, -1.08449238, -0.18679398,  0.56775499],\n",
       "       [ 0.28109336,  1.2756352 ,  1.77678094,  2.08881393, -1.39002083],\n",
       "       [ 0.02597562,  0.40290872,  0.86954794,  1.88390137, -1.39002083],\n",
       "       [-1.04088037, -0.73648418,  0.79976079, -1.09272319,  0.56775499],\n",
       "       [-0.43787481,  0.81502956,  0.45082502, -0.58583422,  0.56775499],\n",
       "       [ 1.76541475,  1.99078607,  1.00912225,  1.1505301 , -1.39002083],\n",
       "       [ 2.22926518,  0.48775713, -0.38662083,  0.49265293,  1.5466429 ],\n",
       "       [-0.57702994, -1.51224105,  1.21848371, -0.11129987,  0.56775499],\n",
       "       [-1.20322802, -0.61527217, -0.80534376, -0.75839217, -0.41113292],\n",
       "       [ 0.60578867,  0.94836277,  1.21848371,  0.29852525, -1.39002083],\n",
       "       [-0.13637203, -0.70012057, -0.03768506, -0.0250209 ,  0.56775499],\n",
       "       [-1.29599811, -1.39102904, -0.5959823 , -1.07115345, -0.41113292],\n",
       "       [-0.41468229, -0.67587817,  0.03210209, -0.34856705,  0.56775499],\n",
       "       [ 0.44344101, -0.74860538, -0.94491807, -0.53190987,  0.56775499],\n",
       "       [ 1.76541475,  0.94836277,  0.03210209,  0.10439756,  1.5466429 ],\n",
       "       [-1.31919063, -1.06375661, -1.01470522, -1.44862395, -0.41113292],\n",
       "       [ 0.81452136,  1.56654403,  0.10188925,  0.70835037, -1.39002083],\n",
       "       [-0.78576263, -0.26375734,  1.35805802, -0.53190987,  0.56775499],\n",
       "       [ 1.00006153,  1.02108998,  0.59039932,  1.49564599, -1.39002083],\n",
       "       [-1.1800355 , -1.19708982,  0.03210209, -0.68289807,  0.56775499],\n",
       "       [ 1.9277624 ,  1.06957478, -1.5032153 , -0.44563089,  1.5466429 ],\n",
       "       [ 0.28109336,  0.0877575 ,  0.31125071,  0.75148985, -1.39002083],\n",
       "       [-0.41468229, -0.74860538, -0.87513091, -0.521125  , -0.41113292],\n",
       "       [-0.80895515, -0.83345379, -0.24704653, -0.51034012, -0.41113292],\n",
       "       [ 1.02325405,  0.98472638,  1.0789094 ,  2.671197  , -1.39002083],\n",
       "       [-1.31919063, -1.37890783, -0.66576945, -1.26528114, -0.41113292],\n",
       "       [-0.08998698, -0.14254532,  1.63720664, -0.26228808,  0.56775499],\n",
       "       [ 0.83771388,  1.38472601,  0.31125071,  1.17209984, -1.39002083],\n",
       "       [ 0.76813632,  1.00896878,  1.42784517,  0.52500755, -1.39002083],\n",
       "       [ 1.20879423,  2.01502847, -1.43342815, -0.55347961,  1.5466429 ],\n",
       "       [-1.62069341, -1.52436225, -1.5032153 , -1.50254831, -0.41113292],\n",
       "       [-0.11317951, -0.61527217,  0.66018648,  0.01811858,  0.56775499],\n",
       "       [-0.27552716, -0.23951493,  0.1716764 , -0.13286962,  0.56775499],\n",
       "       [-0.66980002, -0.14254532,  0.10188925,  0.87012344,  0.56775499],\n",
       "       [-0.34510472, -0.78496898,  0.45082502, -0.68289807,  0.56775499],\n",
       "       [-1.01768785,  0.03927269,  1.49763233, -1.39469959,  0.56775499],\n",
       "       [ 1.53348953,  1.3119988 , -1.22406668,  0.13675217,  1.5466429 ],\n",
       "       [-0.92491776, -1.027393  , -1.43342815, -0.90938037, -0.41113292],\n",
       "       [ 1.25517927,  0.20896951, -0.45640799,  0.61128652,  1.5466429 ],\n",
       "       [ 1.13921666,  0.36654512,  1.00912225,  0.46029832, -1.39002083],\n",
       "       [-1.06407289, -0.61527217,  1.00912225,  0.17989166,  0.56775499],\n",
       "       [-1.29599811, -1.48799864, -2.34066115, -1.08193832, -0.41113292],\n",
       "       [ 0.16513075, -0.17890893, -0.17725937, -0.05737552,  0.56775499],\n",
       "       [-0.87853272, -0.31224214,  0.52061217,  0.53579242,  0.56775499],\n",
       "       [-0.48425985, -1.08799901, -1.85215107, -1.28685088, -0.41113292],\n",
       "       [-1.20322802, -1.42739264,  0.03210209, -1.1250778 ,  0.56775499],\n",
       "       [-0.22914211, -0.11830292, -0.38662083, -0.60740397,  0.56775499]])"
      ]
     },
     "execution_count": 25,
     "metadata": {},
     "output_type": "execute_result"
    }
   ],
   "source": [
    "from sklearn.preprocessing import StandardScaler\n",
    "scalar=StandardScaler()\n",
    "scaled_df=scalar.fit_transform(df.iloc[:,1:])\n",
    "scaled_df"
   ]
  },
  {
   "cell_type": "code",
   "execution_count": 15,
   "id": "b5ca0415",
   "metadata": {
    "ExecuteTime": {
     "end_time": "2022-02-09T16:28:55.455004Z",
     "start_time": "2022-02-09T16:28:54.492323Z"
    }
   },
   "outputs": [
    {
     "name": "stderr",
     "output_type": "stream",
     "text": [
      "C:\\Users\\Dell\\anaconda3\\lib\\site-packages\\sklearn\\cluster\\_kmeans.py:881: UserWarning: KMeans is known to have a memory leak on Windows with MKL, when there are less chunks than available threads. You can avoid it by setting the environment variable OMP_NUM_THREADS=1.\n",
      "  warnings.warn(\n"
     ]
    },
    {
     "data": {
      "text/plain": [
       "Text(0, 0.5, 'wcss')"
      ]
     },
     "execution_count": 15,
     "metadata": {},
     "output_type": "execute_result"
    },
    {
     "data": {
      "image/png": "[encoded data removed]",
      "text/plain": [
       "<Figure size 432x288 with 1 Axes>"
      ]
     },
     "metadata": {
      "needs_background": "light"
     },
     "output_type": "display_data"
    }
   ],
   "source": [
    "wcss=[]\n",
    "\n",
    "for i in range(1,11):\n",
    "    kmeans=KMeans(n_clusters=i,random_state=0)\n",
    "    kmeans.fit(scaled_df)\n",
    "    wcss.append(kmeans.inertia_)\n",
    "\n",
    "plt.plot(range(1,11),wcss)\n",
    "plt.title(\"Elbow method\")\n",
    "plt.xlabel(\"number of clusters\")\n",
    "plt.ylabel(\"wcss\")"
   ]
  },
  {
   "cell_type": "code",
   "execution_count": 16,
   "id": "b9d9d32c",
   "metadata": {
    "ExecuteTime": {
     "end_time": "2022-02-09T16:31:05.602534Z",
     "start_time": "2022-02-09T16:31:05.543570Z"
    }
   },
   "outputs": [
    {
     "data": {
      "text/plain": [
       "KMeans(n_clusters=4, random_state=0)"
      ]
     },
     "execution_count": 16,
     "metadata": {},
     "output_type": "execute_result"
    }
   ],
   "source": [
    "cluster_new=KMeans(n_clusters=4,random_state=0)\n",
    "cluster_new.fit(scaled_df)"
   ]
  },
  {
   "cell_type": "code",
   "execution_count": 17,
   "id": "37e24c1d",
   "metadata": {
    "ExecuteTime": {
     "end_time": "2022-02-09T16:31:21.045725Z",
     "start_time": "2022-02-09T16:31:21.031732Z"
    }
   },
   "outputs": [
    {
     "data": {
      "text/plain": [
       "array([3, 0, 0, 2, 0, 0, 2, 2, 0, 3, 2, 1, 0, 2, 1, 2, 2, 3, 1, 0, 2, 0,\n",
       "       2, 3, 0, 1, 1, 0, 1, 2, 0, 0, 3, 1, 2, 2, 2, 2, 2, 3, 1, 3, 0, 2,\n",
       "       1, 2, 2, 1, 2, 2])"
      ]
     },
     "execution_count": 17,
     "metadata": {},
     "output_type": "execute_result"
    }
   ],
   "source": [
    "cluster_new.labels_"
   ]
  },
  {
   "cell_type": "code",
   "execution_count": 18,
   "id": "2c853b1b",
   "metadata": {
    "ExecuteTime": {
     "end_time": "2022-02-09T16:32:21.783181Z",
     "start_time": "2022-02-09T16:32:21.773184Z"
    }
   },
   "outputs": [],
   "source": [
    "df['clustered_id']=cluster_new.labels_"
   ]
  },
  {
   "cell_type": "code",
   "execution_count": 20,
   "id": "fdad32b7",
   "metadata": {
    "ExecuteTime": {
     "end_time": "2022-02-09T16:33:42.021778Z",
     "start_time": "2022-02-09T16:33:41.998790Z"
    }
   },
   "outputs": [
    {
     "data": {
      "text/html": [
       "<div>\n",
       "<style scoped>\n",
       "    .dataframe tbody tr th:only-of-type {\n",
       "        vertical-align: middle;\n",
       "    }\n",
       "\n",
       "    .dataframe tbody tr th {\n",
       "        vertical-align: top;\n",
       "    }\n",
       "\n",
       "    .dataframe thead th {\n",
       "        text-align: right;\n",
       "    }\n",
       "</style>\n",
       "<table border=\"1\" class=\"dataframe\">\n",
       "  <thead>\n",
       "    <tr style=\"text-align: right;\">\n",
       "      <th></th>\n",
       "      <th>Unnamed: 0</th>\n",
       "      <th>Murder</th>\n",
       "      <th>Assault</th>\n",
       "      <th>UrbanPop</th>\n",
       "      <th>Rape</th>\n",
       "      <th>clustered_id</th>\n",
       "    </tr>\n",
       "  </thead>\n",
       "  <tbody>\n",
       "    <tr>\n",
       "      <th>0</th>\n",
       "      <td>Alabama</td>\n",
       "      <td>13.2</td>\n",
       "      <td>236</td>\n",
       "      <td>58</td>\n",
       "      <td>21.2</td>\n",
       "      <td>3</td>\n",
       "    </tr>\n",
       "    <tr>\n",
       "      <th>1</th>\n",
       "      <td>Alaska</td>\n",
       "      <td>10.0</td>\n",
       "      <td>263</td>\n",
       "      <td>48</td>\n",
       "      <td>44.5</td>\n",
       "      <td>0</td>\n",
       "    </tr>\n",
       "    <tr>\n",
       "      <th>2</th>\n",
       "      <td>Arizona</td>\n",
       "      <td>8.1</td>\n",
       "      <td>294</td>\n",
       "      <td>80</td>\n",
       "      <td>31.0</td>\n",
       "      <td>0</td>\n",
       "    </tr>\n",
       "    <tr>\n",
       "      <th>3</th>\n",
       "      <td>Arkansas</td>\n",
       "      <td>8.8</td>\n",
       "      <td>190</td>\n",
       "      <td>50</td>\n",
       "      <td>19.5</td>\n",
       "      <td>2</td>\n",
       "    </tr>\n",
       "    <tr>\n",
       "      <th>4</th>\n",
       "      <td>California</td>\n",
       "      <td>9.0</td>\n",
       "      <td>276</td>\n",
       "      <td>91</td>\n",
       "      <td>40.6</td>\n",
       "      <td>0</td>\n",
       "    </tr>\n",
       "  </tbody>\n",
       "</table>\n",
       "</div>"
      ],
      "text/plain": [
       "   Unnamed: 0  Murder  Assault  UrbanPop  Rape  clustered_id\n",
       "0     Alabama    13.2      236        58  21.2             3\n",
       "1      Alaska    10.0      263        48  44.5             0\n",
       "2     Arizona     8.1      294        80  31.0             0\n",
       "3    Arkansas     8.8      190        50  19.5             2\n",
       "4  California     9.0      276        91  40.6             0"
      ]
     },
     "execution_count": 20,
     "metadata": {},
     "output_type": "execute_result"
    }
   ],
   "source": [
    "df.head() "
   ]
  },
  {
   "cell_type": "code",
   "execution_count": 21,
   "id": "3fa59475",
   "metadata": {
    "ExecuteTime": {
     "end_time": "2022-02-09T16:35:18.674616Z",
     "start_time": "2022-02-09T16:35:18.635636Z"
    },
    "scrolled": true
   },
   "outputs": [
    {
     "data": {
      "text/html": [
       "<div>\n",
       "<style scoped>\n",
       "    .dataframe tbody tr th:only-of-type {\n",
       "        vertical-align: middle;\n",
       "    }\n",
       "\n",
       "    .dataframe tbody tr th {\n",
       "        vertical-align: top;\n",
       "    }\n",
       "\n",
       "    .dataframe thead th {\n",
       "        text-align: right;\n",
       "    }\n",
       "</style>\n",
       "<table border=\"1\" class=\"dataframe\">\n",
       "  <thead>\n",
       "    <tr style=\"text-align: right;\">\n",
       "      <th></th>\n",
       "      <th>Murder</th>\n",
       "      <th>Assault</th>\n",
       "      <th>UrbanPop</th>\n",
       "      <th>Rape</th>\n",
       "    </tr>\n",
       "    <tr>\n",
       "      <th>clustered_id</th>\n",
       "      <th></th>\n",
       "      <th></th>\n",
       "      <th></th>\n",
       "      <th></th>\n",
       "    </tr>\n",
       "  </thead>\n",
       "  <tbody>\n",
       "    <tr>\n",
       "      <th>0</th>\n",
       "      <td>10.815385</td>\n",
       "      <td>257.384615</td>\n",
       "      <td>76.000000</td>\n",
       "      <td>33.192308</td>\n",
       "    </tr>\n",
       "    <tr>\n",
       "      <th>1</th>\n",
       "      <td>3.180000</td>\n",
       "      <td>78.700000</td>\n",
       "      <td>49.300000</td>\n",
       "      <td>11.630000</td>\n",
       "    </tr>\n",
       "    <tr>\n",
       "      <th>2</th>\n",
       "      <td>5.715000</td>\n",
       "      <td>132.300000</td>\n",
       "      <td>70.800000</td>\n",
       "      <td>18.100000</td>\n",
       "    </tr>\n",
       "    <tr>\n",
       "      <th>3</th>\n",
       "      <td>14.671429</td>\n",
       "      <td>251.285714</td>\n",
       "      <td>54.285714</td>\n",
       "      <td>21.685714</td>\n",
       "    </tr>\n",
       "  </tbody>\n",
       "</table>\n",
       "</div>"
      ],
      "text/plain": [
       "                 Murder     Assault   UrbanPop       Rape\n",
       "clustered_id                                             \n",
       "0             10.815385  257.384615  76.000000  33.192308\n",
       "1              3.180000   78.700000  49.300000  11.630000\n",
       "2              5.715000  132.300000  70.800000  18.100000\n",
       "3             14.671429  251.285714  54.285714  21.685714"
      ]
     },
     "execution_count": 21,
     "metadata": {},
     "output_type": "execute_result"
    }
   ],
   "source": [
    "df.groupby(\"clustered_id\").mean()"
   ]
  }
 ],
 "metadata": {
  "kernelspec": {
   "display_name": "Python 3 (ipykernel)",
   "language": "python",
   "name": "python3"
  },
  "language_info": {
   "codemirror_mode": {
    "name": "ipython",
    "version": 3
   },
   "file_extension": ".py",
   "mimetype": "text/x-python",
   "name": "python",
   "nbconvert_exporter": "python",
   "pygments_lexer": "ipython3",
   "version": "3.9.7"
  },
  "varInspector": {
   "cols": {
    "lenName": 16,
    "lenType": 16,
    "lenVar": 40
   },
   "kernels_config": {
    "python": {
     "delete_cmd_postfix": "",
     "delete_cmd_prefix": "del ",
     "library": "var_list.py",
     "varRefreshCmd": "print(var_dic_list())"
    },
    "r": {
     "delete_cmd_postfix": ") ",
     "delete_cmd_prefix": "rm(",
     "library": "var_list.r",
     "varRefreshCmd": "cat(var_dic_list()) "
    }
   },
   "types_to_exclude": [
    "module",
    "function",
    "builtin_function_or_method",
    "instance",
    "_Feature"
   ],
   "window_display": false
  }
 },
 "nbformat": 4,
 "nbformat_minor": 5
}
