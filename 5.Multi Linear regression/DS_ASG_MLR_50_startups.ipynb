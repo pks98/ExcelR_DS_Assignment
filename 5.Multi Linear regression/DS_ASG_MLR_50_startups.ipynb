{
 "cells": [
  {
   "cell_type": "code",
   "execution_count": 1,
   "id": "8bcd9926",
   "metadata": {
    "ExecuteTime": {
     "end_time": "2022-02-04T05:29:58.336805Z",
     "start_time": "2022-02-04T05:29:56.343389Z"
    }
   },
   "outputs": [],
   "source": [
    "import pandas as pd \n",
    "import numpy as np\n",
    "import matplotlib.pyplot as plt\n",
    "import seaborn as sns\n",
    "%matplotlib inline\n",
    "import statsmodels.formula.api as smf"
   ]
  },
  {
   "cell_type": "code",
   "execution_count": 26,
   "id": "0208c72c",
   "metadata": {
    "ExecuteTime": {
     "end_time": "2022-02-04T05:56:21.060938Z",
     "start_time": "2022-02-04T05:56:21.012984Z"
    }
   },
   "outputs": [
    {
     "data": {
      "text/html": [
       "<div>\n",
       "<style scoped>\n",
       "    .dataframe tbody tr th:only-of-type {\n",
       "        vertical-align: middle;\n",
       "    }\n",
       "\n",
       "    .dataframe tbody tr th {\n",
       "        vertical-align: top;\n",
       "    }\n",
       "\n",
       "    .dataframe thead th {\n",
       "        text-align: right;\n",
       "    }\n",
       "</style>\n",
       "<table border=\"1\" class=\"dataframe\">\n",
       "  <thead>\n",
       "    <tr style=\"text-align: right;\">\n",
       "      <th></th>\n",
       "      <th>R&amp;D Spend</th>\n",
       "      <th>Administration</th>\n",
       "      <th>Marketing Spend</th>\n",
       "      <th>State</th>\n",
       "      <th>Profit</th>\n",
       "    </tr>\n",
       "  </thead>\n",
       "  <tbody>\n",
       "    <tr>\n",
       "      <th>0</th>\n",
       "      <td>165349.20</td>\n",
       "      <td>136897.80</td>\n",
       "      <td>471784.10</td>\n",
       "      <td>New York</td>\n",
       "      <td>192261.83</td>\n",
       "    </tr>\n",
       "    <tr>\n",
       "      <th>1</th>\n",
       "      <td>162597.70</td>\n",
       "      <td>151377.59</td>\n",
       "      <td>443898.53</td>\n",
       "      <td>California</td>\n",
       "      <td>191792.06</td>\n",
       "    </tr>\n",
       "    <tr>\n",
       "      <th>2</th>\n",
       "      <td>153441.51</td>\n",
       "      <td>101145.55</td>\n",
       "      <td>407934.54</td>\n",
       "      <td>Florida</td>\n",
       "      <td>191050.39</td>\n",
       "    </tr>\n",
       "    <tr>\n",
       "      <th>3</th>\n",
       "      <td>144372.41</td>\n",
       "      <td>118671.85</td>\n",
       "      <td>383199.62</td>\n",
       "      <td>New York</td>\n",
       "      <td>182901.99</td>\n",
       "    </tr>\n",
       "    <tr>\n",
       "      <th>4</th>\n",
       "      <td>142107.34</td>\n",
       "      <td>91391.77</td>\n",
       "      <td>366168.42</td>\n",
       "      <td>Florida</td>\n",
       "      <td>166187.94</td>\n",
       "    </tr>\n",
       "  </tbody>\n",
       "</table>\n",
       "</div>"
      ],
      "text/plain": [
       "   R&D Spend  Administration  Marketing Spend       State     Profit\n",
       "0  165349.20       136897.80        471784.10    New York  192261.83\n",
       "1  162597.70       151377.59        443898.53  California  191792.06\n",
       "2  153441.51       101145.55        407934.54     Florida  191050.39\n",
       "3  144372.41       118671.85        383199.62    New York  182901.99\n",
       "4  142107.34        91391.77        366168.42     Florida  166187.94"
      ]
     },
     "execution_count": 26,
     "metadata": {},
     "output_type": "execute_result"
    }
   ],
   "source": [
    "df=pd.read_csv(\"50_Startups.csv\")\n",
    "df.head()"
   ]
  },
  {
   "cell_type": "code",
   "execution_count": 4,
   "id": "b5079396",
   "metadata": {
    "ExecuteTime": {
     "end_time": "2022-02-04T05:31:43.072548Z",
     "start_time": "2022-02-04T05:31:43.048513Z"
    }
   },
   "outputs": [
    {
     "data": {
      "text/plain": [
       "R&D Spend          0\n",
       "Administration     0\n",
       "Marketing Spend    0\n",
       "State              0\n",
       "Profit             0\n",
       "dtype: int64"
      ]
     },
     "execution_count": 4,
     "metadata": {},
     "output_type": "execute_result"
    }
   ],
   "source": [
    "df.isnull().sum()"
   ]
  },
  {
   "cell_type": "code",
   "execution_count": 3,
   "id": "89316c9c",
   "metadata": {
    "ExecuteTime": {
     "end_time": "2022-02-04T05:31:10.113120Z",
     "start_time": "2022-02-04T05:31:10.089191Z"
    }
   },
   "outputs": [
    {
     "name": "stdout",
     "output_type": "stream",
     "text": [
      "<class 'pandas.core.frame.DataFrame'>\n",
      "RangeIndex: 50 entries, 0 to 49\n",
      "Data columns (total 5 columns):\n",
      " #   Column           Non-Null Count  Dtype  \n",
      "---  ------           --------------  -----  \n",
      " 0   R&D Spend        50 non-null     float64\n",
      " 1   Administration   50 non-null     float64\n",
      " 2   Marketing Spend  50 non-null     float64\n",
      " 3   State            50 non-null     object \n",
      " 4   Profit           50 non-null     float64\n",
      "dtypes: float64(4), object(1)\n",
      "memory usage: 2.1+ KB\n"
     ]
    }
   ],
   "source": [
    "df.info()"
   ]
  },
  {
   "cell_type": "code",
   "execution_count": 28,
   "id": "74eee2cf",
   "metadata": {
    "ExecuteTime": {
     "end_time": "2022-02-04T05:57:19.845451Z",
     "start_time": "2022-02-04T05:57:19.805457Z"
    }
   },
   "outputs": [
    {
     "data": {
      "text/html": [
       "<div>\n",
       "<style scoped>\n",
       "    .dataframe tbody tr th:only-of-type {\n",
       "        vertical-align: middle;\n",
       "    }\n",
       "\n",
       "    .dataframe tbody tr th {\n",
       "        vertical-align: top;\n",
       "    }\n",
       "\n",
       "    .dataframe thead th {\n",
       "        text-align: right;\n",
       "    }\n",
       "</style>\n",
       "<table border=\"1\" class=\"dataframe\">\n",
       "  <thead>\n",
       "    <tr style=\"text-align: right;\">\n",
       "      <th></th>\n",
       "      <th>RDS</th>\n",
       "      <th>Administration</th>\n",
       "      <th>MarketingSpend</th>\n",
       "      <th>State</th>\n",
       "      <th>Profit</th>\n",
       "    </tr>\n",
       "  </thead>\n",
       "  <tbody>\n",
       "    <tr>\n",
       "      <th>0</th>\n",
       "      <td>165349.20</td>\n",
       "      <td>136897.80</td>\n",
       "      <td>471784.10</td>\n",
       "      <td>New York</td>\n",
       "      <td>192261.83</td>\n",
       "    </tr>\n",
       "    <tr>\n",
       "      <th>1</th>\n",
       "      <td>162597.70</td>\n",
       "      <td>151377.59</td>\n",
       "      <td>443898.53</td>\n",
       "      <td>California</td>\n",
       "      <td>191792.06</td>\n",
       "    </tr>\n",
       "    <tr>\n",
       "      <th>2</th>\n",
       "      <td>153441.51</td>\n",
       "      <td>101145.55</td>\n",
       "      <td>407934.54</td>\n",
       "      <td>Florida</td>\n",
       "      <td>191050.39</td>\n",
       "    </tr>\n",
       "    <tr>\n",
       "      <th>3</th>\n",
       "      <td>144372.41</td>\n",
       "      <td>118671.85</td>\n",
       "      <td>383199.62</td>\n",
       "      <td>New York</td>\n",
       "      <td>182901.99</td>\n",
       "    </tr>\n",
       "    <tr>\n",
       "      <th>4</th>\n",
       "      <td>142107.34</td>\n",
       "      <td>91391.77</td>\n",
       "      <td>366168.42</td>\n",
       "      <td>Florida</td>\n",
       "      <td>166187.94</td>\n",
       "    </tr>\n",
       "  </tbody>\n",
       "</table>\n",
       "</div>"
      ],
      "text/plain": [
       "         RDS  Administration  MarketingSpend       State     Profit\n",
       "0  165349.20       136897.80       471784.10    New York  192261.83\n",
       "1  162597.70       151377.59       443898.53  California  191792.06\n",
       "2  153441.51       101145.55       407934.54     Florida  191050.39\n",
       "3  144372.41       118671.85       383199.62    New York  182901.99\n",
       "4  142107.34        91391.77       366168.42     Florida  166187.94"
      ]
     },
     "execution_count": 28,
     "metadata": {},
     "output_type": "execute_result"
    }
   ],
   "source": [
    "df=df.rename({'R&D Spend':'RDS','Marketing Spend':'MarketingSpend'},axis=1)\n",
    "df.head()"
   ]
  },
  {
   "cell_type": "code",
   "execution_count": 29,
   "id": "7b889ead",
   "metadata": {
    "ExecuteTime": {
     "end_time": "2022-02-04T05:57:28.518476Z",
     "start_time": "2022-02-04T05:57:28.486476Z"
    },
    "scrolled": true
   },
   "outputs": [
    {
     "data": {
      "text/html": [
       "<div>\n",
       "<style scoped>\n",
       "    .dataframe tbody tr th:only-of-type {\n",
       "        vertical-align: middle;\n",
       "    }\n",
       "\n",
       "    .dataframe tbody tr th {\n",
       "        vertical-align: top;\n",
       "    }\n",
       "\n",
       "    .dataframe thead th {\n",
       "        text-align: right;\n",
       "    }\n",
       "</style>\n",
       "<table border=\"1\" class=\"dataframe\">\n",
       "  <thead>\n",
       "    <tr style=\"text-align: right;\">\n",
       "      <th></th>\n",
       "      <th>RDS</th>\n",
       "      <th>Administration</th>\n",
       "      <th>MarketingSpend</th>\n",
       "      <th>Profit</th>\n",
       "    </tr>\n",
       "  </thead>\n",
       "  <tbody>\n",
       "    <tr>\n",
       "      <th>RDS</th>\n",
       "      <td>1.000000</td>\n",
       "      <td>0.241955</td>\n",
       "      <td>0.724248</td>\n",
       "      <td>0.972900</td>\n",
       "    </tr>\n",
       "    <tr>\n",
       "      <th>Administration</th>\n",
       "      <td>0.241955</td>\n",
       "      <td>1.000000</td>\n",
       "      <td>-0.032154</td>\n",
       "      <td>0.200717</td>\n",
       "    </tr>\n",
       "    <tr>\n",
       "      <th>MarketingSpend</th>\n",
       "      <td>0.724248</td>\n",
       "      <td>-0.032154</td>\n",
       "      <td>1.000000</td>\n",
       "      <td>0.747766</td>\n",
       "    </tr>\n",
       "    <tr>\n",
       "      <th>Profit</th>\n",
       "      <td>0.972900</td>\n",
       "      <td>0.200717</td>\n",
       "      <td>0.747766</td>\n",
       "      <td>1.000000</td>\n",
       "    </tr>\n",
       "  </tbody>\n",
       "</table>\n",
       "</div>"
      ],
      "text/plain": [
       "                     RDS  Administration  MarketingSpend    Profit\n",
       "RDS             1.000000        0.241955        0.724248  0.972900\n",
       "Administration  0.241955        1.000000       -0.032154  0.200717\n",
       "MarketingSpend  0.724248       -0.032154        1.000000  0.747766\n",
       "Profit          0.972900        0.200717        0.747766  1.000000"
      ]
     },
     "execution_count": 29,
     "metadata": {},
     "output_type": "execute_result"
    }
   ],
   "source": [
    "df.corr()"
   ]
  },
  {
   "cell_type": "code",
   "execution_count": 30,
   "id": "b3f5cfa2",
   "metadata": {
    "ExecuteTime": {
     "end_time": "2022-02-04T05:57:35.164324Z",
     "start_time": "2022-02-04T05:57:31.713005Z"
    }
   },
   "outputs": [
    {
     "data": {
      "text/plain": [
       "<seaborn.axisgrid.PairGrid at 0x1f3c14cc790>"
      ]
     },
     "execution_count": 30,
     "metadata": {},
     "output_type": "execute_result"
    },
    {
     "data": {
      "image/png": "[encoded data removed]",
      "text/plain": [
       "<Figure size 720x720 with 20 Axes>"
      ]
     },
     "metadata": {
      "needs_background": "light"
     },
     "output_type": "display_data"
    }
   ],
   "source": [
    "sns.pairplot(df)"
   ]
  },
  {
   "cell_type": "code",
   "execution_count": 45,
   "id": "cfa26c34",
   "metadata": {
    "ExecuteTime": {
     "end_time": "2022-02-04T07:02:19.511612Z",
     "start_time": "2022-02-04T07:02:19.458642Z"
    }
   },
   "outputs": [
    {
     "data": {
      "text/html": [
       "<div>\n",
       "<style scoped>\n",
       "    .dataframe tbody tr th:only-of-type {\n",
       "        vertical-align: middle;\n",
       "    }\n",
       "\n",
       "    .dataframe tbody tr th {\n",
       "        vertical-align: top;\n",
       "    }\n",
       "\n",
       "    .dataframe thead th {\n",
       "        text-align: right;\n",
       "    }\n",
       "</style>\n",
       "<table border=\"1\" class=\"dataframe\">\n",
       "  <thead>\n",
       "    <tr style=\"text-align: right;\">\n",
       "      <th></th>\n",
       "      <th>RDS</th>\n",
       "      <th>Administration</th>\n",
       "      <th>MarketingSpend</th>\n",
       "      <th>Profit</th>\n",
       "      <th>State_California</th>\n",
       "      <th>State_Florida</th>\n",
       "      <th>State_New York</th>\n",
       "    </tr>\n",
       "  </thead>\n",
       "  <tbody>\n",
       "    <tr>\n",
       "      <th>0</th>\n",
       "      <td>165349.20</td>\n",
       "      <td>136897.80</td>\n",
       "      <td>471784.10</td>\n",
       "      <td>192261.83</td>\n",
       "      <td>0</td>\n",
       "      <td>0</td>\n",
       "      <td>1</td>\n",
       "    </tr>\n",
       "    <tr>\n",
       "      <th>1</th>\n",
       "      <td>162597.70</td>\n",
       "      <td>151377.59</td>\n",
       "      <td>443898.53</td>\n",
       "      <td>191792.06</td>\n",
       "      <td>1</td>\n",
       "      <td>0</td>\n",
       "      <td>0</td>\n",
       "    </tr>\n",
       "    <tr>\n",
       "      <th>2</th>\n",
       "      <td>153441.51</td>\n",
       "      <td>101145.55</td>\n",
       "      <td>407934.54</td>\n",
       "      <td>191050.39</td>\n",
       "      <td>0</td>\n",
       "      <td>1</td>\n",
       "      <td>0</td>\n",
       "    </tr>\n",
       "    <tr>\n",
       "      <th>3</th>\n",
       "      <td>144372.41</td>\n",
       "      <td>118671.85</td>\n",
       "      <td>383199.62</td>\n",
       "      <td>182901.99</td>\n",
       "      <td>0</td>\n",
       "      <td>0</td>\n",
       "      <td>1</td>\n",
       "    </tr>\n",
       "    <tr>\n",
       "      <th>4</th>\n",
       "      <td>142107.34</td>\n",
       "      <td>91391.77</td>\n",
       "      <td>366168.42</td>\n",
       "      <td>166187.94</td>\n",
       "      <td>0</td>\n",
       "      <td>1</td>\n",
       "      <td>0</td>\n",
       "    </tr>\n",
       "  </tbody>\n",
       "</table>\n",
       "</div>"
      ],
      "text/plain": [
       "         RDS  Administration  MarketingSpend     Profit  State_California  State_Florida  State_New York\n",
       "0  165349.20       136897.80       471784.10  192261.83                 0              0               1\n",
       "1  162597.70       151377.59       443898.53  191792.06                 1              0               0\n",
       "2  153441.51       101145.55       407934.54  191050.39                 0              1               0\n",
       "3  144372.41       118671.85       383199.62  182901.99                 0              0               1\n",
       "4  142107.34        91391.77       366168.42  166187.94                 0              1               0"
      ]
     },
     "execution_count": 45,
     "metadata": {},
     "output_type": "execute_result"
    }
   ],
   "source": [
    "df=pd.get_dummies(df, columns=['State'])\n",
    "df.head()"
   ]
  },
  {
   "cell_type": "code",
   "execution_count": 46,
   "id": "34a25cd1",
   "metadata": {
    "ExecuteTime": {
     "end_time": "2022-02-04T07:05:55.405635Z",
     "start_time": "2022-02-04T07:05:55.361747Z"
    }
   },
   "outputs": [
    {
     "data": {
      "text/html": [
       "<div>\n",
       "<style scoped>\n",
       "    .dataframe tbody tr th:only-of-type {\n",
       "        vertical-align: middle;\n",
       "    }\n",
       "\n",
       "    .dataframe tbody tr th {\n",
       "        vertical-align: top;\n",
       "    }\n",
       "\n",
       "    .dataframe thead th {\n",
       "        text-align: right;\n",
       "    }\n",
       "</style>\n",
       "<table border=\"1\" class=\"dataframe\">\n",
       "  <thead>\n",
       "    <tr style=\"text-align: right;\">\n",
       "      <th></th>\n",
       "      <th>RDS</th>\n",
       "      <th>Administration</th>\n",
       "      <th>MarketingSpend</th>\n",
       "      <th>Profit</th>\n",
       "      <th>State_California</th>\n",
       "      <th>State_Florida</th>\n",
       "      <th>State_NewYork</th>\n",
       "    </tr>\n",
       "  </thead>\n",
       "  <tbody>\n",
       "    <tr>\n",
       "      <th>0</th>\n",
       "      <td>165349.20</td>\n",
       "      <td>136897.80</td>\n",
       "      <td>471784.10</td>\n",
       "      <td>192261.83</td>\n",
       "      <td>0</td>\n",
       "      <td>0</td>\n",
       "      <td>1</td>\n",
       "    </tr>\n",
       "    <tr>\n",
       "      <th>1</th>\n",
       "      <td>162597.70</td>\n",
       "      <td>151377.59</td>\n",
       "      <td>443898.53</td>\n",
       "      <td>191792.06</td>\n",
       "      <td>1</td>\n",
       "      <td>0</td>\n",
       "      <td>0</td>\n",
       "    </tr>\n",
       "    <tr>\n",
       "      <th>2</th>\n",
       "      <td>153441.51</td>\n",
       "      <td>101145.55</td>\n",
       "      <td>407934.54</td>\n",
       "      <td>191050.39</td>\n",
       "      <td>0</td>\n",
       "      <td>1</td>\n",
       "      <td>0</td>\n",
       "    </tr>\n",
       "    <tr>\n",
       "      <th>3</th>\n",
       "      <td>144372.41</td>\n",
       "      <td>118671.85</td>\n",
       "      <td>383199.62</td>\n",
       "      <td>182901.99</td>\n",
       "      <td>0</td>\n",
       "      <td>0</td>\n",
       "      <td>1</td>\n",
       "    </tr>\n",
       "    <tr>\n",
       "      <th>4</th>\n",
       "      <td>142107.34</td>\n",
       "      <td>91391.77</td>\n",
       "      <td>366168.42</td>\n",
       "      <td>166187.94</td>\n",
       "      <td>0</td>\n",
       "      <td>1</td>\n",
       "      <td>0</td>\n",
       "    </tr>\n",
       "  </tbody>\n",
       "</table>\n",
       "</div>"
      ],
      "text/plain": [
       "         RDS  Administration  MarketingSpend     Profit  State_California  State_Florida  State_NewYork\n",
       "0  165349.20       136897.80       471784.10  192261.83                 0              0              1\n",
       "1  162597.70       151377.59       443898.53  191792.06                 1              0              0\n",
       "2  153441.51       101145.55       407934.54  191050.39                 0              1              0\n",
       "3  144372.41       118671.85       383199.62  182901.99                 0              0              1\n",
       "4  142107.34        91391.77       366168.42  166187.94                 0              1              0"
      ]
     },
     "execution_count": 46,
     "metadata": {},
     "output_type": "execute_result"
    }
   ],
   "source": [
    "df=df.rename({'State_New York':'State_NewYork'},axis=1)\n",
    "df.head()"
   ]
  },
  {
   "cell_type": "code",
   "execution_count": 48,
   "id": "885a2c01",
   "metadata": {
    "ExecuteTime": {
     "end_time": "2022-02-04T07:06:32.123683Z",
     "start_time": "2022-02-04T07:06:32.089701Z"
    }
   },
   "outputs": [],
   "source": [
    "model=smf.ols(\"Profit~RDS+Administration+MarketingSpend+State_California+State_Florida+State_NewYork\",data=df).fit()"
   ]
  },
  {
   "cell_type": "code",
   "execution_count": 49,
   "id": "f478edcb",
   "metadata": {
    "ExecuteTime": {
     "end_time": "2022-02-04T07:06:38.892698Z",
     "start_time": "2022-02-04T07:06:38.878710Z"
    }
   },
   "outputs": [
    {
     "data": {
      "text/plain": [
       "Intercept           37633.233317\n",
       "RDS                     0.806023\n",
       "Administration         -0.027004\n",
       "MarketingSpend          0.026980\n",
       "State_California    12492.110514\n",
       "State_Florida       12690.899307\n",
       "State_NewYork       12450.223495\n",
       "dtype: float64"
      ]
     },
     "execution_count": 49,
     "metadata": {},
     "output_type": "execute_result"
    }
   ],
   "source": [
    "model.params"
   ]
  },
  {
   "cell_type": "code",
   "execution_count": 62,
   "id": "098fba30",
   "metadata": {
    "ExecuteTime": {
     "end_time": "2022-02-04T07:17:54.620703Z",
     "start_time": "2022-02-04T07:17:54.597717Z"
    }
   },
   "outputs": [
    {
     "data": {
      "text/plain": [
       "Intercept           0.000000\n",
       "RDS                 0.000000\n",
       "Administration      0.607737\n",
       "MarketingSpend      0.122677\n",
       "State_California    0.000007\n",
       "State_Florida       0.000030\n",
       "State_NewYork       0.000009\n",
       "dtype: float64"
      ]
     },
     "execution_count": 62,
     "metadata": {},
     "output_type": "execute_result"
    }
   ],
   "source": [
    "np.round(model.pvalues,6)"
   ]
  },
  {
   "cell_type": "code",
   "execution_count": 70,
   "id": "bb54aaea",
   "metadata": {
    "ExecuteTime": {
     "end_time": "2022-02-04T07:22:01.145798Z",
     "start_time": "2022-02-04T07:22:01.125854Z"
    }
   },
   "outputs": [
    {
     "data": {
      "text/plain": [
       "(0.9507524843355148, 0.945156175737278)"
      ]
     },
     "execution_count": 70,
     "metadata": {},
     "output_type": "execute_result"
    }
   ],
   "source": [
    "model.rsquared,model.rsquared_adj"
   ]
  },
  {
   "cell_type": "code",
   "execution_count": 52,
   "id": "4527c4a0",
   "metadata": {
    "ExecuteTime": {
     "end_time": "2022-02-04T07:11:10.444518Z",
     "start_time": "2022-02-04T07:11:10.419308Z"
    }
   },
   "outputs": [],
   "source": [
    "model_A=smf.ols(\"Profit~Administration\",data=df).fit()"
   ]
  },
  {
   "cell_type": "code",
   "execution_count": 57,
   "id": "6d961da3",
   "metadata": {
    "ExecuteTime": {
     "end_time": "2022-02-04T07:13:13.623600Z",
     "start_time": "2022-02-04T07:13:13.606612Z"
    }
   },
   "outputs": [
    {
     "data": {
      "text/plain": [
       "Intercept         0.003824\n",
       "Administration    0.162217\n",
       "dtype: float64"
      ]
     },
     "execution_count": 57,
     "metadata": {},
     "output_type": "execute_result"
    }
   ],
   "source": [
    "model_A.pvalues"
   ]
  },
  {
   "cell_type": "code",
   "execution_count": 55,
   "id": "0c9a660c",
   "metadata": {
    "ExecuteTime": {
     "end_time": "2022-02-04T07:12:18.979912Z",
     "start_time": "2022-02-04T07:12:18.957912Z"
    }
   },
   "outputs": [],
   "source": [
    "model_M=smf.ols(\"Profit~MarketingSpend\",data=df).fit()"
   ]
  },
  {
   "cell_type": "code",
   "execution_count": 58,
   "id": "f511ccea",
   "metadata": {
    "ExecuteTime": {
     "end_time": "2022-02-04T07:13:22.086745Z",
     "start_time": "2022-02-04T07:13:22.078752Z"
    }
   },
   "outputs": [
    {
     "data": {
      "text/plain": [
       "Intercept         4.294735e-10\n",
       "MarketingSpend    4.381073e-10\n",
       "dtype: float64"
      ]
     },
     "execution_count": 58,
     "metadata": {},
     "output_type": "execute_result"
    }
   ],
   "source": [
    "model_M.pvalues"
   ]
  },
  {
   "cell_type": "code",
   "execution_count": 59,
   "id": "cd845022",
   "metadata": {
    "ExecuteTime": {
     "end_time": "2022-02-04T07:16:28.760260Z",
     "start_time": "2022-02-04T07:16:28.738272Z"
    }
   },
   "outputs": [],
   "source": [
    "model_M_A=smf.ols(\"Profit~MarketingSpend+Administration\",data=df).fit()"
   ]
  },
  {
   "cell_type": "code",
   "execution_count": 61,
   "id": "b5d5c298",
   "metadata": {
    "ExecuteTime": {
     "end_time": "2022-02-04T07:17:15.854658Z",
     "start_time": "2022-02-04T07:17:15.845666Z"
    }
   },
   "outputs": [
    {
     "data": {
      "text/plain": [
       "Intercept         0.258934\n",
       "MarketingSpend    0.000000\n",
       "Administration    0.017292\n",
       "dtype: float64"
      ]
     },
     "execution_count": 61,
     "metadata": {},
     "output_type": "execute_result"
    }
   ],
   "source": [
    "np.round(model_M_A.pvalues,6)"
   ]
  },
  {
   "cell_type": "code",
   "execution_count": 65,
   "id": "a070760a",
   "metadata": {
    "ExecuteTime": {
     "end_time": "2022-02-04T07:19:59.529810Z",
     "start_time": "2022-02-04T07:19:59.492667Z"
    }
   },
   "outputs": [],
   "source": [
    "model_1=smf.ols(\"Profit~RDS+MarketingSpend+State_California+State_Florida+State_NewYork\",data=df).fit()"
   ]
  },
  {
   "cell_type": "code",
   "execution_count": 66,
   "id": "3d340f70",
   "metadata": {
    "ExecuteTime": {
     "end_time": "2022-02-04T07:20:02.074875Z",
     "start_time": "2022-02-04T07:20:02.059884Z"
    }
   },
   "outputs": [
    {
     "data": {
      "text/plain": [
       "Intercept           5.420201e-21\n",
       "RDS                 6.509785e-23\n",
       "MarketingSpend      7.204640e-02\n",
       "State_California    2.004515e-07\n",
       "State_Florida       1.970877e-06\n",
       "State_NewYork       4.720949e-07\n",
       "dtype: float64"
      ]
     },
     "execution_count": 66,
     "metadata": {},
     "output_type": "execute_result"
    }
   ],
   "source": [
    "model_1.pvalues"
   ]
  },
  {
   "cell_type": "code",
   "execution_count": 72,
   "id": "6e989f58",
   "metadata": {
    "ExecuteTime": {
     "end_time": "2022-02-04T07:22:10.314421Z",
     "start_time": "2022-02-04T07:22:10.300429Z"
    }
   },
   "outputs": [
    {
     "data": {
      "text/plain": [
       "(0.950453304509085, 0.9460491537987815)"
      ]
     },
     "execution_count": 72,
     "metadata": {},
     "output_type": "execute_result"
    }
   ],
   "source": [
    "model_1.rsquared,model_1.rsquared_adj"
   ]
  },
  {
   "cell_type": "code",
   "execution_count": 73,
   "id": "2ffa05be",
   "metadata": {
    "ExecuteTime": {
     "end_time": "2022-02-04T07:27:51.856408Z",
     "start_time": "2022-02-04T07:27:51.812251Z"
    }
   },
   "outputs": [],
   "source": [
    "rsq_r=smf.ols(\"RDS~Administration+MarketingSpend\",data=df).fit().rsquared\n",
    "vif_r=1/(1-rsq_r)\n",
    "\n",
    "rsq_a=smf.ols(\"Administration~RDS+MarketingSpend\",data=df).fit().rsquared\n",
    "vif_a=1/(1-rsq_a)\n",
    "\n",
    "rsq_m=smf.ols(\"MarketingSpend~RDS+Administration\",data=df).fit().rsquared\n",
    "vif_m=1/(1-rsq_m)"
   ]
  },
  {
   "cell_type": "code",
   "execution_count": 75,
   "id": "68d7b0cf",
   "metadata": {
    "ExecuteTime": {
     "end_time": "2022-02-04T07:29:15.147103Z",
     "start_time": "2022-02-04T07:29:15.126118Z"
    }
   },
   "outputs": [
    {
     "data": {
      "text/html": [
       "<div>\n",
       "<style scoped>\n",
       "    .dataframe tbody tr th:only-of-type {\n",
       "        vertical-align: middle;\n",
       "    }\n",
       "\n",
       "    .dataframe tbody tr th {\n",
       "        vertical-align: top;\n",
       "    }\n",
       "\n",
       "    .dataframe thead th {\n",
       "        text-align: right;\n",
       "    }\n",
       "</style>\n",
       "<table border=\"1\" class=\"dataframe\">\n",
       "  <thead>\n",
       "    <tr style=\"text-align: right;\">\n",
       "      <th></th>\n",
       "      <th>Variables</th>\n",
       "      <th>Vif</th>\n",
       "    </tr>\n",
       "  </thead>\n",
       "  <tbody>\n",
       "    <tr>\n",
       "      <th>0</th>\n",
       "      <td>RDS</td>\n",
       "      <td>2.468903</td>\n",
       "    </tr>\n",
       "    <tr>\n",
       "      <th>1</th>\n",
       "      <td>ADMS</td>\n",
       "      <td>1.175091</td>\n",
       "    </tr>\n",
       "    <tr>\n",
       "      <th>2</th>\n",
       "      <td>MKTS</td>\n",
       "      <td>2.326773</td>\n",
       "    </tr>\n",
       "  </tbody>\n",
       "</table>\n",
       "</div>"
      ],
      "text/plain": [
       "  Variables       Vif\n",
       "0       RDS  2.468903\n",
       "1      ADMS  1.175091\n",
       "2      MKTS  2.326773"
      ]
     },
     "execution_count": 75,
     "metadata": {},
     "output_type": "execute_result"
    }
   ],
   "source": [
    "Vif_df=pd.DataFrame({'Variables':['RDS','ADMS','MKTS'],'Vif':[vif_r,vif_a,vif_m]})\n",
    "Vif_df"
   ]
  },
  {
   "cell_type": "code",
   "execution_count": 76,
   "id": "e257251f",
   "metadata": {
    "ExecuteTime": {
     "end_time": "2022-02-04T07:31:28.577326Z",
     "start_time": "2022-02-04T07:31:27.508748Z"
    }
   },
   "outputs": [
    {
     "name": "stderr",
     "output_type": "stream",
     "text": [
      "C:\\Users\\Dell\\anaconda3\\lib\\site-packages\\statsmodels\\graphics\\gofplots.py:993: UserWarning: marker is redundantly defined by the 'marker' keyword argument and the fmt string \"bo\" (-> marker='o'). The keyword argument will take precedence.\n",
      "  ax.plot(x, y, fmt, **plot_style)\n"
     ]
    },
    {
     "data": {
      "text/plain": [
       "Text(0.5, 1.0, 'Normal Q-Q plot for residual')"
      ]
     },
     "execution_count": 76,
     "metadata": {},
     "output_type": "execute_result"
    },
    {
     "data": {
      "image/png": "[encoded data removed]",
      "text/plain": [
       "<Figure size 432x288 with 1 Axes>"
      ]
     },
     "metadata": {
      "needs_background": "light"
     },
     "output_type": "display_data"
    }
   ],
   "source": [
    "import statsmodels.api as sm\n",
    "qq_plot=sm.qqplot(model.resid,line='q') #45 degree line\n",
    "plt.title(\"Normal Q-Q plot for residual\")"
   ]
  },
  {
   "cell_type": "code",
   "execution_count": 83,
   "id": "9bcccc5f",
   "metadata": {
    "ExecuteTime": {
     "end_time": "2022-02-04T07:35:39.988768Z",
     "start_time": "2022-02-04T07:35:39.966777Z"
    }
   },
   "outputs": [
    {
     "data": {
      "text/plain": [
       "[array([49], dtype=int64)]"
      ]
     },
     "execution_count": 83,
     "metadata": {},
     "output_type": "execute_result"
    }
   ],
   "source": [
    "list(np.where(model.resid<(-20000)))"
   ]
  },
  {
   "cell_type": "code",
   "execution_count": 84,
   "id": "37e065a8",
   "metadata": {
    "ExecuteTime": {
     "end_time": "2022-02-04T07:37:12.131309Z",
     "start_time": "2022-02-04T07:37:12.116318Z"
    }
   },
   "outputs": [],
   "source": [
    "def get_standardized_values( vals ):\n",
    "    return (vals - vals.mean())/vals.std()"
   ]
  },
  {
   "cell_type": "code",
   "execution_count": 85,
   "id": "63a8974f",
   "metadata": {
    "ExecuteTime": {
     "end_time": "2022-02-04T07:37:43.946976Z",
     "start_time": "2022-02-04T07:37:43.724804Z"
    }
   },
   "outputs": [
    {
     "data": {
      "text/plain": [
       "Text(0, 0.5, 'Standardized residual values')"
      ]
     },
     "execution_count": 85,
     "metadata": {},
     "output_type": "execute_result"
    },
    {
     "data": {
      "image/png": "[encoded data removed]",
      "text/plain": [
       "<Figure size 432x288 with 1 Axes>"
      ]
     },
     "metadata": {
      "needs_background": "light"
     },
     "output_type": "display_data"
    }
   ],
   "source": [
    "plt.scatter(get_standardized_values(model.fittedvalues),\n",
    "            get_standardized_values(model.resid))\n",
    "\n",
    "plt.title('Residual Plot')\n",
    "plt.xlabel('Standardized Fitted values')\n",
    "plt.ylabel('Standardized residual values')"
   ]
  },
  {
   "cell_type": "code",
   "execution_count": 86,
   "id": "06a90221",
   "metadata": {
    "ExecuteTime": {
     "end_time": "2022-02-04T07:39:12.550491Z",
     "start_time": "2022-02-04T07:39:12.532504Z"
    }
   },
   "outputs": [],
   "source": [
    "model_influence = model.get_influence()\n",
    "(c, _) = model_influence.cooks_distance"
   ]
  },
  {
   "cell_type": "code",
   "execution_count": 87,
   "id": "78b7ee9b",
   "metadata": {
    "ExecuteTime": {
     "end_time": "2022-02-04T07:39:33.941682Z",
     "start_time": "2022-02-04T07:39:33.721704Z"
    }
   },
   "outputs": [
    {
     "data": {
      "text/plain": [
       "Text(0, 0.5, 'Cooks Distance')"
      ]
     },
     "execution_count": 87,
     "metadata": {},
     "output_type": "execute_result"
    },
    {
     "data": {
      "image/png": "[encoded data removed]",
      "text/plain": [
       "<Figure size 1440x504 with 1 Axes>"
      ]
     },
     "metadata": {
      "needs_background": "light"
     },
     "output_type": "display_data"
    }
   ],
   "source": [
    "fig = plt.subplots(figsize=(20, 7))\n",
    "plt.stem(np.arange(len(df)), np.round(c, 3))\n",
    "plt.xlabel('Row index')\n",
    "plt.ylabel('Cooks Distance')"
   ]
  },
  {
   "cell_type": "code",
   "execution_count": 89,
   "id": "70e1fd00",
   "metadata": {
    "ExecuteTime": {
     "end_time": "2022-02-04T07:46:04.487424Z",
     "start_time": "2022-02-04T07:46:04.460399Z"
    }
   },
   "outputs": [
    {
     "data": {
      "text/html": [
       "<div>\n",
       "<style scoped>\n",
       "    .dataframe tbody tr th:only-of-type {\n",
       "        vertical-align: middle;\n",
       "    }\n",
       "\n",
       "    .dataframe tbody tr th {\n",
       "        vertical-align: top;\n",
       "    }\n",
       "\n",
       "    .dataframe thead th {\n",
       "        text-align: right;\n",
       "    }\n",
       "</style>\n",
       "<table border=\"1\" class=\"dataframe\">\n",
       "  <thead>\n",
       "    <tr style=\"text-align: right;\">\n",
       "      <th></th>\n",
       "      <th>M-name</th>\n",
       "      <th>Rsquared</th>\n",
       "    </tr>\n",
       "  </thead>\n",
       "  <tbody>\n",
       "    <tr>\n",
       "      <th>0</th>\n",
       "      <td>Model</td>\n",
       "      <td>0.950453</td>\n",
       "    </tr>\n",
       "  </tbody>\n",
       "</table>\n",
       "</div>"
      ],
      "text/plain": [
       "  M-name  Rsquared\n",
       "0  Model  0.950453"
      ]
     },
     "execution_count": 89,
     "metadata": {},
     "output_type": "execute_result"
    }
   ],
   "source": [
    "rsq_table=pd.DataFrame({'M-name':['Model'],'Rsquared':[model_1.rsquared]})\n",
    "rsq_table\n"
   ]
  },
  {
   "cell_type": "code",
   "execution_count": null,
   "id": "98af32f5",
   "metadata": {},
   "outputs": [],
   "source": []
  }
 ],
 "metadata": {
  "kernelspec": {
   "display_name": "Python 3 (ipykernel)",
   "language": "python",
   "name": "python3"
  },
  "language_info": {
   "codemirror_mode": {
    "name": "ipython",
    "version": 3
   },
   "file_extension": ".py",
   "mimetype": "text/x-python",
   "name": "python",
   "nbconvert_exporter": "python",
   "pygments_lexer": "ipython3",
   "version": "3.9.7"
  },
  "varInspector": {
   "cols": {
    "lenName": 16,
    "lenType": 16,
    "lenVar": 40
   },
   "kernels_config": {
    "python": {
     "delete_cmd_postfix": "",
     "delete_cmd_prefix": "del ",
     "library": "var_list.py",
     "varRefreshCmd": "print(var_dic_list())"
    },
    "r": {
     "delete_cmd_postfix": ") ",
     "delete_cmd_prefix": "rm(",
     "library": "var_list.r",
     "varRefreshCmd": "cat(var_dic_list()) "
    }
   },
   "types_to_exclude": [
    "module",
    "function",
    "builtin_function_or_method",
    "instance",
    "_Feature"
   ],
   "window_display": false
  }
 },
 "nbformat": 4,
 "nbformat_minor": 5
}
