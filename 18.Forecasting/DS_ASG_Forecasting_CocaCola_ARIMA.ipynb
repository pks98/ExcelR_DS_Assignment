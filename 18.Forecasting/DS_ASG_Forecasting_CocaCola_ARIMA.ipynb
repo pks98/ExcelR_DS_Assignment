{
 "cells": [
  {
   "cell_type": "code",
   "execution_count": 81,
   "id": "a9bf6515",
   "metadata": {
    "ExecuteTime": {
     "end_time": "2022-03-13T04:27:06.870843Z",
     "start_time": "2022-03-13T04:27:06.855222Z"
    }
   },
   "outputs": [],
   "source": [
    "import pandas as pd \n",
    "import numpy as np\n",
    "import matplotlib.pyplot as plt\n",
    "from sklearn.metrics import mean_squared_error"
   ]
  },
  {
   "cell_type": "code",
   "execution_count": 2,
   "id": "fa29fe1d",
   "metadata": {
    "ExecuteTime": {
     "end_time": "2022-03-13T04:06:02.772736Z",
     "start_time": "2022-03-13T04:06:02.142408Z"
    }
   },
   "outputs": [
    {
     "data": {
      "text/html": [
       "<div>\n",
       "<style scoped>\n",
       "    .dataframe tbody tr th:only-of-type {\n",
       "        vertical-align: middle;\n",
       "    }\n",
       "\n",
       "    .dataframe tbody tr th {\n",
       "        vertical-align: top;\n",
       "    }\n",
       "\n",
       "    .dataframe thead th {\n",
       "        text-align: right;\n",
       "    }\n",
       "</style>\n",
       "<table border=\"1\" class=\"dataframe\">\n",
       "  <thead>\n",
       "    <tr style=\"text-align: right;\">\n",
       "      <th></th>\n",
       "      <th>Quarter</th>\n",
       "      <th>Sales</th>\n",
       "    </tr>\n",
       "  </thead>\n",
       "  <tbody>\n",
       "    <tr>\n",
       "      <th>0</th>\n",
       "      <td>Q1_86</td>\n",
       "      <td>1734.827000</td>\n",
       "    </tr>\n",
       "    <tr>\n",
       "      <th>1</th>\n",
       "      <td>Q2_86</td>\n",
       "      <td>2244.960999</td>\n",
       "    </tr>\n",
       "    <tr>\n",
       "      <th>2</th>\n",
       "      <td>Q3_86</td>\n",
       "      <td>2533.804993</td>\n",
       "    </tr>\n",
       "    <tr>\n",
       "      <th>3</th>\n",
       "      <td>Q4_86</td>\n",
       "      <td>2154.962997</td>\n",
       "    </tr>\n",
       "    <tr>\n",
       "      <th>4</th>\n",
       "      <td>Q1_87</td>\n",
       "      <td>1547.818996</td>\n",
       "    </tr>\n",
       "  </tbody>\n",
       "</table>\n",
       "</div>"
      ],
      "text/plain": [
       "  Quarter        Sales\n",
       "0   Q1_86  1734.827000\n",
       "1   Q2_86  2244.960999\n",
       "2   Q3_86  2533.804993\n",
       "3   Q4_86  2154.962997\n",
       "4   Q1_87  1547.818996"
      ]
     },
     "execution_count": 2,
     "metadata": {},
     "output_type": "execute_result"
    }
   ],
   "source": [
    "df=pd.read_excel('CocaCola_Sales_Rawdata.xlsx')\n",
    "df.head()"
   ]
  },
  {
   "cell_type": "code",
   "execution_count": 3,
   "id": "d1a2ff8b",
   "metadata": {
    "ExecuteTime": {
     "end_time": "2022-03-13T04:06:02.806714Z",
     "start_time": "2022-03-13T04:06:02.776731Z"
    }
   },
   "outputs": [
    {
     "name": "stderr",
     "output_type": "stream",
     "text": [
      "C:\\Users\\Dell\\AppData\\Local\\Temp/ipykernel_5672/758400630.py:1: FutureWarning: The default value of regex will change from True to False in a future version.\n",
      "  temp= df.Quarter.str.replace(r'(Q\\d)_(\\d+)', r'19\\2-\\1')\n"
     ]
    }
   ],
   "source": [
    "temp= df.Quarter.str.replace(r'(Q\\d)_(\\d+)', r'19\\2-\\1')\n",
    "df['quarter'] = pd.to_datetime(temp).dt.strftime('%b-%Y')"
   ]
  },
  {
   "cell_type": "code",
   "execution_count": 4,
   "id": "f4a7d536",
   "metadata": {
    "ExecuteTime": {
     "end_time": "2022-03-13T04:06:02.852694Z",
     "start_time": "2022-03-13T04:06:02.814709Z"
    }
   },
   "outputs": [
    {
     "name": "stdout",
     "output_type": "stream",
     "text": [
      "<class 'pandas.core.frame.DataFrame'>\n",
      "RangeIndex: 42 entries, 0 to 41\n",
      "Data columns (total 3 columns):\n",
      " #   Column   Non-Null Count  Dtype  \n",
      "---  ------   --------------  -----  \n",
      " 0   Quarter  42 non-null     object \n",
      " 1   Sales    42 non-null     float64\n",
      " 2   quarter  42 non-null     object \n",
      "dtypes: float64(1), object(2)\n",
      "memory usage: 1.1+ KB\n"
     ]
    }
   ],
   "source": [
    "df.info()"
   ]
  },
  {
   "cell_type": "code",
   "execution_count": 5,
   "id": "bc67a82b",
   "metadata": {
    "ExecuteTime": {
     "end_time": "2022-03-13T04:06:02.868680Z",
     "start_time": "2022-03-13T04:06:02.856685Z"
    }
   },
   "outputs": [],
   "source": [
    "df.drop('Quarter',axis=1,inplace=True)"
   ]
  },
  {
   "cell_type": "code",
   "execution_count": 6,
   "id": "a49ee0e5",
   "metadata": {
    "ExecuteTime": {
     "end_time": "2022-03-13T04:06:02.899661Z",
     "start_time": "2022-03-13T04:06:02.872677Z"
    }
   },
   "outputs": [
    {
     "data": {
      "text/html": [
       "<div>\n",
       "<style scoped>\n",
       "    .dataframe tbody tr th:only-of-type {\n",
       "        vertical-align: middle;\n",
       "    }\n",
       "\n",
       "    .dataframe tbody tr th {\n",
       "        vertical-align: top;\n",
       "    }\n",
       "\n",
       "    .dataframe thead th {\n",
       "        text-align: right;\n",
       "    }\n",
       "</style>\n",
       "<table border=\"1\" class=\"dataframe\">\n",
       "  <thead>\n",
       "    <tr style=\"text-align: right;\">\n",
       "      <th></th>\n",
       "      <th>Sales</th>\n",
       "      <th>quarter</th>\n",
       "    </tr>\n",
       "  </thead>\n",
       "  <tbody>\n",
       "    <tr>\n",
       "      <th>0</th>\n",
       "      <td>1734.827000</td>\n",
       "      <td>Jan-1986</td>\n",
       "    </tr>\n",
       "    <tr>\n",
       "      <th>1</th>\n",
       "      <td>2244.960999</td>\n",
       "      <td>Apr-1986</td>\n",
       "    </tr>\n",
       "    <tr>\n",
       "      <th>2</th>\n",
       "      <td>2533.804993</td>\n",
       "      <td>Jul-1986</td>\n",
       "    </tr>\n",
       "    <tr>\n",
       "      <th>3</th>\n",
       "      <td>2154.962997</td>\n",
       "      <td>Oct-1986</td>\n",
       "    </tr>\n",
       "    <tr>\n",
       "      <th>4</th>\n",
       "      <td>1547.818996</td>\n",
       "      <td>Jan-1987</td>\n",
       "    </tr>\n",
       "  </tbody>\n",
       "</table>\n",
       "</div>"
      ],
      "text/plain": [
       "         Sales   quarter\n",
       "0  1734.827000  Jan-1986\n",
       "1  2244.960999  Apr-1986\n",
       "2  2533.804993  Jul-1986\n",
       "3  2154.962997  Oct-1986\n",
       "4  1547.818996  Jan-1987"
      ]
     },
     "execution_count": 6,
     "metadata": {},
     "output_type": "execute_result"
    }
   ],
   "source": [
    "df.head()"
   ]
  },
  {
   "cell_type": "code",
   "execution_count": 7,
   "id": "b352fd5b",
   "metadata": {
    "ExecuteTime": {
     "end_time": "2022-03-13T04:06:02.930666Z",
     "start_time": "2022-03-13T04:06:02.905658Z"
    }
   },
   "outputs": [],
   "source": [
    "df['quarter']=pd.to_datetime(df['quarter'])"
   ]
  },
  {
   "cell_type": "code",
   "execution_count": 8,
   "id": "ef595a8c",
   "metadata": {
    "ExecuteTime": {
     "end_time": "2022-03-13T04:06:02.946635Z",
     "start_time": "2022-03-13T04:06:02.932643Z"
    }
   },
   "outputs": [],
   "source": [
    "df.set_index('quarter',inplace=True)"
   ]
  },
  {
   "cell_type": "code",
   "execution_count": 9,
   "id": "8584a81b",
   "metadata": {
    "ExecuteTime": {
     "end_time": "2022-03-13T04:06:02.994606Z",
     "start_time": "2022-03-13T04:06:02.953632Z"
    }
   },
   "outputs": [
    {
     "data": {
      "text/html": [
       "<div>\n",
       "<style scoped>\n",
       "    .dataframe tbody tr th:only-of-type {\n",
       "        vertical-align: middle;\n",
       "    }\n",
       "\n",
       "    .dataframe tbody tr th {\n",
       "        vertical-align: top;\n",
       "    }\n",
       "\n",
       "    .dataframe thead th {\n",
       "        text-align: right;\n",
       "    }\n",
       "</style>\n",
       "<table border=\"1\" class=\"dataframe\">\n",
       "  <thead>\n",
       "    <tr style=\"text-align: right;\">\n",
       "      <th></th>\n",
       "      <th>Sales</th>\n",
       "    </tr>\n",
       "    <tr>\n",
       "      <th>quarter</th>\n",
       "      <th></th>\n",
       "    </tr>\n",
       "  </thead>\n",
       "  <tbody>\n",
       "    <tr>\n",
       "      <th>1986-01-01</th>\n",
       "      <td>1734.827000</td>\n",
       "    </tr>\n",
       "    <tr>\n",
       "      <th>1986-04-01</th>\n",
       "      <td>2244.960999</td>\n",
       "    </tr>\n",
       "    <tr>\n",
       "      <th>1986-07-01</th>\n",
       "      <td>2533.804993</td>\n",
       "    </tr>\n",
       "    <tr>\n",
       "      <th>1986-10-01</th>\n",
       "      <td>2154.962997</td>\n",
       "    </tr>\n",
       "    <tr>\n",
       "      <th>1987-01-01</th>\n",
       "      <td>1547.818996</td>\n",
       "    </tr>\n",
       "  </tbody>\n",
       "</table>\n",
       "</div>"
      ],
      "text/plain": [
       "                  Sales\n",
       "quarter                \n",
       "1986-01-01  1734.827000\n",
       "1986-04-01  2244.960999\n",
       "1986-07-01  2533.804993\n",
       "1986-10-01  2154.962997\n",
       "1987-01-01  1547.818996"
      ]
     },
     "execution_count": 9,
     "metadata": {},
     "output_type": "execute_result"
    }
   ],
   "source": [
    "df.head()"
   ]
  },
  {
   "cell_type": "code",
   "execution_count": 10,
   "id": "3f7bdcd8",
   "metadata": {
    "ExecuteTime": {
     "end_time": "2022-03-13T04:06:03.547174Z",
     "start_time": "2022-03-13T04:06:03.005600Z"
    }
   },
   "outputs": [
    {
     "data": {
      "text/plain": [
       "<AxesSubplot:xlabel='quarter'>"
      ]
     },
     "execution_count": 10,
     "metadata": {},
     "output_type": "execute_result"
    },
    {
     "data": {
      "image/png": "[encoded data removed]",
      "text/plain": [
       "<Figure size 432x288 with 1 Axes>"
      ]
     },
     "metadata": {
      "needs_background": "light"
     },
     "output_type": "display_data"
    }
   ],
   "source": [
    "df.plot()"
   ]
  },
  {
   "cell_type": "code",
   "execution_count": 11,
   "id": "ecfde124",
   "metadata": {
    "ExecuteTime": {
     "end_time": "2022-03-13T04:06:06.090218Z",
     "start_time": "2022-03-13T04:06:03.552169Z"
    }
   },
   "outputs": [
    {
     "data": {
      "image/png": "[encoded data removed]",
      "text/plain": [
       "<Figure size 432x288 with 4 Axes>"
      ]
     },
     "metadata": {
      "needs_background": "light"
     },
     "output_type": "display_data"
    }
   ],
   "source": [
    "import statsmodels.api as sm\n",
    "from statsmodels.tsa.seasonal import seasonal_decompose\n",
    "seasonal_decompose(df,model='multiplicative',period=4).plot();"
   ]
  },
  {
   "cell_type": "code",
   "execution_count": 12,
   "id": "58367412",
   "metadata": {
    "ExecuteTime": {
     "end_time": "2022-03-13T04:06:06.122204Z",
     "start_time": "2022-03-13T04:06:06.094213Z"
    }
   },
   "outputs": [
    {
     "name": "stdout",
     "output_type": "stream",
     "text": [
      "p value of adfuller test:  0.9966611673930905\n"
     ]
    }
   ],
   "source": [
    "from statsmodels.tsa.stattools import adfuller\n",
    "adftest=adfuller(df)\n",
    "print('p value of adfuller test: ',adftest[1])"
   ]
  },
  {
   "cell_type": "markdown",
   "id": "362be026",
   "metadata": {},
   "source": [
    "p value is greater than 0.05 which represents the series is not stationary"
   ]
  },
  {
   "cell_type": "code",
   "execution_count": 13,
   "id": "7e2d0858",
   "metadata": {
    "ExecuteTime": {
     "end_time": "2022-03-13T04:06:06.154179Z",
     "start_time": "2022-03-13T04:06:06.127196Z"
    }
   },
   "outputs": [
    {
     "data": {
      "text/plain": [
       "(42, 1)"
      ]
     },
     "execution_count": 13,
     "metadata": {},
     "output_type": "execute_result"
    }
   ],
   "source": [
    "df.shape"
   ]
  },
  {
   "cell_type": "code",
   "execution_count": 42,
   "id": "662251dd",
   "metadata": {
    "ExecuteTime": {
     "end_time": "2022-03-13T04:17:38.808521Z",
     "start_time": "2022-03-13T04:17:38.792509Z"
    }
   },
   "outputs": [],
   "source": [
    "train=df.head(38)\n",
    "test=df.tail(4)"
   ]
  },
  {
   "cell_type": "code",
   "execution_count": 43,
   "id": "b62a317e",
   "metadata": {
    "ExecuteTime": {
     "end_time": "2022-03-13T04:17:41.361791Z",
     "start_time": "2022-03-13T04:17:41.339804Z"
    }
   },
   "outputs": [
    {
     "data": {
      "text/html": [
       "<div>\n",
       "<style scoped>\n",
       "    .dataframe tbody tr th:only-of-type {\n",
       "        vertical-align: middle;\n",
       "    }\n",
       "\n",
       "    .dataframe tbody tr th {\n",
       "        vertical-align: top;\n",
       "    }\n",
       "\n",
       "    .dataframe thead th {\n",
       "        text-align: right;\n",
       "    }\n",
       "</style>\n",
       "<table border=\"1\" class=\"dataframe\">\n",
       "  <thead>\n",
       "    <tr style=\"text-align: right;\">\n",
       "      <th></th>\n",
       "      <th>Sales</th>\n",
       "    </tr>\n",
       "    <tr>\n",
       "      <th>quarter</th>\n",
       "      <th></th>\n",
       "    </tr>\n",
       "  </thead>\n",
       "  <tbody>\n",
       "    <tr>\n",
       "      <th>1986-01-01</th>\n",
       "      <td>1734.827000</td>\n",
       "    </tr>\n",
       "    <tr>\n",
       "      <th>1986-04-01</th>\n",
       "      <td>2244.960999</td>\n",
       "    </tr>\n",
       "    <tr>\n",
       "      <th>1986-07-01</th>\n",
       "      <td>2533.804993</td>\n",
       "    </tr>\n",
       "    <tr>\n",
       "      <th>1986-10-01</th>\n",
       "      <td>2154.962997</td>\n",
       "    </tr>\n",
       "    <tr>\n",
       "      <th>1987-01-01</th>\n",
       "      <td>1547.818996</td>\n",
       "    </tr>\n",
       "    <tr>\n",
       "      <th>1987-04-01</th>\n",
       "      <td>2104.411995</td>\n",
       "    </tr>\n",
       "    <tr>\n",
       "      <th>1987-07-01</th>\n",
       "      <td>2014.362999</td>\n",
       "    </tr>\n",
       "    <tr>\n",
       "      <th>1987-10-01</th>\n",
       "      <td>1991.746998</td>\n",
       "    </tr>\n",
       "    <tr>\n",
       "      <th>1988-01-01</th>\n",
       "      <td>1869.049999</td>\n",
       "    </tr>\n",
       "    <tr>\n",
       "      <th>1988-04-01</th>\n",
       "      <td>2313.631996</td>\n",
       "    </tr>\n",
       "    <tr>\n",
       "      <th>1988-07-01</th>\n",
       "      <td>2128.320000</td>\n",
       "    </tr>\n",
       "    <tr>\n",
       "      <th>1988-10-01</th>\n",
       "      <td>2026.828999</td>\n",
       "    </tr>\n",
       "    <tr>\n",
       "      <th>1989-01-01</th>\n",
       "      <td>1910.603996</td>\n",
       "    </tr>\n",
       "    <tr>\n",
       "      <th>1989-04-01</th>\n",
       "      <td>2331.164993</td>\n",
       "    </tr>\n",
       "    <tr>\n",
       "      <th>1989-07-01</th>\n",
       "      <td>2206.549995</td>\n",
       "    </tr>\n",
       "    <tr>\n",
       "      <th>1989-10-01</th>\n",
       "      <td>2173.967995</td>\n",
       "    </tr>\n",
       "    <tr>\n",
       "      <th>1990-01-01</th>\n",
       "      <td>2148.278000</td>\n",
       "    </tr>\n",
       "    <tr>\n",
       "      <th>1990-04-01</th>\n",
       "      <td>2739.307999</td>\n",
       "    </tr>\n",
       "    <tr>\n",
       "      <th>1990-07-01</th>\n",
       "      <td>2792.753998</td>\n",
       "    </tr>\n",
       "    <tr>\n",
       "      <th>1990-10-01</th>\n",
       "      <td>2556.009995</td>\n",
       "    </tr>\n",
       "    <tr>\n",
       "      <th>1991-01-01</th>\n",
       "      <td>2480.973999</td>\n",
       "    </tr>\n",
       "    <tr>\n",
       "      <th>1991-04-01</th>\n",
       "      <td>3039.522995</td>\n",
       "    </tr>\n",
       "    <tr>\n",
       "      <th>1991-07-01</th>\n",
       "      <td>3172.115997</td>\n",
       "    </tr>\n",
       "    <tr>\n",
       "      <th>1991-10-01</th>\n",
       "      <td>2879.000999</td>\n",
       "    </tr>\n",
       "    <tr>\n",
       "      <th>1992-01-01</th>\n",
       "      <td>2772.000000</td>\n",
       "    </tr>\n",
       "    <tr>\n",
       "      <th>1992-04-01</th>\n",
       "      <td>3550.000000</td>\n",
       "    </tr>\n",
       "    <tr>\n",
       "      <th>1992-07-01</th>\n",
       "      <td>3508.000000</td>\n",
       "    </tr>\n",
       "    <tr>\n",
       "      <th>1992-10-01</th>\n",
       "      <td>3243.859993</td>\n",
       "    </tr>\n",
       "    <tr>\n",
       "      <th>1993-01-01</th>\n",
       "      <td>3056.000000</td>\n",
       "    </tr>\n",
       "    <tr>\n",
       "      <th>1993-04-01</th>\n",
       "      <td>3899.000000</td>\n",
       "    </tr>\n",
       "    <tr>\n",
       "      <th>1993-07-01</th>\n",
       "      <td>3629.000000</td>\n",
       "    </tr>\n",
       "    <tr>\n",
       "      <th>1993-10-01</th>\n",
       "      <td>3373.000000</td>\n",
       "    </tr>\n",
       "    <tr>\n",
       "      <th>1994-01-01</th>\n",
       "      <td>3352.000000</td>\n",
       "    </tr>\n",
       "    <tr>\n",
       "      <th>1994-04-01</th>\n",
       "      <td>4342.000000</td>\n",
       "    </tr>\n",
       "    <tr>\n",
       "      <th>1994-07-01</th>\n",
       "      <td>4461.000000</td>\n",
       "    </tr>\n",
       "    <tr>\n",
       "      <th>1994-10-01</th>\n",
       "      <td>4017.000000</td>\n",
       "    </tr>\n",
       "    <tr>\n",
       "      <th>1995-01-01</th>\n",
       "      <td>3854.000000</td>\n",
       "    </tr>\n",
       "    <tr>\n",
       "      <th>1995-04-01</th>\n",
       "      <td>4936.000000</td>\n",
       "    </tr>\n",
       "  </tbody>\n",
       "</table>\n",
       "</div>"
      ],
      "text/plain": [
       "                  Sales\n",
       "quarter                \n",
       "1986-01-01  1734.827000\n",
       "1986-04-01  2244.960999\n",
       "1986-07-01  2533.804993\n",
       "1986-10-01  2154.962997\n",
       "1987-01-01  1547.818996\n",
       "1987-04-01  2104.411995\n",
       "1987-07-01  2014.362999\n",
       "1987-10-01  1991.746998\n",
       "1988-01-01  1869.049999\n",
       "1988-04-01  2313.631996\n",
       "1988-07-01  2128.320000\n",
       "1988-10-01  2026.828999\n",
       "1989-01-01  1910.603996\n",
       "1989-04-01  2331.164993\n",
       "1989-07-01  2206.549995\n",
       "1989-10-01  2173.967995\n",
       "1990-01-01  2148.278000\n",
       "1990-04-01  2739.307999\n",
       "1990-07-01  2792.753998\n",
       "1990-10-01  2556.009995\n",
       "1991-01-01  2480.973999\n",
       "1991-04-01  3039.522995\n",
       "1991-07-01  3172.115997\n",
       "1991-10-01  2879.000999\n",
       "1992-01-01  2772.000000\n",
       "1992-04-01  3550.000000\n",
       "1992-07-01  3508.000000\n",
       "1992-10-01  3243.859993\n",
       "1993-01-01  3056.000000\n",
       "1993-04-01  3899.000000\n",
       "1993-07-01  3629.000000\n",
       "1993-10-01  3373.000000\n",
       "1994-01-01  3352.000000\n",
       "1994-04-01  4342.000000\n",
       "1994-07-01  4461.000000\n",
       "1994-10-01  4017.000000\n",
       "1995-01-01  3854.000000\n",
       "1995-04-01  4936.000000"
      ]
     },
     "execution_count": 43,
     "metadata": {},
     "output_type": "execute_result"
    }
   ],
   "source": [
    "train"
   ]
  },
  {
   "cell_type": "code",
   "execution_count": 44,
   "id": "1b9863ea",
   "metadata": {
    "ExecuteTime": {
     "end_time": "2022-03-13T04:17:43.417473Z",
     "start_time": "2022-03-13T04:17:43.401502Z"
    }
   },
   "outputs": [
    {
     "data": {
      "text/html": [
       "<div>\n",
       "<style scoped>\n",
       "    .dataframe tbody tr th:only-of-type {\n",
       "        vertical-align: middle;\n",
       "    }\n",
       "\n",
       "    .dataframe tbody tr th {\n",
       "        vertical-align: top;\n",
       "    }\n",
       "\n",
       "    .dataframe thead th {\n",
       "        text-align: right;\n",
       "    }\n",
       "</style>\n",
       "<table border=\"1\" class=\"dataframe\">\n",
       "  <thead>\n",
       "    <tr style=\"text-align: right;\">\n",
       "      <th></th>\n",
       "      <th>Sales</th>\n",
       "    </tr>\n",
       "    <tr>\n",
       "      <th>quarter</th>\n",
       "      <th></th>\n",
       "    </tr>\n",
       "  </thead>\n",
       "  <tbody>\n",
       "    <tr>\n",
       "      <th>1995-07-01</th>\n",
       "      <td>4895.0</td>\n",
       "    </tr>\n",
       "    <tr>\n",
       "      <th>1995-10-01</th>\n",
       "      <td>4333.0</td>\n",
       "    </tr>\n",
       "    <tr>\n",
       "      <th>1996-01-01</th>\n",
       "      <td>4194.0</td>\n",
       "    </tr>\n",
       "    <tr>\n",
       "      <th>1996-04-01</th>\n",
       "      <td>5253.0</td>\n",
       "    </tr>\n",
       "  </tbody>\n",
       "</table>\n",
       "</div>"
      ],
      "text/plain": [
       "             Sales\n",
       "quarter           \n",
       "1995-07-01  4895.0\n",
       "1995-10-01  4333.0\n",
       "1996-01-01  4194.0\n",
       "1996-04-01  5253.0"
      ]
     },
     "execution_count": 44,
     "metadata": {},
     "output_type": "execute_result"
    }
   ],
   "source": [
    "test"
   ]
  },
  {
   "cell_type": "code",
   "execution_count": 46,
   "id": "04a27d80",
   "metadata": {
    "ExecuteTime": {
     "end_time": "2022-03-13T04:17:53.249169Z",
     "start_time": "2022-03-13T04:17:52.884420Z"
    }
   },
   "outputs": [
    {
     "data": {
      "image/png": "[encoded data removed]",
      "text/plain": [
       "<Figure size 432x288 with 1 Axes>"
      ]
     },
     "metadata": {
      "needs_background": "light"
     },
     "output_type": "display_data"
    },
    {
     "data": {
      "image/png": "[encoded data removed]",
      "text/plain": [
       "<Figure size 432x288 with 1 Axes>"
      ]
     },
     "metadata": {
      "needs_background": "light"
     },
     "output_type": "display_data"
    }
   ],
   "source": [
    "import statsmodels.graphics.tsaplots as tsa_plots\n",
    "tsa_plots.plot_acf(df['Sales']);\n",
    "tsa_plots.plot_pacf(df['Sales']);"
   ]
  },
  {
   "cell_type": "code",
   "execution_count": 89,
   "id": "1a0cbe89",
   "metadata": {
    "ExecuteTime": {
     "end_time": "2022-03-13T04:30:18.574346Z",
     "start_time": "2022-03-13T04:30:18.559353Z"
    }
   },
   "outputs": [],
   "source": [
    "#hyper parameter for pdq values\n",
    "import itertools\n",
    "p=q=range(0,9)\n",
    "d=range(0,4)\n"
   ]
  },
  {
   "cell_type": "code",
   "execution_count": 90,
   "id": "ae1dbf70",
   "metadata": {
    "ExecuteTime": {
     "end_time": "2022-03-13T04:30:19.391307Z",
     "start_time": "2022-03-13T04:30:19.380294Z"
    }
   },
   "outputs": [],
   "source": [
    "pdq_combinations=list(itertools.product(p,d,q))"
   ]
  },
  {
   "cell_type": "code",
   "execution_count": 91,
   "id": "0ff4f9ea",
   "metadata": {
    "ExecuteTime": {
     "end_time": "2022-03-13T04:30:20.136369Z",
     "start_time": "2022-03-13T04:30:20.087361Z"
    }
   },
   "outputs": [
    {
     "data": {
      "text/plain": [
       "[(0, 0, 0),\n",
       " (0, 0, 1),\n",
       " (0, 0, 2),\n",
       " (0, 0, 3),\n",
       " (0, 0, 4),\n",
       " (0, 0, 5),\n",
       " (0, 0, 6),\n",
       " (0, 0, 7),\n",
       " (0, 0, 8),\n",
       " (0, 1, 0),\n",
       " (0, 1, 1),\n",
       " (0, 1, 2),\n",
       " (0, 1, 3),\n",
       " (0, 1, 4),\n",
       " (0, 1, 5),\n",
       " (0, 1, 6),\n",
       " (0, 1, 7),\n",
       " (0, 1, 8),\n",
       " (0, 2, 0),\n",
       " (0, 2, 1),\n",
       " (0, 2, 2),\n",
       " (0, 2, 3),\n",
       " (0, 2, 4),\n",
       " (0, 2, 5),\n",
       " (0, 2, 6),\n",
       " (0, 2, 7),\n",
       " (0, 2, 8),\n",
       " (0, 3, 0),\n",
       " (0, 3, 1),\n",
       " (0, 3, 2),\n",
       " (0, 3, 3),\n",
       " (0, 3, 4),\n",
       " (0, 3, 5),\n",
       " (0, 3, 6),\n",
       " (0, 3, 7),\n",
       " (0, 3, 8),\n",
       " (1, 0, 0),\n",
       " (1, 0, 1),\n",
       " (1, 0, 2),\n",
       " (1, 0, 3),\n",
       " (1, 0, 4),\n",
       " (1, 0, 5),\n",
       " (1, 0, 6),\n",
       " (1, 0, 7),\n",
       " (1, 0, 8),\n",
       " (1, 1, 0),\n",
       " (1, 1, 1),\n",
       " (1, 1, 2),\n",
       " (1, 1, 3),\n",
       " (1, 1, 4),\n",
       " (1, 1, 5),\n",
       " (1, 1, 6),\n",
       " (1, 1, 7),\n",
       " (1, 1, 8),\n",
       " (1, 2, 0),\n",
       " (1, 2, 1),\n",
       " (1, 2, 2),\n",
       " (1, 2, 3),\n",
       " (1, 2, 4),\n",
       " (1, 2, 5),\n",
       " (1, 2, 6),\n",
       " (1, 2, 7),\n",
       " (1, 2, 8),\n",
       " (1, 3, 0),\n",
       " (1, 3, 1),\n",
       " (1, 3, 2),\n",
       " (1, 3, 3),\n",
       " (1, 3, 4),\n",
       " (1, 3, 5),\n",
       " (1, 3, 6),\n",
       " (1, 3, 7),\n",
       " (1, 3, 8),\n",
       " (2, 0, 0),\n",
       " (2, 0, 1),\n",
       " (2, 0, 2),\n",
       " (2, 0, 3),\n",
       " (2, 0, 4),\n",
       " (2, 0, 5),\n",
       " (2, 0, 6),\n",
       " (2, 0, 7),\n",
       " (2, 0, 8),\n",
       " (2, 1, 0),\n",
       " (2, 1, 1),\n",
       " (2, 1, 2),\n",
       " (2, 1, 3),\n",
       " (2, 1, 4),\n",
       " (2, 1, 5),\n",
       " (2, 1, 6),\n",
       " (2, 1, 7),\n",
       " (2, 1, 8),\n",
       " (2, 2, 0),\n",
       " (2, 2, 1),\n",
       " (2, 2, 2),\n",
       " (2, 2, 3),\n",
       " (2, 2, 4),\n",
       " (2, 2, 5),\n",
       " (2, 2, 6),\n",
       " (2, 2, 7),\n",
       " (2, 2, 8),\n",
       " (2, 3, 0),\n",
       " (2, 3, 1),\n",
       " (2, 3, 2),\n",
       " (2, 3, 3),\n",
       " (2, 3, 4),\n",
       " (2, 3, 5),\n",
       " (2, 3, 6),\n",
       " (2, 3, 7),\n",
       " (2, 3, 8),\n",
       " (3, 0, 0),\n",
       " (3, 0, 1),\n",
       " (3, 0, 2),\n",
       " (3, 0, 3),\n",
       " (3, 0, 4),\n",
       " (3, 0, 5),\n",
       " (3, 0, 6),\n",
       " (3, 0, 7),\n",
       " (3, 0, 8),\n",
       " (3, 1, 0),\n",
       " (3, 1, 1),\n",
       " (3, 1, 2),\n",
       " (3, 1, 3),\n",
       " (3, 1, 4),\n",
       " (3, 1, 5),\n",
       " (3, 1, 6),\n",
       " (3, 1, 7),\n",
       " (3, 1, 8),\n",
       " (3, 2, 0),\n",
       " (3, 2, 1),\n",
       " (3, 2, 2),\n",
       " (3, 2, 3),\n",
       " (3, 2, 4),\n",
       " (3, 2, 5),\n",
       " (3, 2, 6),\n",
       " (3, 2, 7),\n",
       " (3, 2, 8),\n",
       " (3, 3, 0),\n",
       " (3, 3, 1),\n",
       " (3, 3, 2),\n",
       " (3, 3, 3),\n",
       " (3, 3, 4),\n",
       " (3, 3, 5),\n",
       " (3, 3, 6),\n",
       " (3, 3, 7),\n",
       " (3, 3, 8),\n",
       " (4, 0, 0),\n",
       " (4, 0, 1),\n",
       " (4, 0, 2),\n",
       " (4, 0, 3),\n",
       " (4, 0, 4),\n",
       " (4, 0, 5),\n",
       " (4, 0, 6),\n",
       " (4, 0, 7),\n",
       " (4, 0, 8),\n",
       " (4, 1, 0),\n",
       " (4, 1, 1),\n",
       " (4, 1, 2),\n",
       " (4, 1, 3),\n",
       " (4, 1, 4),\n",
       " (4, 1, 5),\n",
       " (4, 1, 6),\n",
       " (4, 1, 7),\n",
       " (4, 1, 8),\n",
       " (4, 2, 0),\n",
       " (4, 2, 1),\n",
       " (4, 2, 2),\n",
       " (4, 2, 3),\n",
       " (4, 2, 4),\n",
       " (4, 2, 5),\n",
       " (4, 2, 6),\n",
       " (4, 2, 7),\n",
       " (4, 2, 8),\n",
       " (4, 3, 0),\n",
       " (4, 3, 1),\n",
       " (4, 3, 2),\n",
       " (4, 3, 3),\n",
       " (4, 3, 4),\n",
       " (4, 3, 5),\n",
       " (4, 3, 6),\n",
       " (4, 3, 7),\n",
       " (4, 3, 8),\n",
       " (5, 0, 0),\n",
       " (5, 0, 1),\n",
       " (5, 0, 2),\n",
       " (5, 0, 3),\n",
       " (5, 0, 4),\n",
       " (5, 0, 5),\n",
       " (5, 0, 6),\n",
       " (5, 0, 7),\n",
       " (5, 0, 8),\n",
       " (5, 1, 0),\n",
       " (5, 1, 1),\n",
       " (5, 1, 2),\n",
       " (5, 1, 3),\n",
       " (5, 1, 4),\n",
       " (5, 1, 5),\n",
       " (5, 1, 6),\n",
       " (5, 1, 7),\n",
       " (5, 1, 8),\n",
       " (5, 2, 0),\n",
       " (5, 2, 1),\n",
       " (5, 2, 2),\n",
       " (5, 2, 3),\n",
       " (5, 2, 4),\n",
       " (5, 2, 5),\n",
       " (5, 2, 6),\n",
       " (5, 2, 7),\n",
       " (5, 2, 8),\n",
       " (5, 3, 0),\n",
       " (5, 3, 1),\n",
       " (5, 3, 2),\n",
       " (5, 3, 3),\n",
       " (5, 3, 4),\n",
       " (5, 3, 5),\n",
       " (5, 3, 6),\n",
       " (5, 3, 7),\n",
       " (5, 3, 8),\n",
       " (6, 0, 0),\n",
       " (6, 0, 1),\n",
       " (6, 0, 2),\n",
       " (6, 0, 3),\n",
       " (6, 0, 4),\n",
       " (6, 0, 5),\n",
       " (6, 0, 6),\n",
       " (6, 0, 7),\n",
       " (6, 0, 8),\n",
       " (6, 1, 0),\n",
       " (6, 1, 1),\n",
       " (6, 1, 2),\n",
       " (6, 1, 3),\n",
       " (6, 1, 4),\n",
       " (6, 1, 5),\n",
       " (6, 1, 6),\n",
       " (6, 1, 7),\n",
       " (6, 1, 8),\n",
       " (6, 2, 0),\n",
       " (6, 2, 1),\n",
       " (6, 2, 2),\n",
       " (6, 2, 3),\n",
       " (6, 2, 4),\n",
       " (6, 2, 5),\n",
       " (6, 2, 6),\n",
       " (6, 2, 7),\n",
       " (6, 2, 8),\n",
       " (6, 3, 0),\n",
       " (6, 3, 1),\n",
       " (6, 3, 2),\n",
       " (6, 3, 3),\n",
       " (6, 3, 4),\n",
       " (6, 3, 5),\n",
       " (6, 3, 6),\n",
       " (6, 3, 7),\n",
       " (6, 3, 8),\n",
       " (7, 0, 0),\n",
       " (7, 0, 1),\n",
       " (7, 0, 2),\n",
       " (7, 0, 3),\n",
       " (7, 0, 4),\n",
       " (7, 0, 5),\n",
       " (7, 0, 6),\n",
       " (7, 0, 7),\n",
       " (7, 0, 8),\n",
       " (7, 1, 0),\n",
       " (7, 1, 1),\n",
       " (7, 1, 2),\n",
       " (7, 1, 3),\n",
       " (7, 1, 4),\n",
       " (7, 1, 5),\n",
       " (7, 1, 6),\n",
       " (7, 1, 7),\n",
       " (7, 1, 8),\n",
       " (7, 2, 0),\n",
       " (7, 2, 1),\n",
       " (7, 2, 2),\n",
       " (7, 2, 3),\n",
       " (7, 2, 4),\n",
       " (7, 2, 5),\n",
       " (7, 2, 6),\n",
       " (7, 2, 7),\n",
       " (7, 2, 8),\n",
       " (7, 3, 0),\n",
       " (7, 3, 1),\n",
       " (7, 3, 2),\n",
       " (7, 3, 3),\n",
       " (7, 3, 4),\n",
       " (7, 3, 5),\n",
       " (7, 3, 6),\n",
       " (7, 3, 7),\n",
       " (7, 3, 8),\n",
       " (8, 0, 0),\n",
       " (8, 0, 1),\n",
       " (8, 0, 2),\n",
       " (8, 0, 3),\n",
       " (8, 0, 4),\n",
       " (8, 0, 5),\n",
       " (8, 0, 6),\n",
       " (8, 0, 7),\n",
       " (8, 0, 8),\n",
       " (8, 1, 0),\n",
       " (8, 1, 1),\n",
       " (8, 1, 2),\n",
       " (8, 1, 3),\n",
       " (8, 1, 4),\n",
       " (8, 1, 5),\n",
       " (8, 1, 6),\n",
       " (8, 1, 7),\n",
       " (8, 1, 8),\n",
       " (8, 2, 0),\n",
       " (8, 2, 1),\n",
       " (8, 2, 2),\n",
       " (8, 2, 3),\n",
       " (8, 2, 4),\n",
       " (8, 2, 5),\n",
       " (8, 2, 6),\n",
       " (8, 2, 7),\n",
       " (8, 2, 8),\n",
       " (8, 3, 0),\n",
       " (8, 3, 1),\n",
       " (8, 3, 2),\n",
       " (8, 3, 3),\n",
       " (8, 3, 4),\n",
       " (8, 3, 5),\n",
       " (8, 3, 6),\n",
       " (8, 3, 7),\n",
       " (8, 3, 8)]"
      ]
     },
     "execution_count": 91,
     "metadata": {},
     "output_type": "execute_result"
    }
   ],
   "source": [
    "pdq_combinations"
   ]
  },
  {
   "cell_type": "code",
   "execution_count": 92,
   "id": "16afdf14",
   "metadata": {
    "ExecuteTime": {
     "end_time": "2022-03-13T04:30:21.240302Z",
     "start_time": "2022-03-13T04:30:21.232303Z"
    }
   },
   "outputs": [],
   "source": [
    "from statsmodels.tsa.arima_model import ARIMA\n",
    "import warnings\n"
   ]
  },
  {
   "cell_type": "code",
   "execution_count": 93,
   "id": "3763f249",
   "metadata": {
    "ExecuteTime": {
     "end_time": "2022-03-13T04:30:21.957366Z",
     "start_time": "2022-03-13T04:30:21.941373Z"
    }
   },
   "outputs": [],
   "source": [
    "warnings.filterwarnings(\"ignore\")"
   ]
  },
  {
   "cell_type": "code",
   "execution_count": 94,
   "id": "16b716bc",
   "metadata": {
    "ExecuteTime": {
     "end_time": "2022-03-13T04:30:59.522155Z",
     "start_time": "2022-03-13T04:30:22.460145Z"
    }
   },
   "outputs": [],
   "source": [
    "rmse=[]\n",
    "order=[]\n",
    "for pdq in pdq_combinations:\n",
    "    try:\n",
    "        model=ARIMA(train,order=pdq).fit()\n",
    "        pred=model.predict(start=len(train),end=(len(df)-1))\n",
    "        error=np.sqrt(mean_squared_error(test,pred))\n",
    "        rmse.append(error)\n",
    "        order.append(pdq)\n",
    "    except:\n",
    "        continue"
   ]
  },
  {
   "cell_type": "code",
   "execution_count": 95,
   "id": "225c8c14",
   "metadata": {
    "ExecuteTime": {
     "end_time": "2022-03-13T04:30:59.884208Z",
     "start_time": "2022-03-13T04:30:59.871164Z"
    }
   },
   "outputs": [],
   "source": [
    "rsults=pd.DataFrame(data=rmse,index=order,columns=['RMSE'])"
   ]
  },
  {
   "cell_type": "code",
   "execution_count": 96,
   "id": "bb2973a7",
   "metadata": {
    "ExecuteTime": {
     "end_time": "2022-03-13T04:31:02.308413Z",
     "start_time": "2022-03-13T04:31:02.285427Z"
    }
   },
   "outputs": [
    {
     "data": {
      "text/html": [
       "<div>\n",
       "<style scoped>\n",
       "    .dataframe tbody tr th:only-of-type {\n",
       "        vertical-align: middle;\n",
       "    }\n",
       "\n",
       "    .dataframe tbody tr th {\n",
       "        vertical-align: top;\n",
       "    }\n",
       "\n",
       "    .dataframe thead th {\n",
       "        text-align: right;\n",
       "    }\n",
       "</style>\n",
       "<table border=\"1\" class=\"dataframe\">\n",
       "  <thead>\n",
       "    <tr style=\"text-align: right;\">\n",
       "      <th></th>\n",
       "      <th>RMSE</th>\n",
       "    </tr>\n",
       "  </thead>\n",
       "  <tbody>\n",
       "    <tr>\n",
       "      <th>(5, 0, 1)</th>\n",
       "      <td>109.214802</td>\n",
       "    </tr>\n",
       "    <tr>\n",
       "      <th>(6, 0, 0)</th>\n",
       "      <td>109.844951</td>\n",
       "    </tr>\n",
       "    <tr>\n",
       "      <th>(5, 0, 0)</th>\n",
       "      <td>112.473550</td>\n",
       "    </tr>\n",
       "    <tr>\n",
       "      <th>(3, 0, 0)</th>\n",
       "      <td>337.579371</td>\n",
       "    </tr>\n",
       "    <tr>\n",
       "      <th>(4, 0, 0)</th>\n",
       "      <td>368.950001</td>\n",
       "    </tr>\n",
       "    <tr>\n",
       "      <th>...</th>\n",
       "      <td>...</td>\n",
       "    </tr>\n",
       "    <tr>\n",
       "      <th>(0, 2, 6)</th>\n",
       "      <td>4979.308233</td>\n",
       "    </tr>\n",
       "    <tr>\n",
       "      <th>(0, 2, 7)</th>\n",
       "      <td>4985.047300</td>\n",
       "    </tr>\n",
       "    <tr>\n",
       "      <th>(0, 2, 5)</th>\n",
       "      <td>4988.873993</td>\n",
       "    </tr>\n",
       "    <tr>\n",
       "      <th>(0, 2, 4)</th>\n",
       "      <td>5067.040281</td>\n",
       "    </tr>\n",
       "    <tr>\n",
       "      <th>(0, 2, 8)</th>\n",
       "      <td>5093.123292</td>\n",
       "    </tr>\n",
       "  </tbody>\n",
       "</table>\n",
       "<p>62 rows × 1 columns</p>\n",
       "</div>"
      ],
      "text/plain": [
       "                  RMSE\n",
       "(5, 0, 1)   109.214802\n",
       "(6, 0, 0)   109.844951\n",
       "(5, 0, 0)   112.473550\n",
       "(3, 0, 0)   337.579371\n",
       "(4, 0, 0)   368.950001\n",
       "...                ...\n",
       "(0, 2, 6)  4979.308233\n",
       "(0, 2, 7)  4985.047300\n",
       "(0, 2, 5)  4988.873993\n",
       "(0, 2, 4)  5067.040281\n",
       "(0, 2, 8)  5093.123292\n",
       "\n",
       "[62 rows x 1 columns]"
      ]
     },
     "execution_count": 96,
     "metadata": {},
     "output_type": "execute_result"
    }
   ],
   "source": [
    "rsults.sort_values('RMSE')"
   ]
  },
  {
   "cell_type": "code",
   "execution_count": 97,
   "id": "0b212198",
   "metadata": {
    "ExecuteTime": {
     "end_time": "2022-03-13T04:31:18.348570Z",
     "start_time": "2022-03-13T04:31:17.560464Z"
    }
   },
   "outputs": [
    {
     "data": {
      "text/plain": [
       "1995-07-01    4986.374825\n",
       "1995-10-01    4478.533807\n",
       "1996-01-01    4320.273948\n",
       "1996-04-01    5300.296242\n",
       "Freq: QS-OCT, dtype: float64"
      ]
     },
     "execution_count": 97,
     "metadata": {},
     "output_type": "execute_result"
    }
   ],
   "source": [
    "model=ARIMA(train,order=(5,0,1)).fit()\n",
    "pred=model.predict(start=len(train),end=(len(df)-1))\n",
    "pred"
   ]
  },
  {
   "cell_type": "code",
   "execution_count": 98,
   "id": "5e88b81d",
   "metadata": {
    "ExecuteTime": {
     "end_time": "2022-03-13T04:31:19.507429Z",
     "start_time": "2022-03-13T04:31:19.492438Z"
    }
   },
   "outputs": [
    {
     "data": {
      "text/html": [
       "<div>\n",
       "<style scoped>\n",
       "    .dataframe tbody tr th:only-of-type {\n",
       "        vertical-align: middle;\n",
       "    }\n",
       "\n",
       "    .dataframe tbody tr th {\n",
       "        vertical-align: top;\n",
       "    }\n",
       "\n",
       "    .dataframe thead th {\n",
       "        text-align: right;\n",
       "    }\n",
       "</style>\n",
       "<table border=\"1\" class=\"dataframe\">\n",
       "  <thead>\n",
       "    <tr style=\"text-align: right;\">\n",
       "      <th></th>\n",
       "      <th>Sales</th>\n",
       "    </tr>\n",
       "    <tr>\n",
       "      <th>quarter</th>\n",
       "      <th></th>\n",
       "    </tr>\n",
       "  </thead>\n",
       "  <tbody>\n",
       "    <tr>\n",
       "      <th>1995-07-01</th>\n",
       "      <td>4895.0</td>\n",
       "    </tr>\n",
       "    <tr>\n",
       "      <th>1995-10-01</th>\n",
       "      <td>4333.0</td>\n",
       "    </tr>\n",
       "    <tr>\n",
       "      <th>1996-01-01</th>\n",
       "      <td>4194.0</td>\n",
       "    </tr>\n",
       "    <tr>\n",
       "      <th>1996-04-01</th>\n",
       "      <td>5253.0</td>\n",
       "    </tr>\n",
       "  </tbody>\n",
       "</table>\n",
       "</div>"
      ],
      "text/plain": [
       "             Sales\n",
       "quarter           \n",
       "1995-07-01  4895.0\n",
       "1995-10-01  4333.0\n",
       "1996-01-01  4194.0\n",
       "1996-04-01  5253.0"
      ]
     },
     "execution_count": 98,
     "metadata": {},
     "output_type": "execute_result"
    }
   ],
   "source": [
    "test"
   ]
  },
  {
   "cell_type": "code",
   "execution_count": 99,
   "id": "2deab1db",
   "metadata": {
    "ExecuteTime": {
     "end_time": "2022-03-13T04:31:22.691504Z",
     "start_time": "2022-03-13T04:31:22.676493Z"
    }
   },
   "outputs": [
    {
     "data": {
      "text/plain": [
       "109.21480226367632"
      ]
     },
     "execution_count": 99,
     "metadata": {},
     "output_type": "execute_result"
    }
   ],
   "source": [
    "error=np.sqrt(mean_squared_error(test,pred))\n",
    "error"
   ]
  },
  {
   "cell_type": "code",
   "execution_count": 101,
   "id": "cee92e13",
   "metadata": {
    "ExecuteTime": {
     "end_time": "2022-03-13T04:33:05.001883Z",
     "start_time": "2022-03-13T04:33:04.589521Z"
    }
   },
   "outputs": [
    {
     "data": {
      "text/plain": [
       "<AxesSubplot:xlabel='quarter'>"
      ]
     },
     "execution_count": 101,
     "metadata": {},
     "output_type": "execute_result"
    },
    {
     "data": {
      "image/png": "[encoded data removed]",
      "text/plain": [
       "<Figure size 720x432 with 1 Axes>"
      ]
     },
     "metadata": {
      "needs_background": "light"
     },
     "output_type": "display_data"
    }
   ],
   "source": [
    "train['Sales'].plot(legend=True, label='Train', figsize=(10,6))\n",
    "test['Sales'].plot(legend=True, label='Test')\n",
    "\n",
    "pred.plot(legend=True, label='predicted')"
   ]
  },
  {
   "cell_type": "code",
   "execution_count": 100,
   "id": "82c8485a",
   "metadata": {
    "ExecuteTime": {
     "end_time": "2022-03-13T04:31:45.922255Z",
     "start_time": "2022-03-13T04:31:45.688310Z"
    }
   },
   "outputs": [
    {
     "data": {
      "text/plain": [
       "[<matplotlib.lines.Line2D at 0x272bd34e7f0>]"
      ]
     },
     "execution_count": 100,
     "metadata": {},
     "output_type": "execute_result"
    },
    {
     "data": {
      "image/png": "[encoded data removed]",
      "text/plain": [
       "<Figure size 432x288 with 1 Axes>"
      ]
     },
     "metadata": {
      "needs_background": "light"
     },
     "output_type": "display_data"
    }
   ],
   "source": [
    "plt.plot(test)\n",
    "plt.plot(pred, color='red')"
   ]
  },
  {
   "cell_type": "code",
   "execution_count": null,
   "id": "a0665d50",
   "metadata": {},
   "outputs": [],
   "source": []
  }
 ],
 "metadata": {
  "kernelspec": {
   "display_name": "Python 3 (ipykernel)",
   "language": "python",
   "name": "python3"
  },
  "language_info": {
   "codemirror_mode": {
    "name": "ipython",
    "version": 3
   },
   "file_extension": ".py",
   "mimetype": "text/x-python",
   "name": "python",
   "nbconvert_exporter": "python",
   "pygments_lexer": "ipython3",
   "version": "3.9.7"
  },
  "varInspector": {
   "cols": {
    "lenName": 16,
    "lenType": 16,
    "lenVar": 40
   },
   "kernels_config": {
    "python": {
     "delete_cmd_postfix": "",
     "delete_cmd_prefix": "del ",
     "library": "var_list.py",
     "varRefreshCmd": "print(var_dic_list())"
    },
    "r": {
     "delete_cmd_postfix": ") ",
     "delete_cmd_prefix": "rm(",
     "library": "var_list.r",
     "varRefreshCmd": "cat(var_dic_list()) "
    }
   },
   "types_to_exclude": [
    "module",
    "function",
    "builtin_function_or_method",
    "instance",
    "_Feature"
   ],
   "window_display": false
  }
 },
 "nbformat": 4,
 "nbformat_minor": 5
}
