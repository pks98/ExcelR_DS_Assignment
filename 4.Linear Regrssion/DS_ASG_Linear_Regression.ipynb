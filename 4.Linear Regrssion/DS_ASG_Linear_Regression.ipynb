{
 "cells": [
  {
   "cell_type": "markdown",
   "id": "52a616f0",
   "metadata": {},
   "source": [
    "# 1) Delivery_time -> Predict delivery time using sorting time "
   ]
  },
  {
   "cell_type": "code",
   "execution_count": 1,
   "id": "306ae524",
   "metadata": {
    "ExecuteTime": {
     "end_time": "2022-03-08T05:05:01.912414Z",
     "start_time": "2022-03-08T05:04:59.194018Z"
    }
   },
   "outputs": [],
   "source": [
    "import pandas as pd\n",
    "import matplotlib.pyplot as plt\n",
    "import seaborn as sns\n",
    "%matplotlib inline"
   ]
  },
  {
   "cell_type": "code",
   "execution_count": 2,
   "id": "4bd9f1e4",
   "metadata": {
    "ExecuteTime": {
     "end_time": "2022-03-08T05:05:07.888444Z",
     "start_time": "2022-03-08T05:05:07.840454Z"
    }
   },
   "outputs": [
    {
     "data": {
      "text/html": [
       "<div>\n",
       "<style scoped>\n",
       "    .dataframe tbody tr th:only-of-type {\n",
       "        vertical-align: middle;\n",
       "    }\n",
       "\n",
       "    .dataframe tbody tr th {\n",
       "        vertical-align: top;\n",
       "    }\n",
       "\n",
       "    .dataframe thead th {\n",
       "        text-align: right;\n",
       "    }\n",
       "</style>\n",
       "<table border=\"1\" class=\"dataframe\">\n",
       "  <thead>\n",
       "    <tr style=\"text-align: right;\">\n",
       "      <th></th>\n",
       "      <th>Delivery Time</th>\n",
       "      <th>Sorting Time</th>\n",
       "    </tr>\n",
       "  </thead>\n",
       "  <tbody>\n",
       "    <tr>\n",
       "      <th>0</th>\n",
       "      <td>21.00</td>\n",
       "      <td>10</td>\n",
       "    </tr>\n",
       "    <tr>\n",
       "      <th>1</th>\n",
       "      <td>13.50</td>\n",
       "      <td>4</td>\n",
       "    </tr>\n",
       "    <tr>\n",
       "      <th>2</th>\n",
       "      <td>19.75</td>\n",
       "      <td>6</td>\n",
       "    </tr>\n",
       "    <tr>\n",
       "      <th>3</th>\n",
       "      <td>24.00</td>\n",
       "      <td>9</td>\n",
       "    </tr>\n",
       "    <tr>\n",
       "      <th>4</th>\n",
       "      <td>29.00</td>\n",
       "      <td>10</td>\n",
       "    </tr>\n",
       "  </tbody>\n",
       "</table>\n",
       "</div>"
      ],
      "text/plain": [
       "   Delivery Time  Sorting Time\n",
       "0          21.00            10\n",
       "1          13.50             4\n",
       "2          19.75             6\n",
       "3          24.00             9\n",
       "4          29.00            10"
      ]
     },
     "execution_count": 2,
     "metadata": {},
     "output_type": "execute_result"
    }
   ],
   "source": [
    "df=pd.read_csv(\"delivery_time.csv\")\n",
    "df.head() "
   ]
  },
  {
   "cell_type": "code",
   "execution_count": 3,
   "id": "9e0afcf8",
   "metadata": {
    "ExecuteTime": {
     "end_time": "2022-03-08T05:05:12.909511Z",
     "start_time": "2022-03-08T05:05:12.877511Z"
    }
   },
   "outputs": [
    {
     "name": "stdout",
     "output_type": "stream",
     "text": [
      "<class 'pandas.core.frame.DataFrame'>\n",
      "RangeIndex: 21 entries, 0 to 20\n",
      "Data columns (total 2 columns):\n",
      " #   Column         Non-Null Count  Dtype  \n",
      "---  ------         --------------  -----  \n",
      " 0   Delivery Time  21 non-null     float64\n",
      " 1   Sorting Time   21 non-null     int64  \n",
      "dtypes: float64(1), int64(1)\n",
      "memory usage: 464.0 bytes\n"
     ]
    }
   ],
   "source": [
    "df.info()"
   ]
  },
  {
   "cell_type": "code",
   "execution_count": 4,
   "id": "e1544137",
   "metadata": {
    "ExecuteTime": {
     "end_time": "2022-03-08T05:05:14.292984Z",
     "start_time": "2022-03-08T05:05:14.268966Z"
    }
   },
   "outputs": [
    {
     "data": {
      "text/plain": [
       "Delivery Time    0\n",
       "Sorting Time     0\n",
       "dtype: int64"
      ]
     },
     "execution_count": 4,
     "metadata": {},
     "output_type": "execute_result"
    }
   ],
   "source": [
    "df.isna().sum()"
   ]
  },
  {
   "cell_type": "code",
   "execution_count": 5,
   "id": "74c13ea5",
   "metadata": {
    "ExecuteTime": {
     "end_time": "2022-03-08T05:05:18.055874Z",
     "start_time": "2022-03-08T05:05:17.790124Z"
    }
   },
   "outputs": [
    {
     "data": {
      "text/plain": [
       "<AxesSubplot:xlabel='Delivery Time', ylabel='Sorting Time'>"
      ]
     },
     "execution_count": 5,
     "metadata": {},
     "output_type": "execute_result"
    },
    {
     "data": {
      "image/png": "[encoded data removed]",
      "text/plain": [
       "<Figure size 432x288 with 1 Axes>"
      ]
     },
     "metadata": {
      "needs_background": "light"
     },
     "output_type": "display_data"
    }
   ],
   "source": [
    "sns.scatterplot(x=\"Delivery Time\",y='Sorting Time',data=df)"
   ]
  },
  {
   "cell_type": "code",
   "execution_count": 6,
   "id": "1f1d78e6",
   "metadata": {
    "ExecuteTime": {
     "end_time": "2022-03-08T05:05:24.649386Z",
     "start_time": "2022-03-08T05:05:24.633411Z"
    }
   },
   "outputs": [
    {
     "data": {
      "text/html": [
       "<div>\n",
       "<style scoped>\n",
       "    .dataframe tbody tr th:only-of-type {\n",
       "        vertical-align: middle;\n",
       "    }\n",
       "\n",
       "    .dataframe tbody tr th {\n",
       "        vertical-align: top;\n",
       "    }\n",
       "\n",
       "    .dataframe thead th {\n",
       "        text-align: right;\n",
       "    }\n",
       "</style>\n",
       "<table border=\"1\" class=\"dataframe\">\n",
       "  <thead>\n",
       "    <tr style=\"text-align: right;\">\n",
       "      <th></th>\n",
       "      <th>Delivery Time</th>\n",
       "      <th>Sorting Time</th>\n",
       "    </tr>\n",
       "  </thead>\n",
       "  <tbody>\n",
       "    <tr>\n",
       "      <th>Delivery Time</th>\n",
       "      <td>1.000000</td>\n",
       "      <td>0.825997</td>\n",
       "    </tr>\n",
       "    <tr>\n",
       "      <th>Sorting Time</th>\n",
       "      <td>0.825997</td>\n",
       "      <td>1.000000</td>\n",
       "    </tr>\n",
       "  </tbody>\n",
       "</table>\n",
       "</div>"
      ],
      "text/plain": [
       "               Delivery Time  Sorting Time\n",
       "Delivery Time       1.000000      0.825997\n",
       "Sorting Time        0.825997      1.000000"
      ]
     },
     "execution_count": 6,
     "metadata": {},
     "output_type": "execute_result"
    }
   ],
   "source": [
    "df.corr()"
   ]
  },
  {
   "cell_type": "code",
   "execution_count": 7,
   "id": "fc30abb4",
   "metadata": {
    "ExecuteTime": {
     "end_time": "2022-03-08T05:05:38.905639Z",
     "start_time": "2022-03-08T05:05:38.680670Z"
    }
   },
   "outputs": [
    {
     "name": "stderr",
     "output_type": "stream",
     "text": [
      "C:\\Users\\Dell\\anaconda3\\lib\\site-packages\\seaborn\\distributions.py:2619: FutureWarning: `distplot` is a deprecated function and will be removed in a future version. Please adapt your code to use either `displot` (a figure-level function with similar flexibility) or `histplot` (an axes-level function for histograms).\n",
      "  warnings.warn(msg, FutureWarning)\n"
     ]
    },
    {
     "data": {
      "text/plain": [
       "<AxesSubplot:xlabel='Delivery Time', ylabel='Density'>"
      ]
     },
     "execution_count": 7,
     "metadata": {},
     "output_type": "execute_result"
    },
    {
     "data": {
      "image/png": "[encoded data removed]",
      "text/plain": [
       "<Figure size 432x288 with 1 Axes>"
      ]
     },
     "metadata": {
      "needs_background": "light"
     },
     "output_type": "display_data"
    }
   ],
   "source": [
    "sns.distplot(df['Delivery Time'])"
   ]
  },
  {
   "cell_type": "code",
   "execution_count": 8,
   "id": "82d0742b",
   "metadata": {
    "ExecuteTime": {
     "end_time": "2022-03-08T05:05:39.961489Z",
     "start_time": "2022-03-08T05:05:39.736096Z"
    }
   },
   "outputs": [
    {
     "name": "stderr",
     "output_type": "stream",
     "text": [
      "C:\\Users\\Dell\\anaconda3\\lib\\site-packages\\seaborn\\distributions.py:2619: FutureWarning: `distplot` is a deprecated function and will be removed in a future version. Please adapt your code to use either `displot` (a figure-level function with similar flexibility) or `histplot` (an axes-level function for histograms).\n",
      "  warnings.warn(msg, FutureWarning)\n"
     ]
    },
    {
     "data": {
      "text/plain": [
       "<AxesSubplot:xlabel='Sorting Time', ylabel='Density'>"
      ]
     },
     "execution_count": 8,
     "metadata": {},
     "output_type": "execute_result"
    },
    {
     "data": {
      "image/png": "[encoded data removed]",
      "text/plain": [
       "<Figure size 432x288 with 1 Axes>"
      ]
     },
     "metadata": {
      "needs_background": "light"
     },
     "output_type": "display_data"
    }
   ],
   "source": [
    "sns.distplot(df['Sorting Time'])"
   ]
  },
  {
   "cell_type": "code",
   "execution_count": 9,
   "id": "01f42dae",
   "metadata": {
    "ExecuteTime": {
     "end_time": "2022-03-08T05:05:58.318079Z",
     "start_time": "2022-03-08T05:05:58.294061Z"
    }
   },
   "outputs": [
    {
     "data": {
      "text/html": [
       "<div>\n",
       "<style scoped>\n",
       "    .dataframe tbody tr th:only-of-type {\n",
       "        vertical-align: middle;\n",
       "    }\n",
       "\n",
       "    .dataframe tbody tr th {\n",
       "        vertical-align: top;\n",
       "    }\n",
       "\n",
       "    .dataframe thead th {\n",
       "        text-align: right;\n",
       "    }\n",
       "</style>\n",
       "<table border=\"1\" class=\"dataframe\">\n",
       "  <thead>\n",
       "    <tr style=\"text-align: right;\">\n",
       "      <th></th>\n",
       "      <th>DeliveryTime</th>\n",
       "      <th>SortingTime</th>\n",
       "    </tr>\n",
       "  </thead>\n",
       "  <tbody>\n",
       "    <tr>\n",
       "      <th>0</th>\n",
       "      <td>21.00</td>\n",
       "      <td>10</td>\n",
       "    </tr>\n",
       "    <tr>\n",
       "      <th>1</th>\n",
       "      <td>13.50</td>\n",
       "      <td>4</td>\n",
       "    </tr>\n",
       "    <tr>\n",
       "      <th>2</th>\n",
       "      <td>19.75</td>\n",
       "      <td>6</td>\n",
       "    </tr>\n",
       "    <tr>\n",
       "      <th>3</th>\n",
       "      <td>24.00</td>\n",
       "      <td>9</td>\n",
       "    </tr>\n",
       "    <tr>\n",
       "      <th>4</th>\n",
       "      <td>29.00</td>\n",
       "      <td>10</td>\n",
       "    </tr>\n",
       "  </tbody>\n",
       "</table>\n",
       "</div>"
      ],
      "text/plain": [
       "   DeliveryTime  SortingTime\n",
       "0         21.00           10\n",
       "1         13.50            4\n",
       "2         19.75            6\n",
       "3         24.00            9\n",
       "4         29.00           10"
      ]
     },
     "execution_count": 9,
     "metadata": {},
     "output_type": "execute_result"
    }
   ],
   "source": [
    "df=df.rename({'Delivery Time':'DeliveryTime', 'Sorting Time':'SortingTime'},axis=1)\n",
    "df.head()"
   ]
  },
  {
   "cell_type": "code",
   "execution_count": 10,
   "id": "6f0f8aec",
   "metadata": {
    "ExecuteTime": {
     "end_time": "2022-03-08T05:06:33.662236Z",
     "start_time": "2022-03-08T05:06:33.238961Z"
    }
   },
   "outputs": [],
   "source": [
    "import statsmodels.formula.api as smf"
   ]
  },
  {
   "cell_type": "code",
   "execution_count": 11,
   "id": "ebb97804",
   "metadata": {
    "ExecuteTime": {
     "end_time": "2022-03-08T05:06:35.170628Z",
     "start_time": "2022-03-08T05:06:35.154629Z"
    }
   },
   "outputs": [],
   "source": [
    "model1=smf.ols(\"DeliveryTime~SortingTime\",data=df).fit()"
   ]
  },
  {
   "cell_type": "code",
   "execution_count": 12,
   "id": "a5db966f",
   "metadata": {
    "ExecuteTime": {
     "end_time": "2022-03-08T05:06:42.764089Z",
     "start_time": "2022-03-08T05:06:42.401188Z"
    }
   },
   "outputs": [
    {
     "data": {
      "text/plain": [
       "<AxesSubplot:xlabel='DeliveryTime', ylabel='SortingTime'>"
      ]
     },
     "execution_count": 12,
     "metadata": {},
     "output_type": "execute_result"
    },
    {
     "data": {
      "image/png": "[encoded data removed]",
      "text/plain": [
       "<Figure size 432x288 with 1 Axes>"
      ]
     },
     "metadata": {
      "needs_background": "light"
     },
     "output_type": "display_data"
    }
   ],
   "source": [
    "sns.regplot(x='DeliveryTime',y='SortingTime',data=df)"
   ]
  },
  {
   "cell_type": "code",
   "execution_count": 13,
   "id": "ea08f8e8",
   "metadata": {
    "ExecuteTime": {
     "end_time": "2022-03-08T05:06:49.714647Z",
     "start_time": "2022-03-08T05:06:49.698649Z"
    }
   },
   "outputs": [
    {
     "data": {
      "text/plain": [
       "Intercept      6.582734\n",
       "SortingTime    1.649020\n",
       "dtype: float64"
      ]
     },
     "execution_count": 13,
     "metadata": {},
     "output_type": "execute_result"
    }
   ],
   "source": [
    "model1.params"
   ]
  },
  {
   "cell_type": "code",
   "execution_count": 15,
   "id": "0bfe0799",
   "metadata": {
    "ExecuteTime": {
     "end_time": "2022-03-08T05:06:59.274411Z",
     "start_time": "2022-03-08T05:06:59.250455Z"
    }
   },
   "outputs": [
    {
     "name": "stdout",
     "output_type": "stream",
     "text": [
      "Intercept      3.823349\n",
      "SortingTime    6.387447\n",
      "dtype: float64\n",
      "Intercept      0.001147\n",
      "SortingTime    0.000004\n",
      "dtype: float64\n"
     ]
    }
   ],
   "source": [
    "print(model1.tvalues)\n",
    "print(model1.pvalues)"
   ]
  },
  {
   "cell_type": "code",
   "execution_count": 50,
   "id": "026c69c1",
   "metadata": {
    "ExecuteTime": {
     "end_time": "2022-02-02T12:32:37.753026Z",
     "start_time": "2022-02-02T12:32:37.732014Z"
    }
   },
   "outputs": [
    {
     "data": {
      "text/plain": [
       "0     23.072933\n",
       "1     13.178814\n",
       "2     16.476853\n",
       "3     21.423913\n",
       "4     23.072933\n",
       "5     16.476853\n",
       "6     18.125873\n",
       "7     11.529794\n",
       "8     23.072933\n",
       "9     21.423913\n",
       "10    19.774893\n",
       "11    13.178814\n",
       "12    18.125873\n",
       "13    11.529794\n",
       "14    11.529794\n",
       "15    13.178814\n",
       "16    16.476853\n",
       "17    18.125873\n",
       "18     9.880774\n",
       "19    18.125873\n",
       "20    14.827833\n",
       "dtype: float64"
      ]
     },
     "execution_count": 50,
     "metadata": {},
     "output_type": "execute_result"
    }
   ],
   "source": [
    "model.fittedvalues"
   ]
  },
  {
   "cell_type": "code",
   "execution_count": 16,
   "id": "1b44c669",
   "metadata": {
    "ExecuteTime": {
     "end_time": "2022-03-08T05:07:13.104362Z",
     "start_time": "2022-03-08T05:07:13.088385Z"
    }
   },
   "outputs": [
    {
     "data": {
      "text/plain": [
       "0.6822714748417231"
      ]
     },
     "execution_count": 16,
     "metadata": {},
     "output_type": "execute_result"
    }
   ],
   "source": [
    "model1.rsquared"
   ]
  },
  {
   "cell_type": "code",
   "execution_count": 20,
   "id": "6e76e0a4",
   "metadata": {
    "ExecuteTime": {
     "end_time": "2022-03-08T05:11:14.266802Z",
     "start_time": "2022-03-08T05:11:14.258809Z"
    }
   },
   "outputs": [],
   "source": [
    "import numpy as np\n",
    "df['log_SortingTime']=np.log(df['SortingTime'])"
   ]
  },
  {
   "cell_type": "code",
   "execution_count": 22,
   "id": "ceee5a26",
   "metadata": {
    "ExecuteTime": {
     "end_time": "2022-03-08T05:15:00.475321Z",
     "start_time": "2022-03-08T05:15:00.451350Z"
    }
   },
   "outputs": [],
   "source": [
    "df['log_DeliveryTime']=np.log(df['DeliveryTime'])\n",
    "df['sqrt_SortingTime']=np.sqrt(df['SortingTime'])\n",
    "df['sqrt_DeliveryTime']=np.sqrt(df['DeliveryTime'])\n",
    "df['sq_SortingTime']=np.square(df['SortingTime'])\n",
    "df['sq_DeliveryTime']=np.square(df['DeliveryTime'])"
   ]
  },
  {
   "cell_type": "code",
   "execution_count": 23,
   "id": "41a4ef67",
   "metadata": {
    "ExecuteTime": {
     "end_time": "2022-03-08T05:15:06.703998Z",
     "start_time": "2022-03-08T05:15:06.671997Z"
    }
   },
   "outputs": [
    {
     "data": {
      "text/html": [
       "<div>\n",
       "<style scoped>\n",
       "    .dataframe tbody tr th:only-of-type {\n",
       "        vertical-align: middle;\n",
       "    }\n",
       "\n",
       "    .dataframe tbody tr th {\n",
       "        vertical-align: top;\n",
       "    }\n",
       "\n",
       "    .dataframe thead th {\n",
       "        text-align: right;\n",
       "    }\n",
       "</style>\n",
       "<table border=\"1\" class=\"dataframe\">\n",
       "  <thead>\n",
       "    <tr style=\"text-align: right;\">\n",
       "      <th></th>\n",
       "      <th>DeliveryTime</th>\n",
       "      <th>SortingTime</th>\n",
       "      <th>log_SortingTime</th>\n",
       "      <th>log_DeliveryTime</th>\n",
       "      <th>sqrt_SortingTime</th>\n",
       "      <th>sqrt_DeliveryTime</th>\n",
       "      <th>sq_SortingTime</th>\n",
       "      <th>sq_DeliveryTime</th>\n",
       "    </tr>\n",
       "  </thead>\n",
       "  <tbody>\n",
       "    <tr>\n",
       "      <th>0</th>\n",
       "      <td>21.00</td>\n",
       "      <td>10</td>\n",
       "      <td>2.302585</td>\n",
       "      <td>3.044522</td>\n",
       "      <td>3.162278</td>\n",
       "      <td>4.582576</td>\n",
       "      <td>100</td>\n",
       "      <td>441.0000</td>\n",
       "    </tr>\n",
       "    <tr>\n",
       "      <th>1</th>\n",
       "      <td>13.50</td>\n",
       "      <td>4</td>\n",
       "      <td>1.386294</td>\n",
       "      <td>2.602690</td>\n",
       "      <td>2.000000</td>\n",
       "      <td>3.674235</td>\n",
       "      <td>16</td>\n",
       "      <td>182.2500</td>\n",
       "    </tr>\n",
       "    <tr>\n",
       "      <th>2</th>\n",
       "      <td>19.75</td>\n",
       "      <td>6</td>\n",
       "      <td>1.791759</td>\n",
       "      <td>2.983153</td>\n",
       "      <td>2.449490</td>\n",
       "      <td>4.444097</td>\n",
       "      <td>36</td>\n",
       "      <td>390.0625</td>\n",
       "    </tr>\n",
       "    <tr>\n",
       "      <th>3</th>\n",
       "      <td>24.00</td>\n",
       "      <td>9</td>\n",
       "      <td>2.197225</td>\n",
       "      <td>3.178054</td>\n",
       "      <td>3.000000</td>\n",
       "      <td>4.898979</td>\n",
       "      <td>81</td>\n",
       "      <td>576.0000</td>\n",
       "    </tr>\n",
       "    <tr>\n",
       "      <th>4</th>\n",
       "      <td>29.00</td>\n",
       "      <td>10</td>\n",
       "      <td>2.302585</td>\n",
       "      <td>3.367296</td>\n",
       "      <td>3.162278</td>\n",
       "      <td>5.385165</td>\n",
       "      <td>100</td>\n",
       "      <td>841.0000</td>\n",
       "    </tr>\n",
       "  </tbody>\n",
       "</table>\n",
       "</div>"
      ],
      "text/plain": [
       "   DeliveryTime  SortingTime  log_SortingTime  log_DeliveryTime  \\\n",
       "0         21.00           10         2.302585          3.044522   \n",
       "1         13.50            4         1.386294          2.602690   \n",
       "2         19.75            6         1.791759          2.983153   \n",
       "3         24.00            9         2.197225          3.178054   \n",
       "4         29.00           10         2.302585          3.367296   \n",
       "\n",
       "   sqrt_SortingTime  sqrt_DeliveryTime  sq_SortingTime  sq_DeliveryTime  \n",
       "0          3.162278           4.582576             100         441.0000  \n",
       "1          2.000000           3.674235              16         182.2500  \n",
       "2          2.449490           4.444097              36         390.0625  \n",
       "3          3.000000           4.898979              81         576.0000  \n",
       "4          3.162278           5.385165             100         841.0000  "
      ]
     },
     "execution_count": 23,
     "metadata": {},
     "output_type": "execute_result"
    }
   ],
   "source": [
    "df.head()"
   ]
  },
  {
   "cell_type": "markdown",
   "id": "7e16cf31",
   "metadata": {
    "ExecuteTime": {
     "end_time": "2022-03-08T05:16:38.577149Z",
     "start_time": "2022-03-08T05:16:38.561150Z"
    }
   },
   "source": [
    "### log transformation on x"
   ]
  },
  {
   "cell_type": "code",
   "execution_count": 25,
   "id": "d821bd4c",
   "metadata": {
    "ExecuteTime": {
     "end_time": "2022-03-08T05:18:36.790699Z",
     "start_time": "2022-03-08T05:18:36.774700Z"
    }
   },
   "outputs": [],
   "source": [
    "model2=smf.ols('DeliveryTime~log_SortingTime',data=df).fit()"
   ]
  },
  {
   "cell_type": "code",
   "execution_count": 29,
   "id": "bc3bd3f5",
   "metadata": {
    "ExecuteTime": {
     "end_time": "2022-03-08T05:21:50.827409Z",
     "start_time": "2022-03-08T05:21:50.803407Z"
    }
   },
   "outputs": [
    {
     "name": "stdout",
     "output_type": "stream",
     "text": [
      "Intercept          0.641980\n",
      "log_SortingTime    0.000003\n",
      "dtype: float64\n",
      "0.6954434611324223\n"
     ]
    }
   ],
   "source": [
    "print(model2.pvalues)\n",
    "print(model2.rsquared)"
   ]
  },
  {
   "cell_type": "markdown",
   "id": "b47e28cb",
   "metadata": {},
   "source": [
    "### log transformation on y"
   ]
  },
  {
   "cell_type": "code",
   "execution_count": 30,
   "id": "20e5af5f",
   "metadata": {
    "ExecuteTime": {
     "end_time": "2022-03-08T05:24:22.142709Z",
     "start_time": "2022-03-08T05:24:22.117771Z"
    }
   },
   "outputs": [],
   "source": [
    "model3=smf.ols('log_DeliveryTime~SortingTime',data=df).fit()"
   ]
  },
  {
   "cell_type": "code",
   "execution_count": 31,
   "id": "7feb7504",
   "metadata": {
    "ExecuteTime": {
     "end_time": "2022-03-08T05:24:36.939481Z",
     "start_time": "2022-03-08T05:24:36.915482Z"
    }
   },
   "outputs": [
    {
     "name": "stdout",
     "output_type": "stream",
     "text": [
      "Intercept      1.857343e-14\n",
      "SortingTime    1.592708e-06\n",
      "dtype: float64\n",
      "0.7109478980584187\n"
     ]
    }
   ],
   "source": [
    "print(model3.pvalues)\n",
    "print(model3.rsquared)"
   ]
  },
  {
   "cell_type": "markdown",
   "id": "f77d523d",
   "metadata": {},
   "source": [
    "### log transformation on both x and y"
   ]
  },
  {
   "cell_type": "code",
   "execution_count": 32,
   "id": "7cdaea4b",
   "metadata": {
    "ExecuteTime": {
     "end_time": "2022-03-08T05:25:38.041036Z",
     "start_time": "2022-03-08T05:25:38.025060Z"
    }
   },
   "outputs": [],
   "source": [
    "model4=smf.ols(\"log_DeliveryTime~log_SortingTime\",data=df).fit()"
   ]
  },
  {
   "cell_type": "code",
   "execution_count": 33,
   "id": "88e7cb8a",
   "metadata": {
    "ExecuteTime": {
     "end_time": "2022-03-08T05:25:51.229697Z",
     "start_time": "2022-03-08T05:25:51.205697Z"
    }
   },
   "outputs": [
    {
     "name": "stdout",
     "output_type": "stream",
     "text": [
      "Intercept          5.921137e-11\n",
      "log_SortingTime    1.601539e-07\n",
      "dtype: float64\n",
      "0.77216134926874\n"
     ]
    }
   ],
   "source": [
    "print(model4.pvalues)\n",
    "print(model4.rsquared)"
   ]
  },
  {
   "cell_type": "markdown",
   "id": "06f3d8cd",
   "metadata": {},
   "source": [
    "### sqrt transformation on x"
   ]
  },
  {
   "cell_type": "code",
   "execution_count": 34,
   "id": "b6e39a70",
   "metadata": {
    "ExecuteTime": {
     "end_time": "2022-03-08T05:28:19.772582Z",
     "start_time": "2022-03-08T05:28:19.748586Z"
    }
   },
   "outputs": [
    {
     "name": "stdout",
     "output_type": "stream",
     "text": [
      "Intercept           0.410857\n",
      "sqrt_SortingTime    0.000003\n",
      "dtype: float64\n",
      "0.6958062276308671\n"
     ]
    }
   ],
   "source": [
    "model5=smf.ols('DeliveryTime~sqrt_SortingTime',data=df).fit()\n",
    "print(model5.pvalues)\n",
    "print(model5.rsquared)"
   ]
  },
  {
   "cell_type": "markdown",
   "id": "4858e67a",
   "metadata": {},
   "source": [
    "### sqrt tarnsformation on y"
   ]
  },
  {
   "cell_type": "code",
   "execution_count": 35,
   "id": "4692a284",
   "metadata": {
    "ExecuteTime": {
     "end_time": "2022-03-08T05:29:39.812976Z",
     "start_time": "2022-03-08T05:29:39.796978Z"
    }
   },
   "outputs": [
    {
     "name": "stdout",
     "output_type": "stream",
     "text": [
      "Intercept      3.339366e-11\n",
      "SortingTime    2.001215e-06\n",
      "dtype: float64\n",
      "0.704049871541756\n"
     ]
    }
   ],
   "source": [
    "model6=smf.ols('sqrt_DeliveryTime~SortingTime',data=df).fit()\n",
    "print(model6.pvalues)\n",
    "print(model6.rsquared)"
   ]
  },
  {
   "cell_type": "markdown",
   "id": "a9034346",
   "metadata": {},
   "source": [
    "### sqrt transformation on both x and y"
   ]
  },
  {
   "cell_type": "code",
   "execution_count": 37,
   "id": "30a2af7d",
   "metadata": {
    "ExecuteTime": {
     "end_time": "2022-03-08T05:30:48.968526Z",
     "start_time": "2022-03-08T05:30:48.952530Z"
    }
   },
   "outputs": [
    {
     "name": "stdout",
     "output_type": "stream",
     "text": [
      "Intercept           1.833621e-04\n",
      "sqrt_SortingTime    8.475706e-07\n",
      "dtype: float64\n",
      "0.7292011987544664\n"
     ]
    }
   ],
   "source": [
    "model7=smf.ols('sqrt_DeliveryTime~sqrt_SortingTime',data=df).fit()\n",
    "print(model7.pvalues)\n",
    "print(model7.rsquared)"
   ]
  },
  {
   "cell_type": "markdown",
   "id": "79b9197c",
   "metadata": {},
   "source": [
    "### square transformation on x"
   ]
  },
  {
   "cell_type": "code",
   "execution_count": 38,
   "id": "c50a300c",
   "metadata": {
    "ExecuteTime": {
     "end_time": "2022-03-08T05:32:19.544010Z",
     "start_time": "2022-03-08T05:32:19.528010Z"
    }
   },
   "outputs": [
    {
     "name": "stdout",
     "output_type": "stream",
     "text": [
      "Intercept         1.415704e-08\n",
      "sq_SortingTime    1.739194e-05\n",
      "dtype: float64\n",
      "0.6302871815826637\n"
     ]
    }
   ],
   "source": [
    "model8=smf.ols('DeliveryTime~sq_SortingTime',data=df).fit()\n",
    "print(model8.pvalues)\n",
    "print(model8.rsquared)"
   ]
  },
  {
   "cell_type": "markdown",
   "id": "4aa4595e",
   "metadata": {},
   "source": [
    "### squre transformation on y"
   ]
  },
  {
   "cell_type": "code",
   "execution_count": 39,
   "id": "d2d57884",
   "metadata": {
    "ExecuteTime": {
     "end_time": "2022-03-08T05:33:10.236625Z",
     "start_time": "2022-03-08T05:33:10.212622Z"
    }
   },
   "outputs": [
    {
     "name": "stdout",
     "output_type": "stream",
     "text": [
      "Intercept      0.593778\n",
      "SortingTime    0.000035\n",
      "dtype: float64\n",
      "0.6026728443618878\n"
     ]
    }
   ],
   "source": [
    "model9=smf.ols('sq_DeliveryTime~SortingTime',data=df).fit()\n",
    "print(model9.pvalues)\n",
    "print(model9.rsquared)"
   ]
  },
  {
   "cell_type": "markdown",
   "id": "2390af30",
   "metadata": {},
   "source": [
    "### square transformation on both x and y"
   ]
  },
  {
   "cell_type": "code",
   "execution_count": 40,
   "id": "4885ea4e",
   "metadata": {
    "ExecuteTime": {
     "end_time": "2022-03-08T05:34:18.711494Z",
     "start_time": "2022-03-08T05:34:18.687498Z"
    }
   },
   "outputs": [
    {
     "name": "stdout",
     "output_type": "stream",
     "text": [
      "Intercept         0.020675\n",
      "sq_SortingTime    0.000050\n",
      "dtype: float64\n",
      "0.5881883446986836\n"
     ]
    }
   ],
   "source": [
    "model10=smf.ols('sq_DeliveryTime~sq_SortingTime',data=df).fit()\n",
    "print(model10.pvalues)\n",
    "print(model10.rsquared)"
   ]
  },
  {
   "cell_type": "markdown",
   "id": "a3e4d113",
   "metadata": {
    "ExecuteTime": {
     "end_time": "2022-03-08T05:36:57.902820Z",
     "start_time": "2022-03-08T05:36:57.886799Z"
    }
   },
   "source": [
    "## As observed the model4(log tranformation on both x and y) gives the greater r-squared value when compared to the other model"
   ]
  },
  {
   "cell_type": "code",
   "execution_count": 13,
   "id": "5909781a",
   "metadata": {
    "ExecuteTime": {
     "end_time": "2022-02-02T02:46:12.507007Z",
     "start_time": "2022-02-02T02:46:12.242486Z"
    }
   },
   "outputs": [],
   "source": [
    "#method 2\n",
    "from sklearn import linear_model"
   ]
  },
  {
   "cell_type": "code",
   "execution_count": 20,
   "id": "9761fcf4",
   "metadata": {
    "ExecuteTime": {
     "end_time": "2022-02-02T02:55:08.700027Z",
     "start_time": "2022-02-02T02:55:08.666025Z"
    }
   },
   "outputs": [
    {
     "data": {
      "text/plain": [
       "LinearRegression()"
      ]
     },
     "execution_count": 20,
     "metadata": {},
     "output_type": "execute_result"
    }
   ],
   "source": [
    "reg=linear_model.LinearRegression()\n",
    "reg.fit(df[[\"Sorting Time\"]],df[\"Delivery Time\"])"
   ]
  },
  {
   "cell_type": "code",
   "execution_count": 21,
   "id": "bc924be5",
   "metadata": {
    "ExecuteTime": {
     "end_time": "2022-02-02T02:55:13.940868Z",
     "start_time": "2022-02-02T02:55:13.920878Z"
    }
   },
   "outputs": [
    {
     "data": {
      "text/plain": [
       "6.58273397199706"
      ]
     },
     "execution_count": 21,
     "metadata": {},
     "output_type": "execute_result"
    }
   ],
   "source": [
    "reg.intercept_"
   ]
  },
  {
   "cell_type": "code",
   "execution_count": 22,
   "id": "2743a126",
   "metadata": {
    "ExecuteTime": {
     "end_time": "2022-02-02T02:55:17.810980Z",
     "start_time": "2022-02-02T02:55:17.801987Z"
    }
   },
   "outputs": [
    {
     "data": {
      "text/plain": [
       "array([1.6490199])"
      ]
     },
     "execution_count": 22,
     "metadata": {},
     "output_type": "execute_result"
    }
   ],
   "source": [
    "reg.coef_"
   ]
  },
  {
   "cell_type": "code",
   "execution_count": 26,
   "id": "d1bd6ff2",
   "metadata": {
    "ExecuteTime": {
     "end_time": "2022-02-02T03:02:54.387320Z",
     "start_time": "2022-02-02T03:02:54.365333Z"
    }
   },
   "outputs": [
    {
     "data": {
      "text/plain": [
       "array([23.07293294])"
      ]
     },
     "execution_count": 26,
     "metadata": {},
     "output_type": "execute_result"
    }
   ],
   "source": [
    "reg.predict([[10]])"
   ]
  },
  {
   "cell_type": "markdown",
   "id": "1c90bddd",
   "metadata": {},
   "source": [
    "# 2) Salary_hike -> Build a prediction model for Salary_hike\n"
   ]
  },
  {
   "cell_type": "code",
   "execution_count": 42,
   "id": "3245686a",
   "metadata": {
    "ExecuteTime": {
     "end_time": "2022-03-08T05:37:59.492778Z",
     "start_time": "2022-03-08T05:37:59.452787Z"
    }
   },
   "outputs": [
    {
     "data": {
      "text/html": [
       "<div>\n",
       "<style scoped>\n",
       "    .dataframe tbody tr th:only-of-type {\n",
       "        vertical-align: middle;\n",
       "    }\n",
       "\n",
       "    .dataframe tbody tr th {\n",
       "        vertical-align: top;\n",
       "    }\n",
       "\n",
       "    .dataframe thead th {\n",
       "        text-align: right;\n",
       "    }\n",
       "</style>\n",
       "<table border=\"1\" class=\"dataframe\">\n",
       "  <thead>\n",
       "    <tr style=\"text-align: right;\">\n",
       "      <th></th>\n",
       "      <th>YearsExperience</th>\n",
       "      <th>Salary</th>\n",
       "    </tr>\n",
       "  </thead>\n",
       "  <tbody>\n",
       "    <tr>\n",
       "      <th>0</th>\n",
       "      <td>1.1</td>\n",
       "      <td>39343.0</td>\n",
       "    </tr>\n",
       "    <tr>\n",
       "      <th>1</th>\n",
       "      <td>1.3</td>\n",
       "      <td>46205.0</td>\n",
       "    </tr>\n",
       "    <tr>\n",
       "      <th>2</th>\n",
       "      <td>1.5</td>\n",
       "      <td>37731.0</td>\n",
       "    </tr>\n",
       "    <tr>\n",
       "      <th>3</th>\n",
       "      <td>2.0</td>\n",
       "      <td>43525.0</td>\n",
       "    </tr>\n",
       "    <tr>\n",
       "      <th>4</th>\n",
       "      <td>2.2</td>\n",
       "      <td>39891.0</td>\n",
       "    </tr>\n",
       "  </tbody>\n",
       "</table>\n",
       "</div>"
      ],
      "text/plain": [
       "   YearsExperience   Salary\n",
       "0              1.1  39343.0\n",
       "1              1.3  46205.0\n",
       "2              1.5  37731.0\n",
       "3              2.0  43525.0\n",
       "4              2.2  39891.0"
      ]
     },
     "execution_count": 42,
     "metadata": {},
     "output_type": "execute_result"
    }
   ],
   "source": [
    "df=pd.read_csv(\"Salary_Data.csv\")\n",
    "df.head()"
   ]
  },
  {
   "cell_type": "code",
   "execution_count": 43,
   "id": "820f0572",
   "metadata": {
    "ExecuteTime": {
     "end_time": "2022-03-08T05:38:00.532975Z",
     "start_time": "2022-03-08T05:38:00.516977Z"
    }
   },
   "outputs": [],
   "source": [
    "model=smf.ols('Salary~YearsExperience',data=df).fit()"
   ]
  },
  {
   "cell_type": "code",
   "execution_count": 44,
   "id": "9334bc98",
   "metadata": {
    "ExecuteTime": {
     "end_time": "2022-03-08T05:38:02.782114Z",
     "start_time": "2022-03-08T05:38:02.449188Z"
    }
   },
   "outputs": [
    {
     "data": {
      "text/plain": [
       "<AxesSubplot:xlabel='YearsExperience', ylabel='Salary'>"
      ]
     },
     "execution_count": 44,
     "metadata": {},
     "output_type": "execute_result"
    },
    {
     "data": {
      "image/png": "[encoded data removed]",
      "text/plain": [
       "<Figure size 432x288 with 1 Axes>"
      ]
     },
     "metadata": {
      "needs_background": "light"
     },
     "output_type": "display_data"
    }
   ],
   "source": [
    "sns.regplot(x=\"YearsExperience\",y=\"Salary\",data=df)"
   ]
  },
  {
   "cell_type": "code",
   "execution_count": 45,
   "id": "48d6966b",
   "metadata": {
    "ExecuteTime": {
     "end_time": "2022-03-08T05:38:03.630099Z",
     "start_time": "2022-03-08T05:38:03.614099Z"
    }
   },
   "outputs": [
    {
     "data": {
      "text/plain": [
       "0      36187.158752\n",
       "1      38077.151217\n",
       "2      39967.143681\n",
       "3      44692.124842\n",
       "4      46582.117306\n",
       "5      53197.090931\n",
       "6      54142.087163\n",
       "7      56032.079627\n",
       "8      56032.079627\n",
       "9      60757.060788\n",
       "10     62647.053252\n",
       "11     63592.049484\n",
       "12     63592.049484\n",
       "13     64537.045717\n",
       "14     68317.030645\n",
       "15     72097.015574\n",
       "16     73987.008038\n",
       "17     75877.000502\n",
       "18     81546.977895\n",
       "19     82491.974127\n",
       "20     90051.943985\n",
       "21     92886.932681\n",
       "22    100446.902538\n",
       "23    103281.891235\n",
       "24    108006.872395\n",
       "25    110841.861092\n",
       "26    115566.842252\n",
       "27    116511.838485\n",
       "28    123126.812110\n",
       "29    125016.804574\n",
       "dtype: float64"
      ]
     },
     "execution_count": 45,
     "metadata": {},
     "output_type": "execute_result"
    }
   ],
   "source": [
    "model.fittedvalues"
   ]
  },
  {
   "cell_type": "code",
   "execution_count": 46,
   "id": "0549d5ba",
   "metadata": {
    "ExecuteTime": {
     "end_time": "2022-03-08T05:38:04.306077Z",
     "start_time": "2022-03-08T05:38:04.281920Z"
    }
   },
   "outputs": [
    {
     "data": {
      "text/plain": [
       "Intercept          25792.200199\n",
       "YearsExperience     9449.962321\n",
       "dtype: float64"
      ]
     },
     "execution_count": 46,
     "metadata": {},
     "output_type": "execute_result"
    }
   ],
   "source": [
    "model.params"
   ]
  },
  {
   "cell_type": "code",
   "execution_count": 47,
   "id": "fe690a82",
   "metadata": {
    "ExecuteTime": {
     "end_time": "2022-03-08T05:38:05.594268Z",
     "start_time": "2022-03-08T05:38:05.570362Z"
    }
   },
   "outputs": [
    {
     "data": {
      "text/plain": [
       "0.9569566641435086"
      ]
     },
     "execution_count": 47,
     "metadata": {},
     "output_type": "execute_result"
    }
   ],
   "source": [
    "model.rsquared"
   ]
  },
  {
   "cell_type": "code",
   "execution_count": 48,
   "id": "7e30e3f8",
   "metadata": {
    "ExecuteTime": {
     "end_time": "2022-03-08T05:38:06.459541Z",
     "start_time": "2022-03-08T05:38:06.443545Z"
    },
    "scrolled": true
   },
   "outputs": [
    {
     "name": "stdout",
     "output_type": "stream",
     "text": [
      "Intercept          11.346940\n",
      "YearsExperience    24.950094\n",
      "dtype: float64\n",
      "Intercept          5.511950e-12\n",
      "YearsExperience    1.143068e-20\n",
      "dtype: float64\n"
     ]
    }
   ],
   "source": [
    "print(model.tvalues)\n",
    "print(model.pvalues)"
   ]
  },
  {
   "cell_type": "code",
   "execution_count": 49,
   "id": "7abb5115",
   "metadata": {
    "ExecuteTime": {
     "end_time": "2022-03-08T05:38:57.202606Z",
     "start_time": "2022-03-08T05:38:57.186606Z"
    }
   },
   "outputs": [
    {
     "data": {
      "text/plain": [
       "Index(['YearsExperience', 'Salary'], dtype='object')"
      ]
     },
     "execution_count": 49,
     "metadata": {},
     "output_type": "execute_result"
    }
   ],
   "source": [
    "df.columns"
   ]
  },
  {
   "cell_type": "code",
   "execution_count": 50,
   "id": "fcc35f13",
   "metadata": {
    "ExecuteTime": {
     "end_time": "2022-03-08T05:40:09.358041Z",
     "start_time": "2022-03-08T05:40:09.334042Z"
    }
   },
   "outputs": [],
   "source": [
    "df['log_YearsExperience']=np.log(df['YearsExperience'])\n",
    "df['log_Salary']=np.log(df['Salary'])\n",
    "df['sqrt_YearsExperience']=np.sqrt(df['YearsExperience'])\n",
    "df['sqrt_Salary']=np.sqrt(df['Salary'])\n",
    "df['sq_YearsExperience']=np.square(df['YearsExperience'])\n",
    "df['sq_Salary']=np.square(df['Salary'])"
   ]
  },
  {
   "cell_type": "code",
   "execution_count": 51,
   "id": "c372dff3",
   "metadata": {
    "ExecuteTime": {
     "end_time": "2022-03-08T05:45:24.677626Z",
     "start_time": "2022-03-08T05:45:24.653629Z"
    }
   },
   "outputs": [
    {
     "data": {
      "text/html": [
       "<div>\n",
       "<style scoped>\n",
       "    .dataframe tbody tr th:only-of-type {\n",
       "        vertical-align: middle;\n",
       "    }\n",
       "\n",
       "    .dataframe tbody tr th {\n",
       "        vertical-align: top;\n",
       "    }\n",
       "\n",
       "    .dataframe thead th {\n",
       "        text-align: right;\n",
       "    }\n",
       "</style>\n",
       "<table border=\"1\" class=\"dataframe\">\n",
       "  <thead>\n",
       "    <tr style=\"text-align: right;\">\n",
       "      <th></th>\n",
       "      <th>YearsExperience</th>\n",
       "      <th>Salary</th>\n",
       "      <th>log_YearsExperience</th>\n",
       "      <th>log_Salary</th>\n",
       "      <th>sqrt_YearsExperience</th>\n",
       "      <th>sqrt_Salary</th>\n",
       "      <th>sq_YearsExperience</th>\n",
       "      <th>sq_Salary</th>\n",
       "    </tr>\n",
       "  </thead>\n",
       "  <tbody>\n",
       "    <tr>\n",
       "      <th>0</th>\n",
       "      <td>1.1</td>\n",
       "      <td>39343.0</td>\n",
       "      <td>0.095310</td>\n",
       "      <td>10.580073</td>\n",
       "      <td>1.048809</td>\n",
       "      <td>198.350700</td>\n",
       "      <td>1.21</td>\n",
       "      <td>1.547872e+09</td>\n",
       "    </tr>\n",
       "    <tr>\n",
       "      <th>1</th>\n",
       "      <td>1.3</td>\n",
       "      <td>46205.0</td>\n",
       "      <td>0.262364</td>\n",
       "      <td>10.740843</td>\n",
       "      <td>1.140175</td>\n",
       "      <td>214.953483</td>\n",
       "      <td>1.69</td>\n",
       "      <td>2.134902e+09</td>\n",
       "    </tr>\n",
       "    <tr>\n",
       "      <th>2</th>\n",
       "      <td>1.5</td>\n",
       "      <td>37731.0</td>\n",
       "      <td>0.405465</td>\n",
       "      <td>10.538237</td>\n",
       "      <td>1.224745</td>\n",
       "      <td>194.244691</td>\n",
       "      <td>2.25</td>\n",
       "      <td>1.423628e+09</td>\n",
       "    </tr>\n",
       "    <tr>\n",
       "      <th>3</th>\n",
       "      <td>2.0</td>\n",
       "      <td>43525.0</td>\n",
       "      <td>0.693147</td>\n",
       "      <td>10.681091</td>\n",
       "      <td>1.414214</td>\n",
       "      <td>208.626460</td>\n",
       "      <td>4.00</td>\n",
       "      <td>1.894426e+09</td>\n",
       "    </tr>\n",
       "    <tr>\n",
       "      <th>4</th>\n",
       "      <td>2.2</td>\n",
       "      <td>39891.0</td>\n",
       "      <td>0.788457</td>\n",
       "      <td>10.593906</td>\n",
       "      <td>1.483240</td>\n",
       "      <td>199.727314</td>\n",
       "      <td>4.84</td>\n",
       "      <td>1.591292e+09</td>\n",
       "    </tr>\n",
       "  </tbody>\n",
       "</table>\n",
       "</div>"
      ],
      "text/plain": [
       "   YearsExperience   Salary  log_YearsExperience  log_Salary  \\\n",
       "0              1.1  39343.0             0.095310   10.580073   \n",
       "1              1.3  46205.0             0.262364   10.740843   \n",
       "2              1.5  37731.0             0.405465   10.538237   \n",
       "3              2.0  43525.0             0.693147   10.681091   \n",
       "4              2.2  39891.0             0.788457   10.593906   \n",
       "\n",
       "   sqrt_YearsExperience  sqrt_Salary  sq_YearsExperience     sq_Salary  \n",
       "0              1.048809   198.350700                1.21  1.547872e+09  \n",
       "1              1.140175   214.953483                1.69  2.134902e+09  \n",
       "2              1.224745   194.244691                2.25  1.423628e+09  \n",
       "3              1.414214   208.626460                4.00  1.894426e+09  \n",
       "4              1.483240   199.727314                4.84  1.591292e+09  "
      ]
     },
     "execution_count": 51,
     "metadata": {},
     "output_type": "execute_result"
    }
   ],
   "source": [
    "df.head()"
   ]
  },
  {
   "cell_type": "markdown",
   "id": "00dc7b44",
   "metadata": {},
   "source": [
    "### log tranformation on x"
   ]
  },
  {
   "cell_type": "code",
   "execution_count": 53,
   "id": "9ff0cf6f",
   "metadata": {
    "ExecuteTime": {
     "end_time": "2022-03-08T05:45:24.677626Z",
     "start_time": "2022-03-08T05:45:24.653629Z"
    }
   },
   "outputs": [
    {
     "name": "stdout",
     "output_type": "stream",
     "text": [
      "Intercept              7.268813e-03\n",
      "log_YearsExperience    3.250155e-13\n",
      "dtype: float64\n",
      "0.8538888828756969\n"
     ]
    }
   ],
   "source": [
    "model2=smf.ols('Salary~log_YearsExperience',data=df).fit()\n",
    "print(model2.pvalues)\n",
    "print(model2.rsquared)"
   ]
  },
  {
   "cell_type": "markdown",
   "id": "705e6cb2",
   "metadata": {
    "ExecuteTime": {
     "end_time": "2022-03-08T05:45:24.677626Z",
     "start_time": "2022-03-08T05:45:24.653629Z"
    }
   },
   "source": [
    "### log tranformation on y "
   ]
  },
  {
   "cell_type": "code",
   "execution_count": 54,
   "id": "e68350b5",
   "metadata": {
    "ExecuteTime": {
     "end_time": "2022-03-08T05:45:24.677626Z",
     "start_time": "2022-03-08T05:45:24.653629Z"
    }
   },
   "outputs": [
    {
     "name": "stdout",
     "output_type": "stream",
     "text": [
      "Intercept          1.604634e-49\n",
      "YearsExperience    7.027439e-18\n",
      "dtype: float64\n",
      "0.9319671194084195\n"
     ]
    }
   ],
   "source": [
    "model3=smf.ols('log_Salary~YearsExperience',data=df).fit()\n",
    "print(model3.pvalues)\n",
    "print(model3.rsquared)"
   ]
  },
  {
   "cell_type": "markdown",
   "id": "d53c8f64",
   "metadata": {
    "ExecuteTime": {
     "end_time": "2022-03-08T05:45:24.677626Z",
     "start_time": "2022-03-08T05:45:24.653629Z"
    }
   },
   "source": [
    "### log tranformation on both x and y"
   ]
  },
  {
   "cell_type": "code",
   "execution_count": 55,
   "id": "b9760bb3",
   "metadata": {
    "ExecuteTime": {
     "end_time": "2022-03-08T05:46:48.919752Z",
     "start_time": "2022-03-08T05:46:48.895758Z"
    }
   },
   "outputs": [
    {
     "name": "stdout",
     "output_type": "stream",
     "text": [
      "Intercept              9.073132e-45\n",
      "log_YearsExperience    7.395278e-16\n",
      "dtype: float64\n",
      "0.9052150725817149\n"
     ]
    }
   ],
   "source": [
    "model4=smf.ols('log_Salary~log_YearsExperience',data=df).fit()\n",
    "print(model4.pvalues)\n",
    "print(model4.rsquared)"
   ]
  },
  {
   "cell_type": "markdown",
   "id": "0eaa955e",
   "metadata": {},
   "source": [
    "### sqrt transformation on x"
   ]
  },
  {
   "cell_type": "code",
   "execution_count": 56,
   "id": "dc9a2593",
   "metadata": {
    "ExecuteTime": {
     "end_time": "2022-03-08T05:48:26.482195Z",
     "start_time": "2022-03-08T05:48:26.450188Z"
    }
   },
   "outputs": [
    {
     "name": "stdout",
     "output_type": "stream",
     "text": [
      "Intercept               2.906965e-03\n",
      "sqrt_YearsExperience    8.565358e-18\n",
      "dtype: float64\n",
      "0.9310009544993526\n"
     ]
    }
   ],
   "source": [
    "model5=smf.ols('Salary~sqrt_YearsExperience',data=df).fit()\n",
    "print(model5.pvalues)\n",
    "print(model5.rsquared)"
   ]
  },
  {
   "cell_type": "markdown",
   "id": "364ee0f9",
   "metadata": {},
   "source": [
    "### sqtr transformation on y"
   ]
  },
  {
   "cell_type": "code",
   "execution_count": 57,
   "id": "64f14b4b",
   "metadata": {
    "ExecuteTime": {
     "end_time": "2022-03-08T05:49:13.752131Z",
     "start_time": "2022-03-08T05:49:13.736131Z"
    }
   },
   "outputs": [
    {
     "name": "stdout",
     "output_type": "stream",
     "text": [
      "Intercept          1.920194e-26\n",
      "YearsExperience    9.782891e-20\n",
      "dtype: float64\n",
      "0.9498353533865289\n"
     ]
    }
   ],
   "source": [
    "model6=smf.ols('sqrt_Salary~YearsExperience',data=df).fit()\n",
    "print(model6.pvalues)\n",
    "print(model6.rsquared)"
   ]
  },
  {
   "cell_type": "markdown",
   "id": "a4fecd0b",
   "metadata": {},
   "source": [
    "### sqrt tranformation on both x and y"
   ]
  },
  {
   "cell_type": "code",
   "execution_count": 60,
   "id": "fef03aa1",
   "metadata": {
    "ExecuteTime": {
     "end_time": "2022-03-08T05:57:31.777970Z",
     "start_time": "2022-03-08T05:57:31.761971Z"
    }
   },
   "outputs": [
    {
     "name": "stdout",
     "output_type": "stream",
     "text": [
      "Intercept               4.141645e-13\n",
      "sqrt_YearsExperience    7.584326e-19\n",
      "dtype: float64\n",
      "0.9419490138976825\n"
     ]
    }
   ],
   "source": [
    "model7=smf.ols('sqrt_Salary~sqrt_YearsExperience',data=df).fit()\n",
    "print(model7.pvalues)\n",
    "print(model7.rsquared)"
   ]
  },
  {
   "cell_type": "markdown",
   "id": "7e32d94b",
   "metadata": {
    "ExecuteTime": {
     "end_time": "2022-03-08T05:57:00.559424Z",
     "start_time": "2022-03-08T05:57:00.551431Z"
    }
   },
   "source": [
    "### square tranformation on x"
   ]
  },
  {
   "cell_type": "code",
   "execution_count": 61,
   "id": "7b4bd6c9",
   "metadata": {
    "ExecuteTime": {
     "end_time": "2022-03-08T05:58:08.789809Z",
     "start_time": "2022-03-08T05:58:08.757812Z"
    }
   },
   "outputs": [
    {
     "name": "stdout",
     "output_type": "stream",
     "text": [
      "Intercept             3.389190e-19\n",
      "sq_YearsExperience    1.518127e-16\n",
      "dtype: float64\n",
      "0.9153198857852565\n"
     ]
    }
   ],
   "source": [
    "model8=smf.ols('Salary~sq_YearsExperience',data=df).fit()\n",
    "print(model8.pvalues)\n",
    "print(model8.rsquared)"
   ]
  },
  {
   "cell_type": "markdown",
   "id": "f46b9f5d",
   "metadata": {},
   "source": [
    "### sqare transformaion on y"
   ]
  },
  {
   "cell_type": "code",
   "execution_count": 62,
   "id": "7dcc8753",
   "metadata": {
    "ExecuteTime": {
     "end_time": "2022-03-08T05:59:07.458797Z",
     "start_time": "2022-03-08T05:59:07.426656Z"
    }
   },
   "outputs": [
    {
     "name": "stdout",
     "output_type": "stream",
     "text": [
      "Intercept          5.114661e-04\n",
      "YearsExperience    2.152535e-19\n",
      "dtype: float64\n",
      "0.946933959304622\n"
     ]
    }
   ],
   "source": [
    "model9=smf.ols('sq_Salary~YearsExperience',data=df).fit()\n",
    "print(model9.pvalues)\n",
    "print(model9.rsquared)"
   ]
  },
  {
   "cell_type": "markdown",
   "id": "a77b5b72",
   "metadata": {},
   "source": [
    "### square transformation on both x and y"
   ]
  },
  {
   "cell_type": "code",
   "execution_count": 63,
   "id": "002d1e1c",
   "metadata": {
    "ExecuteTime": {
     "end_time": "2022-03-08T06:00:12.852483Z",
     "start_time": "2022-03-08T06:00:12.820483Z"
    }
   },
   "outputs": [
    {
     "name": "stdout",
     "output_type": "stream",
     "text": [
      "Intercept          5.114661e-04\n",
      "YearsExperience    2.152535e-19\n",
      "dtype: float64\n",
      "0.946933959304622\n"
     ]
    }
   ],
   "source": [
    "model10=smf.ols('sq_Salary~YearsExperience',data=df).fit()\n",
    "print(model10.pvalues)\n",
    "print(model10.rsquared)"
   ]
  },
  {
   "cell_type": "markdown",
   "id": "7787f163",
   "metadata": {},
   "source": [
    "## As observed the model with no tranformation applied gives the greater r-squared value when compared to the other models"
   ]
  }
 ],
 "metadata": {
  "kernelspec": {
   "display_name": "Python 3 (ipykernel)",
   "language": "python",
   "name": "python3"
  },
  "language_info": {
   "codemirror_mode": {
    "name": "ipython",
    "version": 3
   },
   "file_extension": ".py",
   "mimetype": "text/x-python",
   "name": "python",
   "nbconvert_exporter": "python",
   "pygments_lexer": "ipython3",
   "version": "3.9.7"
  },
  "varInspector": {
   "cols": {
    "lenName": 16,
    "lenType": 16,
    "lenVar": 40
   },
   "kernels_config": {
    "python": {
     "delete_cmd_postfix": "",
     "delete_cmd_prefix": "del ",
     "library": "var_list.py",
     "varRefreshCmd": "print(var_dic_list())"
    },
    "r": {
     "delete_cmd_postfix": ") ",
     "delete_cmd_prefix": "rm(",
     "library": "var_list.r",
     "varRefreshCmd": "cat(var_dic_list()) "
    }
   },
   "types_to_exclude": [
    "module",
    "function",
    "builtin_function_or_method",
    "instance",
    "_Feature"
   ],
   "window_display": false
  }
 },
 "nbformat": 4,
 "nbformat_minor": 5
}
