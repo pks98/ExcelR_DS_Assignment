{
 "cells": [
  {
   "cell_type": "code",
   "execution_count": 10,
   "id": "6eec8b13",
   "metadata": {
    "ExecuteTime": {
     "end_time": "2022-01-16T03:27:22.589652Z",
     "start_time": "2022-01-16T03:27:22.574642Z"
    }
   },
   "outputs": [],
   "source": [
    "import pandas as pd\n",
    "df=pd.read_csv(\"D:\\\\DS Assignment\\\\Basic_stats_1\\\\Q7.csv\")"
   ]
  },
  {
   "cell_type": "code",
   "execution_count": 2,
   "id": "50d86824",
   "metadata": {
    "ExecuteTime": {
     "end_time": "2022-01-16T03:12:11.520211Z",
     "start_time": "2022-01-16T03:12:11.503224Z"
    }
   },
   "outputs": [
    {
     "data": {
      "text/plain": [
       "3.5965625000000006"
      ]
     },
     "execution_count": 2,
     "metadata": {},
     "output_type": "execute_result"
    }
   ],
   "source": [
    "df.Points.mean()      #mean"
   ]
  },
  {
   "cell_type": "code",
   "execution_count": 3,
   "id": "9d31edb6",
   "metadata": {
    "ExecuteTime": {
     "end_time": "2022-01-16T03:12:36.312119Z",
     "start_time": "2022-01-16T03:12:36.293920Z"
    }
   },
   "outputs": [
    {
     "data": {
      "text/plain": [
       "3.6950000000000003"
      ]
     },
     "execution_count": 3,
     "metadata": {},
     "output_type": "execute_result"
    }
   ],
   "source": [
    "df.Points.median()    #median"
   ]
  },
  {
   "cell_type": "code",
   "execution_count": 4,
   "id": "0d3b8379",
   "metadata": {
    "ExecuteTime": {
     "end_time": "2022-01-16T03:12:54.361027Z",
     "start_time": "2022-01-16T03:12:54.345037Z"
    }
   },
   "outputs": [
    {
     "data": {
      "text/plain": [
       "0    3.07\n",
       "1    3.92\n",
       "dtype: float64"
      ]
     },
     "execution_count": 4,
     "metadata": {},
     "output_type": "execute_result"
    }
   ],
   "source": [
    "df.Points.mode()      #mode"
   ]
  },
  {
   "cell_type": "code",
   "execution_count": 5,
   "id": "ca4da45f",
   "metadata": {
    "ExecuteTime": {
     "end_time": "2022-01-16T03:14:59.268328Z",
     "start_time": "2022-01-16T03:14:59.258337Z"
    }
   },
   "outputs": [
    {
     "data": {
      "text/plain": [
       "0.28588135080645166"
      ]
     },
     "execution_count": 5,
     "metadata": {},
     "output_type": "execute_result"
    }
   ],
   "source": [
    "df.Points.var()     #Variance"
   ]
  },
  {
   "cell_type": "code",
   "execution_count": 6,
   "id": "a0e04af6",
   "metadata": {
    "ExecuteTime": {
     "end_time": "2022-01-16T03:15:29.525789Z",
     "start_time": "2022-01-16T03:15:29.516794Z"
    }
   },
   "outputs": [
    {
     "data": {
      "text/plain": [
       "0.5346787360709716"
      ]
     },
     "execution_count": 6,
     "metadata": {},
     "output_type": "execute_result"
    }
   ],
   "source": [
    "df.Points.std()    #Standard Deviation"
   ]
  },
  {
   "cell_type": "code",
   "execution_count": 9,
   "id": "9bcbd87f",
   "metadata": {
    "ExecuteTime": {
     "end_time": "2022-01-16T03:20:47.191246Z",
     "start_time": "2022-01-16T03:20:47.171396Z"
    }
   },
   "outputs": [
    {
     "data": {
      "text/plain": [
       "2.17"
      ]
     },
     "execution_count": 9,
     "metadata": {},
     "output_type": "execute_result"
    }
   ],
   "source": [
    "df.Points.max()-df.Points.min()   #range"
   ]
  },
  {
   "cell_type": "code",
   "execution_count": 11,
   "id": "1c346b17",
   "metadata": {
    "ExecuteTime": {
     "end_time": "2022-01-16T03:30:16.811635Z",
     "start_time": "2022-01-16T03:30:16.804642Z"
    }
   },
   "outputs": [
    {
     "data": {
      "text/plain": [
       "3.2172499999999995"
      ]
     },
     "execution_count": 11,
     "metadata": {},
     "output_type": "execute_result"
    }
   ],
   "source": [
    "df.Score.mean()        #mean"
   ]
  },
  {
   "cell_type": "code",
   "execution_count": 12,
   "id": "bf857fcb",
   "metadata": {
    "ExecuteTime": {
     "end_time": "2022-01-16T03:30:41.888095Z",
     "start_time": "2022-01-16T03:30:41.876100Z"
    }
   },
   "outputs": [
    {
     "data": {
      "text/plain": [
       "3.325"
      ]
     },
     "execution_count": 12,
     "metadata": {},
     "output_type": "execute_result"
    }
   ],
   "source": [
    "df.Score.median()     #median"
   ]
  },
  {
   "cell_type": "code",
   "execution_count": 13,
   "id": "77edffb2",
   "metadata": {
    "ExecuteTime": {
     "end_time": "2022-01-16T03:30:56.593876Z",
     "start_time": "2022-01-16T03:30:56.573891Z"
    }
   },
   "outputs": [
    {
     "data": {
      "text/plain": [
       "0    3.44\n",
       "dtype: float64"
      ]
     },
     "execution_count": 13,
     "metadata": {},
     "output_type": "execute_result"
    }
   ],
   "source": [
    "df.Score.mode()     #mode"
   ]
  },
  {
   "cell_type": "code",
   "execution_count": 14,
   "id": "34f8a961",
   "metadata": {
    "ExecuteTime": {
     "end_time": "2022-01-16T03:31:19.655377Z",
     "start_time": "2022-01-16T03:31:19.646382Z"
    }
   },
   "outputs": [
    {
     "data": {
      "text/plain": [
       "0.9573789677419356"
      ]
     },
     "execution_count": 14,
     "metadata": {},
     "output_type": "execute_result"
    }
   ],
   "source": [
    "df.Score.var()     #Variance"
   ]
  },
  {
   "cell_type": "code",
   "execution_count": 15,
   "id": "3bc306bf",
   "metadata": {
    "ExecuteTime": {
     "end_time": "2022-01-16T03:31:32.807533Z",
     "start_time": "2022-01-16T03:31:32.799537Z"
    }
   },
   "outputs": [
    {
     "data": {
      "text/plain": [
       "0.9784574429896967"
      ]
     },
     "execution_count": 15,
     "metadata": {},
     "output_type": "execute_result"
    }
   ],
   "source": [
    "df.Score.std()    #Standard Deviation"
   ]
  },
  {
   "cell_type": "code",
   "execution_count": 16,
   "id": "e2d1f30f",
   "metadata": {
    "ExecuteTime": {
     "end_time": "2022-01-16T03:32:39.089727Z",
     "start_time": "2022-01-16T03:32:39.075733Z"
    }
   },
   "outputs": [
    {
     "data": {
      "text/plain": [
       "3.9110000000000005"
      ]
     },
     "execution_count": 16,
     "metadata": {},
     "output_type": "execute_result"
    }
   ],
   "source": [
    "df.Score.max()-df.Score.min()  #range"
   ]
  },
  {
   "cell_type": "code",
   "execution_count": 17,
   "id": "0554788c",
   "metadata": {
    "ExecuteTime": {
     "end_time": "2022-01-16T03:36:22.937228Z",
     "start_time": "2022-01-16T03:36:22.929230Z"
    }
   },
   "outputs": [
    {
     "data": {
      "text/plain": [
       "17.848750000000003"
      ]
     },
     "execution_count": 17,
     "metadata": {},
     "output_type": "execute_result"
    }
   ],
   "source": [
    "df.Weigh.mean()     #mean"
   ]
  },
  {
   "cell_type": "code",
   "execution_count": 18,
   "id": "7df6415b",
   "metadata": {
    "ExecuteTime": {
     "end_time": "2022-01-16T03:36:36.017034Z",
     "start_time": "2022-01-16T03:36:35.993028Z"
    }
   },
   "outputs": [
    {
     "data": {
      "text/plain": [
       "17.71"
      ]
     },
     "execution_count": 18,
     "metadata": {},
     "output_type": "execute_result"
    }
   ],
   "source": [
    "df.Weigh.median()   #median"
   ]
  },
  {
   "cell_type": "code",
   "execution_count": 19,
   "id": "3c261c4d",
   "metadata": {
    "ExecuteTime": {
     "end_time": "2022-01-16T03:36:50.336505Z",
     "start_time": "2022-01-16T03:36:50.320503Z"
    }
   },
   "outputs": [
    {
     "data": {
      "text/plain": [
       "0    17.02\n",
       "1    18.90\n",
       "dtype: float64"
      ]
     },
     "execution_count": 19,
     "metadata": {},
     "output_type": "execute_result"
    }
   ],
   "source": [
    "df.Weigh.mode()    #mode"
   ]
  },
  {
   "cell_type": "code",
   "execution_count": 20,
   "id": "bb81d492",
   "metadata": {
    "ExecuteTime": {
     "end_time": "2022-01-16T03:37:12.072143Z",
     "start_time": "2022-01-16T03:37:12.048142Z"
    }
   },
   "outputs": [
    {
     "data": {
      "text/plain": [
       "3.193166129032258"
      ]
     },
     "execution_count": 20,
     "metadata": {},
     "output_type": "execute_result"
    }
   ],
   "source": [
    "df.Weigh.var()    #Variance"
   ]
  },
  {
   "cell_type": "code",
   "execution_count": 21,
   "id": "c841a408",
   "metadata": {
    "ExecuteTime": {
     "end_time": "2022-01-16T03:37:25.483941Z",
     "start_time": "2022-01-16T03:37:25.467944Z"
    }
   },
   "outputs": [
    {
     "data": {
      "text/plain": [
       "1.7869432360968431"
      ]
     },
     "execution_count": 21,
     "metadata": {},
     "output_type": "execute_result"
    }
   ],
   "source": [
    "df.Weigh.std()    #Standard Deviation"
   ]
  },
  {
   "cell_type": "code",
   "execution_count": 22,
   "id": "5c3a9fc8",
   "metadata": {
    "ExecuteTime": {
     "end_time": "2022-01-16T03:37:50.154764Z",
     "start_time": "2022-01-16T03:37:50.138768Z"
    }
   },
   "outputs": [
    {
     "data": {
      "text/plain": [
       "8.399999999999999"
      ]
     },
     "execution_count": 22,
     "metadata": {},
     "output_type": "execute_result"
    }
   ],
   "source": [
    "df.Weigh.max()-df.Weigh.min()   #range"
   ]
  }
 ],
 "metadata": {
  "kernelspec": {
   "display_name": "Python 3 (ipykernel)",
   "language": "python",
   "name": "python3"
  },
  "language_info": {
   "codemirror_mode": {
    "name": "ipython",
    "version": 3
   },
   "file_extension": ".py",
   "mimetype": "text/x-python",
   "name": "python",
   "nbconvert_exporter": "python",
   "pygments_lexer": "ipython3",
   "version": "3.9.7"
  },
  "varInspector": {
   "cols": {
    "lenName": 16,
    "lenType": 16,
    "lenVar": 40
   },
   "kernels_config": {
    "python": {
     "delete_cmd_postfix": "",
     "delete_cmd_prefix": "del ",
     "library": "var_list.py",
     "varRefreshCmd": "print(var_dic_list())"
    },
    "r": {
     "delete_cmd_postfix": ") ",
     "delete_cmd_prefix": "rm(",
     "library": "var_list.r",
     "varRefreshCmd": "cat(var_dic_list()) "
    }
   },
   "types_to_exclude": [
    "module",
    "function",
    "builtin_function_or_method",
    "instance",
    "_Feature"
   ],
   "window_display": false
  }
 },
 "nbformat": 4,
 "nbformat_minor": 5
}
