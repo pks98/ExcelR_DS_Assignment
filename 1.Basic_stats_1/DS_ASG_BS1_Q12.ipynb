{
 "cells": [
  {
   "cell_type": "code",
   "execution_count": 7,
   "id": "bc40f943",
   "metadata": {
    "ExecuteTime": {
     "end_time": "2022-01-16T02:58:22.940397Z",
     "start_time": "2022-01-16T02:58:21.419571Z"
    }
   },
   "outputs": [],
   "source": [
    "import pandas as pd"
   ]
  },
  {
   "cell_type": "code",
   "execution_count": 2,
   "id": "13d36548",
   "metadata": {
    "ExecuteTime": {
     "end_time": "2022-01-16T02:56:22.760620Z",
     "start_time": "2022-01-16T02:56:22.737634Z"
    }
   },
   "outputs": [
    {
     "data": {
      "text/plain": [
       "0     34\n",
       "1     36\n",
       "2     36\n",
       "3     38\n",
       "4     38\n",
       "5     39\n",
       "6     39\n",
       "7     40\n",
       "8     40\n",
       "9     41\n",
       "10    41\n",
       "11    41\n",
       "12    41\n",
       "13    42\n",
       "14    42\n",
       "15    45\n",
       "16    49\n",
       "17    56\n",
       "dtype: int64"
      ]
     },
     "execution_count": 2,
     "metadata": {},
     "output_type": "execute_result"
    }
   ],
   "source": [
    "S=pd.Series([34,36,36,38,38,39,39,40,40,41,41,41,41,42,42,45,49,56])\n",
    "S"
   ]
  },
  {
   "cell_type": "code",
   "execution_count": 3,
   "id": "6fc8f2c1",
   "metadata": {
    "ExecuteTime": {
     "end_time": "2022-01-16T02:57:06.736458Z",
     "start_time": "2022-01-16T02:57:06.717469Z"
    }
   },
   "outputs": [
    {
     "data": {
      "text/plain": [
       "41.0"
      ]
     },
     "execution_count": 3,
     "metadata": {},
     "output_type": "execute_result"
    }
   ],
   "source": [
    "S.mean()         #mean"
   ]
  },
  {
   "cell_type": "code",
   "execution_count": 4,
   "id": "bba62db2",
   "metadata": {
    "ExecuteTime": {
     "end_time": "2022-01-16T02:57:17.947990Z",
     "start_time": "2022-01-16T02:57:17.929999Z"
    }
   },
   "outputs": [
    {
     "data": {
      "text/plain": [
       "40.5"
      ]
     },
     "execution_count": 4,
     "metadata": {},
     "output_type": "execute_result"
    }
   ],
   "source": [
    "S.median()      #median"
   ]
  },
  {
   "cell_type": "code",
   "execution_count": 5,
   "id": "ba27e60b",
   "metadata": {
    "ExecuteTime": {
     "end_time": "2022-01-16T02:57:30.718450Z",
     "start_time": "2022-01-16T02:57:30.702457Z"
    }
   },
   "outputs": [
    {
     "data": {
      "text/plain": [
       "25.529411764705884"
      ]
     },
     "execution_count": 5,
     "metadata": {},
     "output_type": "execute_result"
    }
   ],
   "source": [
    "S.var()        #variance"
   ]
  },
  {
   "cell_type": "code",
   "execution_count": 6,
   "id": "2df6165b",
   "metadata": {
    "ExecuteTime": {
     "end_time": "2022-01-16T02:57:41.219172Z",
     "start_time": "2022-01-16T02:57:41.201178Z"
    }
   },
   "outputs": [
    {
     "data": {
      "text/plain": [
       "5.05266382858645"
      ]
     },
     "execution_count": 6,
     "metadata": {},
     "output_type": "execute_result"
    }
   ],
   "source": [
    "S.std()       #standard deviation"
   ]
  }
 ],
 "metadata": {
  "kernelspec": {
   "display_name": "Python 3 (ipykernel)",
   "language": "python",
   "name": "python3"
  },
  "language_info": {
   "codemirror_mode": {
    "name": "ipython",
    "version": 3
   },
   "file_extension": ".py",
   "mimetype": "text/x-python",
   "name": "python",
   "nbconvert_exporter": "python",
   "pygments_lexer": "ipython3",
   "version": "3.9.7"
  },
  "varInspector": {
   "cols": {
    "lenName": 16,
    "lenType": 16,
    "lenVar": 40
   },
   "kernels_config": {
    "python": {
     "delete_cmd_postfix": "",
     "delete_cmd_prefix": "del ",
     "library": "var_list.py",
     "varRefreshCmd": "print(var_dic_list())"
    },
    "r": {
     "delete_cmd_postfix": ") ",
     "delete_cmd_prefix": "rm(",
     "library": "var_list.r",
     "varRefreshCmd": "cat(var_dic_list()) "
    }
   },
   "types_to_exclude": [
    "module",
    "function",
    "builtin_function_or_method",
    "instance",
    "_Feature"
   ],
   "window_display": false
  }
 },
 "nbformat": 4,
 "nbformat_minor": 5
}
