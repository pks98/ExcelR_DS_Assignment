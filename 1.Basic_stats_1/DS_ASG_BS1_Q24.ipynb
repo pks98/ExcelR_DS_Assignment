{
 "cells": [
  {
   "cell_type": "code",
   "execution_count": 2,
   "id": "d84e4c42",
   "metadata": {
    "ExecuteTime": {
     "end_time": "2022-01-24T05:39:32.648125Z",
     "start_time": "2022-01-24T05:39:32.640126Z"
    }
   },
   "outputs": [],
   "source": [
    "from scipy import stats\n",
    "import numpy as np"
   ]
  },
  {
   "cell_type": "code",
   "execution_count": 4,
   "id": "9b74837e",
   "metadata": {
    "ExecuteTime": {
     "end_time": "2022-01-24T05:40:27.244888Z",
     "start_time": "2022-01-24T05:40:27.220887Z"
    }
   },
   "outputs": [
    {
     "data": {
      "text/plain": [
       "-0.4714045207910317"
      ]
     },
     "execution_count": 4,
     "metadata": {},
     "output_type": "execute_result"
    }
   ],
   "source": [
    "t=(260-270)/(90/np.sqrt(18))\n",
    "t                                   #t-score value"
   ]
  },
  {
   "cell_type": "code",
   "execution_count": 5,
   "id": "9a65d868",
   "metadata": {
    "ExecuteTime": {
     "end_time": "2022-01-24T05:41:47.481848Z",
     "start_time": "2022-01-24T05:41:47.449681Z"
    }
   },
   "outputs": [
    {
     "data": {
      "text/plain": [
       "0.32167253567098364"
      ]
     },
     "execution_count": 5,
     "metadata": {},
     "output_type": "execute_result"
    }
   ],
   "source": [
    "stats.t.cdf(t,17)                  #probablity value for p(x<=260)"
   ]
  },
  {
   "cell_type": "code",
   "execution_count": null,
   "id": "54d527ba",
   "metadata": {},
   "outputs": [],
   "source": []
  }
 ],
 "metadata": {
  "kernelspec": {
   "display_name": "Python 3 (ipykernel)",
   "language": "python",
   "name": "python3"
  },
  "language_info": {
   "codemirror_mode": {
    "name": "ipython",
    "version": 3
   },
   "file_extension": ".py",
   "mimetype": "text/x-python",
   "name": "python",
   "nbconvert_exporter": "python",
   "pygments_lexer": "ipython3",
   "version": "3.9.7"
  },
  "varInspector": {
   "cols": {
    "lenName": 16,
    "lenType": 16,
    "lenVar": 40
   },
   "kernels_config": {
    "python": {
     "delete_cmd_postfix": "",
     "delete_cmd_prefix": "del ",
     "library": "var_list.py",
     "varRefreshCmd": "print(var_dic_list())"
    },
    "r": {
     "delete_cmd_postfix": ") ",
     "delete_cmd_prefix": "rm(",
     "library": "var_list.r",
     "varRefreshCmd": "cat(var_dic_list()) "
    }
   },
   "types_to_exclude": [
    "module",
    "function",
    "builtin_function_or_method",
    "instance",
    "_Feature"
   ],
   "window_display": false
  }
 },
 "nbformat": 4,
 "nbformat_minor": 5
}
