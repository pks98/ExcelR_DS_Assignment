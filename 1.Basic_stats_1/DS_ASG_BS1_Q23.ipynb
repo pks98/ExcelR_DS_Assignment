{
 "cells": [
  {
   "cell_type": "code",
   "execution_count": 1,
   "id": "375bd523",
   "metadata": {
    "ExecuteTime": {
     "end_time": "2022-01-24T05:57:54.880949Z",
     "start_time": "2022-01-24T05:57:54.216769Z"
    }
   },
   "outputs": [],
   "source": [
    "from scipy import stats"
   ]
  },
  {
   "cell_type": "code",
   "execution_count": 7,
   "id": "a99721bf",
   "metadata": {
    "ExecuteTime": {
     "end_time": "2022-01-24T05:58:11.450847Z",
     "start_time": "2022-01-24T05:58:11.426852Z"
    }
   },
   "outputs": [
    {
     "data": {
      "text/plain": [
       "2.0638985616280205"
      ]
     },
     "execution_count": 7,
     "metadata": {},
     "output_type": "execute_result"
    }
   ],
   "source": [
    "stats.t.ppf(0.975,24)   #t score for 95%"
   ]
  },
  {
   "cell_type": "code",
   "execution_count": 6,
   "id": "fccdd2c5",
   "metadata": {
    "ExecuteTime": {
     "end_time": "2022-01-24T05:58:09.040782Z",
     "start_time": "2022-01-24T05:58:09.032777Z"
    }
   },
   "outputs": [
    {
     "data": {
      "text/plain": [
       "2.1715446760080677"
      ]
     },
     "execution_count": 6,
     "metadata": {},
     "output_type": "execute_result"
    }
   ],
   "source": [
    "stats.t.ppf(0.98,24)    #t score for 96%"
   ]
  },
  {
   "cell_type": "code",
   "execution_count": 5,
   "id": "097e6dd9",
   "metadata": {
    "ExecuteTime": {
     "end_time": "2022-01-24T05:58:06.262859Z",
     "start_time": "2022-01-24T05:58:06.246938Z"
    }
   },
   "outputs": [
    {
     "data": {
      "text/plain": [
       "2.796939504772804"
      ]
     },
     "execution_count": 5,
     "metadata": {},
     "output_type": "execute_result"
    }
   ],
   "source": [
    "stats.t.ppf(0.995,24)   #t score for 99%"
   ]
  },
  {
   "cell_type": "code",
   "execution_count": null,
   "id": "9372e3a6",
   "metadata": {},
   "outputs": [],
   "source": []
  }
 ],
 "metadata": {
  "kernelspec": {
   "display_name": "Python 3 (ipykernel)",
   "language": "python",
   "name": "python3"
  },
  "language_info": {
   "codemirror_mode": {
    "name": "ipython",
    "version": 3
   },
   "file_extension": ".py",
   "mimetype": "text/x-python",
   "name": "python",
   "nbconvert_exporter": "python",
   "pygments_lexer": "ipython3",
   "version": "3.9.7"
  },
  "varInspector": {
   "cols": {
    "lenName": 16,
    "lenType": 16,
    "lenVar": 40
   },
   "kernels_config": {
    "python": {
     "delete_cmd_postfix": "",
     "delete_cmd_prefix": "del ",
     "library": "var_list.py",
     "varRefreshCmd": "print(var_dic_list())"
    },
    "r": {
     "delete_cmd_postfix": ") ",
     "delete_cmd_prefix": "rm(",
     "library": "var_list.r",
     "varRefreshCmd": "cat(var_dic_list()) "
    }
   },
   "types_to_exclude": [
    "module",
    "function",
    "builtin_function_or_method",
    "instance",
    "_Feature"
   ],
   "window_display": false
  }
 },
 "nbformat": 4,
 "nbformat_minor": 5
}
