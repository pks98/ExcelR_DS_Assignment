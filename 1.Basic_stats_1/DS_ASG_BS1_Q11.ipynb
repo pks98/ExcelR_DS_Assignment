{
 "cells": [
  {
   "cell_type": "code",
   "execution_count": 1,
   "id": "91e6b9c6",
   "metadata": {
    "ExecuteTime": {
     "end_time": "2022-01-19T15:41:32.677022Z",
     "start_time": "2022-01-19T15:41:31.478921Z"
    }
   },
   "outputs": [],
   "source": [
    "from scipy import stats\n",
    "import numpy as np"
   ]
  },
  {
   "cell_type": "code",
   "execution_count": 2,
   "id": "a4866653",
   "metadata": {
    "ExecuteTime": {
     "end_time": "2022-01-19T15:42:15.460156Z",
     "start_time": "2022-01-19T15:42:15.436134Z"
    }
   },
   "outputs": [],
   "source": [
    "sample_size=2000"
   ]
  },
  {
   "cell_type": "code",
   "execution_count": 3,
   "id": "0fc0bceb",
   "metadata": {
    "ExecuteTime": {
     "end_time": "2022-01-19T15:42:43.792513Z",
     "start_time": "2022-01-19T15:42:43.760502Z"
    }
   },
   "outputs": [
    {
     "data": {
      "text/plain": [
       "(198.738325292158, 201.261674707842)"
      ]
     },
     "execution_count": 3,
     "metadata": {},
     "output_type": "execute_result"
    }
   ],
   "source": [
    "stats.norm.interval(0.94,200,(30/np.sqrt(sample_size)))      #94% CI"
   ]
  },
  {
   "cell_type": "code",
   "execution_count": 4,
   "id": "3bf46f88",
   "metadata": {
    "ExecuteTime": {
     "end_time": "2022-01-19T15:44:35.336447Z",
     "start_time": "2022-01-19T15:44:35.312404Z"
    }
   },
   "outputs": [
    {
     "data": {
      "text/plain": [
       "(198.43943840429978, 201.56056159570022)"
      ]
     },
     "execution_count": 4,
     "metadata": {},
     "output_type": "execute_result"
    }
   ],
   "source": [
    "stats.norm.interval(0.98,200,(30/np.sqrt(sample_size)))      #98% CI"
   ]
  },
  {
   "cell_type": "code",
   "execution_count": 5,
   "id": "8cfb1d7a",
   "metadata": {
    "ExecuteTime": {
     "end_time": "2022-01-19T15:44:38.699623Z",
     "start_time": "2022-01-19T15:44:38.675598Z"
    }
   },
   "outputs": [
    {
     "data": {
      "text/plain": [
       "(198.62230334813333, 201.37769665186667)"
      ]
     },
     "execution_count": 5,
     "metadata": {},
     "output_type": "execute_result"
    }
   ],
   "source": [
    "stats.norm.interval(0.96,200,(30/np.sqrt(sample_size)))     #96% CI"
   ]
  }
 ],
 "metadata": {
  "kernelspec": {
   "display_name": "Python 3 (ipykernel)",
   "language": "python",
   "name": "python3"
  },
  "language_info": {
   "codemirror_mode": {
    "name": "ipython",
    "version": 3
   },
   "file_extension": ".py",
   "mimetype": "text/x-python",
   "name": "python",
   "nbconvert_exporter": "python",
   "pygments_lexer": "ipython3",
   "version": "3.9.7"
  },
  "varInspector": {
   "cols": {
    "lenName": 16,
    "lenType": 16,
    "lenVar": 40
   },
   "kernels_config": {
    "python": {
     "delete_cmd_postfix": "",
     "delete_cmd_prefix": "del ",
     "library": "var_list.py",
     "varRefreshCmd": "print(var_dic_list())"
    },
    "r": {
     "delete_cmd_postfix": ") ",
     "delete_cmd_prefix": "rm(",
     "library": "var_list.r",
     "varRefreshCmd": "cat(var_dic_list()) "
    }
   },
   "types_to_exclude": [
    "module",
    "function",
    "builtin_function_or_method",
    "instance",
    "_Feature"
   ],
   "window_display": false
  }
 },
 "nbformat": 4,
 "nbformat_minor": 5
}
