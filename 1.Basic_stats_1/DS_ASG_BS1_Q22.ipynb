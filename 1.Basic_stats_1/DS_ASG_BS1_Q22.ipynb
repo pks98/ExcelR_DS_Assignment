{
 "cells": [
  {
   "cell_type": "code",
   "execution_count": 1,
   "id": "0d706801",
   "metadata": {
    "ExecuteTime": {
     "end_time": "2022-01-16T16:43:39.891804Z",
     "start_time": "2022-01-16T16:43:39.261592Z"
    }
   },
   "outputs": [],
   "source": [
    "from scipy import stats"
   ]
  },
  {
   "cell_type": "code",
   "execution_count": 2,
   "id": "2f903a1f",
   "metadata": {
    "ExecuteTime": {
     "end_time": "2022-01-16T16:44:46.775729Z",
     "start_time": "2022-01-16T16:44:46.743746Z"
    }
   },
   "outputs": [
    {
     "data": {
      "text/plain": [
       "1.6448536269514722"
      ]
     },
     "execution_count": 2,
     "metadata": {},
     "output_type": "execute_result"
    }
   ],
   "source": [
    "stats.norm.ppf(0.95)      #Z score for 90% CI"
   ]
  },
  {
   "cell_type": "code",
   "execution_count": 3,
   "id": "e4f3f256",
   "metadata": {
    "ExecuteTime": {
     "end_time": "2022-01-16T16:45:18.102482Z",
     "start_time": "2022-01-16T16:45:18.086494Z"
    }
   },
   "outputs": [
    {
     "data": {
      "text/plain": [
       "1.8807936081512509"
      ]
     },
     "execution_count": 3,
     "metadata": {},
     "output_type": "execute_result"
    }
   ],
   "source": [
    "stats.norm.ppf(0.97)     #Z Score for 94% CI"
   ]
  },
  {
   "cell_type": "code",
   "execution_count": 5,
   "id": "68825aa3",
   "metadata": {
    "ExecuteTime": {
     "end_time": "2022-01-16T16:46:11.876046Z",
     "start_time": "2022-01-16T16:46:11.856062Z"
    }
   },
   "outputs": [
    {
     "data": {
      "text/plain": [
       "0.8416212335729143"
      ]
     },
     "execution_count": 5,
     "metadata": {},
     "output_type": "execute_result"
    }
   ],
   "source": [
    "stats.norm.ppf(0.80)    #Z score for 60% CI"
   ]
  }
 ],
 "metadata": {
  "kernelspec": {
   "display_name": "Python 3 (ipykernel)",
   "language": "python",
   "name": "python3"
  },
  "language_info": {
   "codemirror_mode": {
    "name": "ipython",
    "version": 3
   },
   "file_extension": ".py",
   "mimetype": "text/x-python",
   "name": "python",
   "nbconvert_exporter": "python",
   "pygments_lexer": "ipython3",
   "version": "3.9.7"
  },
  "varInspector": {
   "cols": {
    "lenName": 16,
    "lenType": 16,
    "lenVar": 40
   },
   "kernels_config": {
    "python": {
     "delete_cmd_postfix": "",
     "delete_cmd_prefix": "del ",
     "library": "var_list.py",
     "varRefreshCmd": "print(var_dic_list())"
    },
    "r": {
     "delete_cmd_postfix": ") ",
     "delete_cmd_prefix": "rm(",
     "library": "var_list.r",
     "varRefreshCmd": "cat(var_dic_list()) "
    }
   },
   "types_to_exclude": [
    "module",
    "function",
    "builtin_function_or_method",
    "instance",
    "_Feature"
   ],
   "window_display": false
  }
 },
 "nbformat": 4,
 "nbformat_minor": 5
}
