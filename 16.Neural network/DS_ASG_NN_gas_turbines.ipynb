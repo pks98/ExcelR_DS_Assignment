{
 "cells": [
  {
   "cell_type": "code",
   "execution_count": 1,
   "id": "899f0cb4",
   "metadata": {
    "ExecuteTime": {
     "end_time": "2022-03-11T10:49:10.134395Z",
     "start_time": "2022-03-11T10:49:00.076283Z"
    }
   },
   "outputs": [],
   "source": [
    "import pandas as pd \n",
    "from sklearn.model_selection import train_test_split\n",
    "from sklearn.preprocessing import StandardScaler\n",
    "from keras.models import Sequential\n",
    "from keras.layers import Dense "
   ]
  },
  {
   "cell_type": "code",
   "execution_count": 2,
   "id": "efa210b1",
   "metadata": {
    "ExecuteTime": {
     "end_time": "2022-03-11T10:49:10.246359Z",
     "start_time": "2022-03-11T10:49:10.134395Z"
    },
    "scrolled": true
   },
   "outputs": [
    {
     "data": {
      "text/html": [
       "<div>\n",
       "<style scoped>\n",
       "    .dataframe tbody tr th:only-of-type {\n",
       "        vertical-align: middle;\n",
       "    }\n",
       "\n",
       "    .dataframe tbody tr th {\n",
       "        vertical-align: top;\n",
       "    }\n",
       "\n",
       "    .dataframe thead th {\n",
       "        text-align: right;\n",
       "    }\n",
       "</style>\n",
       "<table border=\"1\" class=\"dataframe\">\n",
       "  <thead>\n",
       "    <tr style=\"text-align: right;\">\n",
       "      <th></th>\n",
       "      <th>AT</th>\n",
       "      <th>AP</th>\n",
       "      <th>AH</th>\n",
       "      <th>AFDP</th>\n",
       "      <th>GTEP</th>\n",
       "      <th>TIT</th>\n",
       "      <th>TAT</th>\n",
       "      <th>TEY</th>\n",
       "      <th>CDP</th>\n",
       "      <th>CO</th>\n",
       "      <th>NOX</th>\n",
       "    </tr>\n",
       "  </thead>\n",
       "  <tbody>\n",
       "    <tr>\n",
       "      <th>0</th>\n",
       "      <td>6.8594</td>\n",
       "      <td>1007.9</td>\n",
       "      <td>96.799</td>\n",
       "      <td>3.5000</td>\n",
       "      <td>19.663</td>\n",
       "      <td>1059.2</td>\n",
       "      <td>550.00</td>\n",
       "      <td>114.70</td>\n",
       "      <td>10.605</td>\n",
       "      <td>3.1547</td>\n",
       "      <td>82.722</td>\n",
       "    </tr>\n",
       "    <tr>\n",
       "      <th>1</th>\n",
       "      <td>6.7850</td>\n",
       "      <td>1008.4</td>\n",
       "      <td>97.118</td>\n",
       "      <td>3.4998</td>\n",
       "      <td>19.728</td>\n",
       "      <td>1059.3</td>\n",
       "      <td>550.00</td>\n",
       "      <td>114.72</td>\n",
       "      <td>10.598</td>\n",
       "      <td>3.2363</td>\n",
       "      <td>82.776</td>\n",
       "    </tr>\n",
       "    <tr>\n",
       "      <th>2</th>\n",
       "      <td>6.8977</td>\n",
       "      <td>1008.8</td>\n",
       "      <td>95.939</td>\n",
       "      <td>3.4824</td>\n",
       "      <td>19.779</td>\n",
       "      <td>1059.4</td>\n",
       "      <td>549.87</td>\n",
       "      <td>114.71</td>\n",
       "      <td>10.601</td>\n",
       "      <td>3.2012</td>\n",
       "      <td>82.468</td>\n",
       "    </tr>\n",
       "    <tr>\n",
       "      <th>3</th>\n",
       "      <td>7.0569</td>\n",
       "      <td>1009.2</td>\n",
       "      <td>95.249</td>\n",
       "      <td>3.4805</td>\n",
       "      <td>19.792</td>\n",
       "      <td>1059.6</td>\n",
       "      <td>549.99</td>\n",
       "      <td>114.72</td>\n",
       "      <td>10.606</td>\n",
       "      <td>3.1923</td>\n",
       "      <td>82.670</td>\n",
       "    </tr>\n",
       "    <tr>\n",
       "      <th>4</th>\n",
       "      <td>7.3978</td>\n",
       "      <td>1009.7</td>\n",
       "      <td>95.150</td>\n",
       "      <td>3.4976</td>\n",
       "      <td>19.765</td>\n",
       "      <td>1059.7</td>\n",
       "      <td>549.98</td>\n",
       "      <td>114.72</td>\n",
       "      <td>10.612</td>\n",
       "      <td>3.2484</td>\n",
       "      <td>82.311</td>\n",
       "    </tr>\n",
       "  </tbody>\n",
       "</table>\n",
       "</div>"
      ],
      "text/plain": [
       "       AT      AP      AH    AFDP    GTEP     TIT     TAT     TEY     CDP  \\\n",
       "0  6.8594  1007.9  96.799  3.5000  19.663  1059.2  550.00  114.70  10.605   \n",
       "1  6.7850  1008.4  97.118  3.4998  19.728  1059.3  550.00  114.72  10.598   \n",
       "2  6.8977  1008.8  95.939  3.4824  19.779  1059.4  549.87  114.71  10.601   \n",
       "3  7.0569  1009.2  95.249  3.4805  19.792  1059.6  549.99  114.72  10.606   \n",
       "4  7.3978  1009.7  95.150  3.4976  19.765  1059.7  549.98  114.72  10.612   \n",
       "\n",
       "       CO     NOX  \n",
       "0  3.1547  82.722  \n",
       "1  3.2363  82.776  \n",
       "2  3.2012  82.468  \n",
       "3  3.1923  82.670  \n",
       "4  3.2484  82.311  "
      ]
     },
     "execution_count": 2,
     "metadata": {},
     "output_type": "execute_result"
    }
   ],
   "source": [
    "df=pd.read_csv(\"gas_turbines.csv\")\n",
    "df.head()"
   ]
  },
  {
   "cell_type": "code",
   "execution_count": 3,
   "id": "9bfcd6d7",
   "metadata": {
    "ExecuteTime": {
     "end_time": "2022-03-11T10:49:10.278358Z",
     "start_time": "2022-03-11T10:49:10.246359Z"
    }
   },
   "outputs": [
    {
     "name": "stdout",
     "output_type": "stream",
     "text": [
      "<class 'pandas.core.frame.DataFrame'>\n",
      "RangeIndex: 15039 entries, 0 to 15038\n",
      "Data columns (total 11 columns):\n",
      " #   Column  Non-Null Count  Dtype  \n",
      "---  ------  --------------  -----  \n",
      " 0   AT      15039 non-null  float64\n",
      " 1   AP      15039 non-null  float64\n",
      " 2   AH      15039 non-null  float64\n",
      " 3   AFDP    15039 non-null  float64\n",
      " 4   GTEP    15039 non-null  float64\n",
      " 5   TIT     15039 non-null  float64\n",
      " 6   TAT     15039 non-null  float64\n",
      " 7   TEY     15039 non-null  float64\n",
      " 8   CDP     15039 non-null  float64\n",
      " 9   CO      15039 non-null  float64\n",
      " 10  NOX     15039 non-null  float64\n",
      "dtypes: float64(11)\n",
      "memory usage: 1.3 MB\n"
     ]
    }
   ],
   "source": [
    "df.info()"
   ]
  },
  {
   "cell_type": "code",
   "execution_count": 4,
   "id": "0a97388b",
   "metadata": {
    "ExecuteTime": {
     "end_time": "2022-03-11T10:49:10.310346Z",
     "start_time": "2022-03-11T10:49:10.286338Z"
    }
   },
   "outputs": [],
   "source": [
    "x=df.drop(\"TEY\",axis=1)\n",
    "y=df.TEY"
   ]
  },
  {
   "cell_type": "code",
   "execution_count": 5,
   "id": "9015b634",
   "metadata": {
    "ExecuteTime": {
     "end_time": "2022-03-11T10:49:10.358367Z",
     "start_time": "2022-03-11T10:49:10.310346Z"
    }
   },
   "outputs": [
    {
     "data": {
      "text/html": [
       "<div>\n",
       "<style scoped>\n",
       "    .dataframe tbody tr th:only-of-type {\n",
       "        vertical-align: middle;\n",
       "    }\n",
       "\n",
       "    .dataframe tbody tr th {\n",
       "        vertical-align: top;\n",
       "    }\n",
       "\n",
       "    .dataframe thead th {\n",
       "        text-align: right;\n",
       "    }\n",
       "</style>\n",
       "<table border=\"1\" class=\"dataframe\">\n",
       "  <thead>\n",
       "    <tr style=\"text-align: right;\">\n",
       "      <th></th>\n",
       "      <th>AT</th>\n",
       "      <th>AP</th>\n",
       "      <th>AH</th>\n",
       "      <th>AFDP</th>\n",
       "      <th>GTEP</th>\n",
       "      <th>TIT</th>\n",
       "      <th>TAT</th>\n",
       "      <th>CDP</th>\n",
       "      <th>CO</th>\n",
       "      <th>NOX</th>\n",
       "    </tr>\n",
       "  </thead>\n",
       "  <tbody>\n",
       "    <tr>\n",
       "      <th>0</th>\n",
       "      <td>6.8594</td>\n",
       "      <td>1007.9</td>\n",
       "      <td>96.799</td>\n",
       "      <td>3.5000</td>\n",
       "      <td>19.663</td>\n",
       "      <td>1059.2</td>\n",
       "      <td>550.00</td>\n",
       "      <td>10.605</td>\n",
       "      <td>3.1547</td>\n",
       "      <td>82.722</td>\n",
       "    </tr>\n",
       "    <tr>\n",
       "      <th>1</th>\n",
       "      <td>6.7850</td>\n",
       "      <td>1008.4</td>\n",
       "      <td>97.118</td>\n",
       "      <td>3.4998</td>\n",
       "      <td>19.728</td>\n",
       "      <td>1059.3</td>\n",
       "      <td>550.00</td>\n",
       "      <td>10.598</td>\n",
       "      <td>3.2363</td>\n",
       "      <td>82.776</td>\n",
       "    </tr>\n",
       "    <tr>\n",
       "      <th>2</th>\n",
       "      <td>6.8977</td>\n",
       "      <td>1008.8</td>\n",
       "      <td>95.939</td>\n",
       "      <td>3.4824</td>\n",
       "      <td>19.779</td>\n",
       "      <td>1059.4</td>\n",
       "      <td>549.87</td>\n",
       "      <td>10.601</td>\n",
       "      <td>3.2012</td>\n",
       "      <td>82.468</td>\n",
       "    </tr>\n",
       "    <tr>\n",
       "      <th>3</th>\n",
       "      <td>7.0569</td>\n",
       "      <td>1009.2</td>\n",
       "      <td>95.249</td>\n",
       "      <td>3.4805</td>\n",
       "      <td>19.792</td>\n",
       "      <td>1059.6</td>\n",
       "      <td>549.99</td>\n",
       "      <td>10.606</td>\n",
       "      <td>3.1923</td>\n",
       "      <td>82.670</td>\n",
       "    </tr>\n",
       "    <tr>\n",
       "      <th>4</th>\n",
       "      <td>7.3978</td>\n",
       "      <td>1009.7</td>\n",
       "      <td>95.150</td>\n",
       "      <td>3.4976</td>\n",
       "      <td>19.765</td>\n",
       "      <td>1059.7</td>\n",
       "      <td>549.98</td>\n",
       "      <td>10.612</td>\n",
       "      <td>3.2484</td>\n",
       "      <td>82.311</td>\n",
       "    </tr>\n",
       "  </tbody>\n",
       "</table>\n",
       "</div>"
      ],
      "text/plain": [
       "       AT      AP      AH    AFDP    GTEP     TIT     TAT     CDP      CO  \\\n",
       "0  6.8594  1007.9  96.799  3.5000  19.663  1059.2  550.00  10.605  3.1547   \n",
       "1  6.7850  1008.4  97.118  3.4998  19.728  1059.3  550.00  10.598  3.2363   \n",
       "2  6.8977  1008.8  95.939  3.4824  19.779  1059.4  549.87  10.601  3.2012   \n",
       "3  7.0569  1009.2  95.249  3.4805  19.792  1059.6  549.99  10.606  3.1923   \n",
       "4  7.3978  1009.7  95.150  3.4976  19.765  1059.7  549.98  10.612  3.2484   \n",
       "\n",
       "      NOX  \n",
       "0  82.722  \n",
       "1  82.776  \n",
       "2  82.468  \n",
       "3  82.670  \n",
       "4  82.311  "
      ]
     },
     "execution_count": 5,
     "metadata": {},
     "output_type": "execute_result"
    }
   ],
   "source": [
    "x.head()"
   ]
  },
  {
   "cell_type": "code",
   "execution_count": 6,
   "id": "5b19d3a0",
   "metadata": {
    "ExecuteTime": {
     "end_time": "2022-03-11T10:49:10.374330Z",
     "start_time": "2022-03-11T10:49:10.358367Z"
    }
   },
   "outputs": [
    {
     "data": {
      "text/plain": [
       "0    114.70\n",
       "1    114.72\n",
       "2    114.71\n",
       "3    114.72\n",
       "4    114.72\n",
       "Name: TEY, dtype: float64"
      ]
     },
     "execution_count": 6,
     "metadata": {},
     "output_type": "execute_result"
    }
   ],
   "source": [
    "y.head()"
   ]
  },
  {
   "cell_type": "code",
   "execution_count": 7,
   "id": "3dd8cfab",
   "metadata": {
    "ExecuteTime": {
     "end_time": "2022-03-11T10:49:10.406329Z",
     "start_time": "2022-03-11T10:49:10.374330Z"
    }
   },
   "outputs": [],
   "source": [
    "scalar=StandardScaler()\n",
    "x_scaled=scalar.fit_transform(x)"
   ]
  },
  {
   "cell_type": "code",
   "execution_count": 8,
   "id": "6d9bd9e9",
   "metadata": {
    "ExecuteTime": {
     "end_time": "2022-03-11T10:49:10.430325Z",
     "start_time": "2022-03-11T10:49:10.406329Z"
    }
   },
   "outputs": [
    {
     "data": {
      "text/plain": [
       "array([[-1.4397781 , -0.82664395,  1.28143632, ..., -1.35733078,\n",
       "         0.53201195,  1.3878449 ],\n",
       "       [-1.44960109, -0.74864748,  1.30456402, ..., -1.36367619,\n",
       "         0.56873344,  1.39300237],\n",
       "       [-1.43472138, -0.68625031,  1.21908576, ..., -1.36095673,\n",
       "         0.5529378 ,  1.36358566],\n",
       "       ...,\n",
       "       [-1.38626659, -1.07623263,  1.47697056, ..., -1.46792219,\n",
       "         2.69592467,  2.17006209],\n",
       "       [-1.42042259, -0.99823616,  1.44159024, ..., -1.42259784,\n",
       "         1.9246834 ,  2.391165  ],\n",
       "       [-1.43073409, -0.93583899,  1.33465179, ..., -1.37727349,\n",
       "         1.35415028,  2.32153907]])"
      ]
     },
     "execution_count": 8,
     "metadata": {},
     "output_type": "execute_result"
    }
   ],
   "source": [
    "x_scaled"
   ]
  },
  {
   "cell_type": "code",
   "execution_count": 9,
   "id": "98bcbb42",
   "metadata": {
    "ExecuteTime": {
     "end_time": "2022-03-11T10:49:10.454321Z",
     "start_time": "2022-03-11T10:49:10.430325Z"
    }
   },
   "outputs": [],
   "source": [
    "x_train,x_test,y_train,y_test=train_test_split(x_scaled,y,test_size=0.2,random_state=7)"
   ]
  },
  {
   "cell_type": "code",
   "execution_count": 10,
   "id": "76426510",
   "metadata": {
    "ExecuteTime": {
     "end_time": "2022-03-11T10:49:10.486320Z",
     "start_time": "2022-03-11T10:49:10.462320Z"
    }
   },
   "outputs": [
    {
     "data": {
      "text/plain": [
       "(15039, 10)"
      ]
     },
     "execution_count": 10,
     "metadata": {},
     "output_type": "execute_result"
    }
   ],
   "source": [
    "x_scaled.shape"
   ]
  },
  {
   "cell_type": "code",
   "execution_count": 11,
   "id": "6abe5fbe",
   "metadata": {
    "ExecuteTime": {
     "end_time": "2022-03-11T10:49:11.063215Z",
     "start_time": "2022-03-11T10:49:10.486320Z"
    }
   },
   "outputs": [],
   "source": [
    "model = Sequential()\n",
    "model.add(Dense(128, input_dim=10, activation='relu'))\n",
    "model.add(Dense(64, activation='relu'))\n",
    "model.add(Dense(1, activation='linear'))"
   ]
  },
  {
   "cell_type": "code",
   "execution_count": 12,
   "id": "1c9641e5",
   "metadata": {
    "ExecuteTime": {
     "end_time": "2022-03-11T10:49:11.143172Z",
     "start_time": "2022-03-11T10:49:11.063215Z"
    }
   },
   "outputs": [
    {
     "name": "stdout",
     "output_type": "stream",
     "text": [
      "Model: \"sequential\"\n",
      "_________________________________________________________________\n",
      " Layer (type)                Output Shape              Param #   \n",
      "=================================================================\n",
      " dense (Dense)               (None, 128)               1408      \n",
      "                                                                 \n",
      " dense_1 (Dense)             (None, 64)                8256      \n",
      "                                                                 \n",
      " dense_2 (Dense)             (None, 1)                 65        \n",
      "                                                                 \n",
      "=================================================================\n",
      "Total params: 9,729\n",
      "Trainable params: 9,729\n",
      "Non-trainable params: 0\n",
      "_________________________________________________________________\n"
     ]
    }
   ],
   "source": [
    "model.compile(loss=\"mean_squared_error\",optimizer='adam',metrics=['mae'])\n",
    "model.summary()"
   ]
  },
  {
   "cell_type": "code",
   "execution_count": 13,
   "id": "76e1bf14",
   "metadata": {
    "ExecuteTime": {
     "end_time": "2022-03-11T10:49:44.167880Z",
     "start_time": "2022-03-11T10:49:11.143172Z"
    }
   },
   "outputs": [
    {
     "name": "stdout",
     "output_type": "stream",
     "text": [
      "Epoch 1/50\n",
      "301/301 [==============================] - 1s 3ms/step - loss: 5625.8032 - mae: 56.9819 - val_loss: 339.8193 - val_mae: 14.4372\n",
      "Epoch 2/50\n",
      "301/301 [==============================] - 1s 2ms/step - loss: 226.8334 - mae: 11.4436 - val_loss: 150.2120 - val_mae: 9.1217\n",
      "Epoch 3/50\n",
      "301/301 [==============================] - 1s 2ms/step - loss: 119.1121 - mae: 7.8190 - val_loss: 89.0605 - val_mae: 6.6729\n",
      "Epoch 4/50\n",
      "301/301 [==============================] - 1s 2ms/step - loss: 75.9883 - mae: 6.0334 - val_loss: 57.9547 - val_mae: 5.2146\n",
      "Epoch 5/50\n",
      "301/301 [==============================] - 1s 2ms/step - loss: 50.1926 - mae: 4.7261 - val_loss: 37.9800 - val_mae: 4.1265\n",
      "Epoch 6/50\n",
      "301/301 [==============================] - 1s 2ms/step - loss: 32.5597 - mae: 3.7492 - val_loss: 24.7951 - val_mae: 3.2421\n",
      "Epoch 7/50\n",
      "301/301 [==============================] - 1s 2ms/step - loss: 20.9325 - mae: 2.9417 - val_loss: 15.2092 - val_mae: 2.5225\n",
      "Epoch 8/50\n",
      "301/301 [==============================] - 1s 2ms/step - loss: 13.2459 - mae: 2.3230 - val_loss: 9.5874 - val_mae: 1.9964\n",
      "Epoch 9/50\n",
      "301/301 [==============================] - 1s 2ms/step - loss: 8.6273 - mae: 1.8749 - val_loss: 5.9597 - val_mae: 1.5795\n",
      "Epoch 10/50\n",
      "301/301 [==============================] - 1s 2ms/step - loss: 5.4848 - mae: 1.4932 - val_loss: 4.1880 - val_mae: 1.3219\n",
      "Epoch 11/50\n",
      "301/301 [==============================] - 1s 2ms/step - loss: 3.5848 - mae: 1.2093 - val_loss: 2.9503 - val_mae: 1.0704\n",
      "Epoch 12/50\n",
      "301/301 [==============================] - 1s 2ms/step - loss: 2.5982 - mae: 1.0549 - val_loss: 1.7938 - val_mae: 0.9155\n",
      "Epoch 13/50\n",
      "301/301 [==============================] - 1s 2ms/step - loss: 1.8492 - mae: 0.9122 - val_loss: 1.2083 - val_mae: 0.7565\n",
      "Epoch 14/50\n",
      "301/301 [==============================] - 1s 3ms/step - loss: 1.3448 - mae: 0.7956 - val_loss: 1.1566 - val_mae: 0.7790\n",
      "Epoch 15/50\n",
      "301/301 [==============================] - 1s 2ms/step - loss: 1.0588 - mae: 0.7300 - val_loss: 0.8399 - val_mae: 0.6581\n",
      "Epoch 16/50\n",
      "301/301 [==============================] - 1s 2ms/step - loss: 0.8685 - mae: 0.6684 - val_loss: 0.8430 - val_mae: 0.6805\n",
      "Epoch 17/50\n",
      "301/301 [==============================] - 1s 3ms/step - loss: 0.7150 - mae: 0.6144 - val_loss: 0.7147 - val_mae: 0.6244\n",
      "Epoch 18/50\n",
      "301/301 [==============================] - 1s 2ms/step - loss: 0.6781 - mae: 0.6034 - val_loss: 0.5437 - val_mae: 0.5253\n",
      "Epoch 19/50\n",
      "301/301 [==============================] - 1s 2ms/step - loss: 0.6004 - mae: 0.5673 - val_loss: 0.5609 - val_mae: 0.5496\n",
      "Epoch 20/50\n",
      "301/301 [==============================] - 1s 2ms/step - loss: 0.5689 - mae: 0.5557 - val_loss: 0.5160 - val_mae: 0.5366\n",
      "Epoch 21/50\n",
      "301/301 [==============================] - 1s 2ms/step - loss: 0.5494 - mae: 0.5456 - val_loss: 0.5139 - val_mae: 0.5255\n",
      "Epoch 22/50\n",
      "301/301 [==============================] - 1s 2ms/step - loss: 0.5250 - mae: 0.5361 - val_loss: 0.6210 - val_mae: 0.5973\n",
      "Epoch 23/50\n",
      "301/301 [==============================] - 1s 2ms/step - loss: 0.5253 - mae: 0.5386 - val_loss: 0.3895 - val_mae: 0.4465\n",
      "Epoch 24/50\n",
      "301/301 [==============================] - 1s 2ms/step - loss: 0.5336 - mae: 0.5361 - val_loss: 0.4246 - val_mae: 0.4883\n",
      "Epoch 25/50\n",
      "301/301 [==============================] - 1s 2ms/step - loss: 0.6006 - mae: 0.5661 - val_loss: 0.6195 - val_mae: 0.5811\n",
      "Epoch 26/50\n",
      "301/301 [==============================] - 1s 2ms/step - loss: 0.4792 - mae: 0.5092 - val_loss: 0.4109 - val_mae: 0.4688\n",
      "Epoch 27/50\n",
      "301/301 [==============================] - 1s 2ms/step - loss: 0.4966 - mae: 0.5257 - val_loss: 0.6949 - val_mae: 0.5929\n",
      "Epoch 28/50\n",
      "301/301 [==============================] - 1s 2ms/step - loss: 0.5125 - mae: 0.5341 - val_loss: 0.3921 - val_mae: 0.4571\n",
      "Epoch 29/50\n",
      "301/301 [==============================] - 1s 2ms/step - loss: 0.4831 - mae: 0.5258 - val_loss: 0.3903 - val_mae: 0.4580\n",
      "Epoch 30/50\n",
      "301/301 [==============================] - 1s 2ms/step - loss: 0.5173 - mae: 0.5371 - val_loss: 0.4097 - val_mae: 0.4567\n",
      "Epoch 31/50\n",
      "301/301 [==============================] - 1s 2ms/step - loss: 0.4731 - mae: 0.5144 - val_loss: 0.3746 - val_mae: 0.4599\n",
      "Epoch 32/50\n",
      "301/301 [==============================] - 1s 2ms/step - loss: 0.4834 - mae: 0.5170 - val_loss: 0.4640 - val_mae: 0.5082\n",
      "Epoch 33/50\n",
      "301/301 [==============================] - 1s 2ms/step - loss: 0.4945 - mae: 0.5266 - val_loss: 0.6764 - val_mae: 0.6643\n",
      "Epoch 34/50\n",
      "301/301 [==============================] - 1s 2ms/step - loss: 0.5310 - mae: 0.5354 - val_loss: 0.4352 - val_mae: 0.4917\n",
      "Epoch 35/50\n",
      "301/301 [==============================] - 1s 2ms/step - loss: 0.4981 - mae: 0.5159 - val_loss: 0.8864 - val_mae: 0.7220\n",
      "Epoch 36/50\n",
      "301/301 [==============================] - 1s 2ms/step - loss: 0.4843 - mae: 0.5158 - val_loss: 0.3606 - val_mae: 0.4375\n",
      "Epoch 37/50\n",
      "301/301 [==============================] - 1s 2ms/step - loss: 0.4505 - mae: 0.5015 - val_loss: 0.5016 - val_mae: 0.5277\n",
      "Epoch 38/50\n",
      "301/301 [==============================] - 1s 2ms/step - loss: 0.4519 - mae: 0.4994 - val_loss: 0.3184 - val_mae: 0.4012\n",
      "Epoch 39/50\n",
      "301/301 [==============================] - 1s 2ms/step - loss: 0.4513 - mae: 0.5021 - val_loss: 0.4417 - val_mae: 0.4835\n",
      "Epoch 40/50\n",
      "301/301 [==============================] - 1s 2ms/step - loss: 0.4884 - mae: 0.5209 - val_loss: 0.3483 - val_mae: 0.4244\n",
      "Epoch 41/50\n",
      "301/301 [==============================] - 1s 2ms/step - loss: 0.4759 - mae: 0.5149 - val_loss: 0.5873 - val_mae: 0.5209\n",
      "Epoch 42/50\n",
      "301/301 [==============================] - 1s 2ms/step - loss: 0.4884 - mae: 0.5217 - val_loss: 0.4319 - val_mae: 0.4939\n",
      "Epoch 43/50\n",
      "301/301 [==============================] - 1s 2ms/step - loss: 0.6312 - mae: 0.5773 - val_loss: 0.4500 - val_mae: 0.4889\n",
      "Epoch 44/50\n",
      "301/301 [==============================] - 1s 2ms/step - loss: 0.4245 - mae: 0.4862 - val_loss: 0.3674 - val_mae: 0.4440\n",
      "Epoch 45/50\n",
      "301/301 [==============================] - 1s 2ms/step - loss: 0.4872 - mae: 0.5230 - val_loss: 0.5904 - val_mae: 0.5764\n",
      "Epoch 46/50\n",
      "301/301 [==============================] - 1s 2ms/step - loss: 0.4320 - mae: 0.4937 - val_loss: 0.3313 - val_mae: 0.4273\n",
      "Epoch 47/50\n",
      "301/301 [==============================] - 1s 2ms/step - loss: 0.4794 - mae: 0.5183 - val_loss: 0.5470 - val_mae: 0.5521\n",
      "Epoch 48/50\n",
      "301/301 [==============================] - 1s 2ms/step - loss: 0.4681 - mae: 0.5115 - val_loss: 0.5161 - val_mae: 0.5606\n",
      "Epoch 49/50\n",
      "301/301 [==============================] - 1s 2ms/step - loss: 0.4859 - mae: 0.5167 - val_loss: 0.5071 - val_mae: 0.5448\n",
      "Epoch 50/50\n",
      "301/301 [==============================] - 1s 2ms/step - loss: 0.4427 - mae: 0.4937 - val_loss: 0.3038 - val_mae: 0.4006\n"
     ]
    }
   ],
   "source": [
    "history=model.fit(x_train,y_train,validation_split=0.2,epochs=50)"
   ]
  },
  {
   "cell_type": "code",
   "execution_count": 19,
   "id": "3d8acb81",
   "metadata": {
    "ExecuteTime": {
     "end_time": "2022-03-11T10:50:52.071367Z",
     "start_time": "2022-03-11T10:50:51.870144Z"
    }
   },
   "outputs": [
    {
     "data": {
      "image/png": "[encoded data removed]",
      "text/plain": [
       "<Figure size 432x288 with 1 Axes>"
      ]
     },
     "metadata": {
      "needs_background": "light"
     },
     "output_type": "display_data"
    }
   ],
   "source": [
    "import matplotlib.pyplot as plt\n",
    "\n",
    "loss = history.history['loss']\n",
    "val_loss = history.history['val_loss']\n",
    "epochs = range(1, len(loss) + 1)\n",
    "plt.plot(epochs, loss, 'b', label='Training loss')\n",
    "plt.plot(epochs, val_loss, 'y', label='Validation loss')\n",
    "plt.title('Training and validation loss')\n",
    "plt.xlabel('Epochs')\n",
    "plt.ylabel('Loss')\n",
    "plt.legend()\n",
    "plt.show()"
   ]
  },
  {
   "cell_type": "code",
   "execution_count": 20,
   "id": "ed02621b",
   "metadata": {
    "ExecuteTime": {
     "end_time": "2022-03-11T10:51:04.562125Z",
     "start_time": "2022-03-11T10:51:04.346148Z"
    }
   },
   "outputs": [
    {
     "data": {
      "image/png": "[encoded data removed]",
      "text/plain": [
       "<Figure size 432x288 with 1 Axes>"
      ]
     },
     "metadata": {
      "needs_background": "light"
     },
     "output_type": "display_data"
    }
   ],
   "source": [
    "acc = history.history['mae']\n",
    "val_acc = history.history['val_mae']\n",
    "plt.plot(epochs, acc, 'b', label='Training MAE')\n",
    "plt.plot(epochs, val_acc, 'y', label='Validation MAE')\n",
    "plt.title('Training and validation MAE')\n",
    "plt.xlabel('Epochs')\n",
    "plt.ylabel('Accuracy')\n",
    "plt.legend()\n",
    "plt.show()"
   ]
  },
  {
   "cell_type": "code",
   "execution_count": 16,
   "id": "e8f936ee",
   "metadata": {
    "ExecuteTime": {
     "end_time": "2022-03-11T10:49:45.427755Z",
     "start_time": "2022-03-11T10:49:45.267823Z"
    }
   },
   "outputs": [
    {
     "name": "stdout",
     "output_type": "stream",
     "text": [
      "Predicted values are:  [[160.197  ]\n",
      " [154.76675]\n",
      " [152.19019]\n",
      " [132.70192]\n",
      " [105.00695]]\n",
      "Real values are:  7118     160.05\n",
      "2711     156.00\n",
      "2018     153.15\n",
      "2091     132.54\n",
      "11369    105.31\n",
      "Name: TEY, dtype: float64\n"
     ]
    }
   ],
   "source": [
    "#Predict on test data\n",
    "predictions = model.predict(x_test[:5])\n",
    "print(\"Predicted values are: \", predictions)\n",
    "print(\"Real values are: \", y_test[:5])"
   ]
  }
 ],
 "metadata": {
  "kernelspec": {
   "display_name": "Python 3 (ipykernel)",
   "language": "python",
   "name": "python3"
  },
  "language_info": {
   "codemirror_mode": {
    "name": "ipython",
    "version": 3
   },
   "file_extension": ".py",
   "mimetype": "text/x-python",
   "name": "python",
   "nbconvert_exporter": "python",
   "pygments_lexer": "ipython3",
   "version": "3.9.7"
  },
  "varInspector": {
   "cols": {
    "lenName": 16,
    "lenType": 16,
    "lenVar": 40
   },
   "kernels_config": {
    "python": {
     "delete_cmd_postfix": "",
     "delete_cmd_prefix": "del ",
     "library": "var_list.py",
     "varRefreshCmd": "print(var_dic_list())"
    },
    "r": {
     "delete_cmd_postfix": ") ",
     "delete_cmd_prefix": "rm(",
     "library": "var_list.r",
     "varRefreshCmd": "cat(var_dic_list()) "
    }
   },
   "types_to_exclude": [
    "module",
    "function",
    "builtin_function_or_method",
    "instance",
    "_Feature"
   ],
   "window_display": false
  }
 },
 "nbformat": 4,
 "nbformat_minor": 5
}
